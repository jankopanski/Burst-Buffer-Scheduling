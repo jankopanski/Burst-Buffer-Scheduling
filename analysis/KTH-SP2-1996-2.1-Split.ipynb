{
 "cells": [
  {
   "cell_type": "code",
   "execution_count": 9,
   "metadata": {},
   "outputs": [],
   "source": [
    "from evalys.workload import Workload"
   ]
  },
  {
   "cell_type": "code",
   "execution_count": 1,
   "metadata": {},
   "outputs": [],
   "source": [
    "start = 599850\n",
    "end = 29363618\n",
    "duration = end - start"
   ]
  },
  {
   "cell_type": "code",
   "execution_count": 2,
   "metadata": {},
   "outputs": [
    {
     "data": {
      "text/plain": [
       "20.807123842592592"
      ]
     },
     "execution_count": 2,
     "metadata": {},
     "output_type": "execute_result"
    }
   ],
   "source": [
    "duration/16/60/60/24"
   ]
  },
  {
   "cell_type": "code",
   "execution_count": 6,
   "metadata": {},
   "outputs": [
    {
     "data": {
      "text/plain": [
       "1797736"
      ]
     },
     "execution_count": 6,
     "metadata": {},
     "output_type": "execute_result"
    }
   ],
   "source": [
    "period = round(duration / 16)\n",
    "period"
   ]
  },
  {
   "cell_type": "code",
   "execution_count": 20,
   "metadata": {},
   "outputs": [
    {
     "data": {
      "text/plain": [
       "[(0, 599850),\n",
       " (1, 2397586),\n",
       " (2, 4195322),\n",
       " (3, 5993058),\n",
       " (4, 7790794),\n",
       " (5, 9588530),\n",
       " (6, 11386266),\n",
       " (7, 13184002),\n",
       " (8, 14981738),\n",
       " (9, 16779474),\n",
       " (10, 18577210),\n",
       " (11, 20374946),\n",
       " (12, 22172682),\n",
       " (13, 23970418),\n",
       " (14, 25768154),\n",
       " (15, 27565890)]"
      ]
     },
     "execution_count": 20,
     "metadata": {},
     "output_type": "execute_result"
    }
   ],
   "source": [
    "period_start_times = [(i, start + i * period) for i in range(16)]\n",
    "period_start_times"
   ]
  },
  {
   "cell_type": "code",
   "execution_count": 10,
   "metadata": {},
   "outputs": [],
   "source": [
    "input_location = '../../swf/KTH-SP2-1996-2.1-cln.swf'\n",
    "workload = Workload.from_csv(input_location)"
   ]
  },
  {
   "cell_type": "code",
   "execution_count": 24,
   "metadata": {},
   "outputs": [],
   "source": [
    "df = workload.df[['jobID', 'submission_time']]"
   ]
  },
  {
   "cell_type": "code",
   "execution_count": 21,
   "metadata": {},
   "outputs": [],
   "source": [
    "def period_index(t):\n",
    "    for i, period_start in reversed(period_start_times):\n",
    "        if t >= period_start:\n",
    "            return i"
   ]
  },
  {
   "cell_type": "code",
   "execution_count": 27,
   "metadata": {},
   "outputs": [
    {
     "name": "stderr",
     "output_type": "stream",
     "text": [
      "<ipython-input-27-1bdf429abec0>:1: SettingWithCopyWarning: \n",
      "A value is trying to be set on a copy of a slice from a DataFrame.\n",
      "Try using .loc[row_indexer,col_indexer] = value instead\n",
      "\n",
      "See the caveats in the documentation: http://pandas.pydata.org/pandas-docs/stable/user_guide/indexing.html#returning-a-view-versus-a-copy\n",
      "  df['period'] = df.apply(lambda r: period_index(r.submission_time), axis=1)\n"
     ]
    }
   ],
   "source": [
    "df['period'] = df.apply(lambda r: period_index(r.submission_time), axis=1)"
   ]
  },
  {
   "cell_type": "code",
   "execution_count": 31,
   "metadata": {},
   "outputs": [
    {
     "data": {
      "text/html": [
       "<div>\n",
       "<style scoped>\n",
       "    .dataframe tbody tr th:only-of-type {\n",
       "        vertical-align: middle;\n",
       "    }\n",
       "\n",
       "    .dataframe tbody tr th {\n",
       "        vertical-align: top;\n",
       "    }\n",
       "\n",
       "    .dataframe thead th {\n",
       "        text-align: right;\n",
       "    }\n",
       "</style>\n",
       "<table border=\"1\" class=\"dataframe\">\n",
       "  <thead>\n",
       "    <tr style=\"text-align: right;\">\n",
       "      <th></th>\n",
       "      <th>jobID</th>\n",
       "      <th>submission_time</th>\n",
       "    </tr>\n",
       "    <tr>\n",
       "      <th>period</th>\n",
       "      <th></th>\n",
       "      <th></th>\n",
       "    </tr>\n",
       "  </thead>\n",
       "  <tbody>\n",
       "    <tr>\n",
       "      <th>0</th>\n",
       "      <td>16</td>\n",
       "      <td>600022</td>\n",
       "    </tr>\n",
       "    <tr>\n",
       "      <th>1</th>\n",
       "      <td>1781</td>\n",
       "      <td>2397789</td>\n",
       "    </tr>\n",
       "    <tr>\n",
       "      <th>2</th>\n",
       "      <td>3003</td>\n",
       "      <td>4215297</td>\n",
       "    </tr>\n",
       "    <tr>\n",
       "      <th>3</th>\n",
       "      <td>4535</td>\n",
       "      <td>5993848</td>\n",
       "    </tr>\n",
       "    <tr>\n",
       "      <th>4</th>\n",
       "      <td>6281</td>\n",
       "      <td>7795474</td>\n",
       "    </tr>\n",
       "    <tr>\n",
       "      <th>5</th>\n",
       "      <td>7847</td>\n",
       "      <td>9588568</td>\n",
       "    </tr>\n",
       "    <tr>\n",
       "      <th>6</th>\n",
       "      <td>9785</td>\n",
       "      <td>11392171</td>\n",
       "    </tr>\n",
       "    <tr>\n",
       "      <th>7</th>\n",
       "      <td>12019</td>\n",
       "      <td>13206318</td>\n",
       "    </tr>\n",
       "    <tr>\n",
       "      <th>8</th>\n",
       "      <td>13666</td>\n",
       "      <td>14986286</td>\n",
       "    </tr>\n",
       "    <tr>\n",
       "      <th>9</th>\n",
       "      <td>15040</td>\n",
       "      <td>16790967</td>\n",
       "    </tr>\n",
       "    <tr>\n",
       "      <th>10</th>\n",
       "      <td>17077</td>\n",
       "      <td>18581496</td>\n",
       "    </tr>\n",
       "    <tr>\n",
       "      <th>11</th>\n",
       "      <td>20017</td>\n",
       "      <td>20382835</td>\n",
       "    </tr>\n",
       "    <tr>\n",
       "      <th>12</th>\n",
       "      <td>22264</td>\n",
       "      <td>22182432</td>\n",
       "    </tr>\n",
       "    <tr>\n",
       "      <th>13</th>\n",
       "      <td>24157</td>\n",
       "      <td>23972363</td>\n",
       "    </tr>\n",
       "    <tr>\n",
       "      <th>14</th>\n",
       "      <td>25850</td>\n",
       "      <td>25769862</td>\n",
       "    </tr>\n",
       "    <tr>\n",
       "      <th>15</th>\n",
       "      <td>27155</td>\n",
       "      <td>27567330</td>\n",
       "    </tr>\n",
       "  </tbody>\n",
       "</table>\n",
       "</div>"
      ],
      "text/plain": [
       "        jobID  submission_time\n",
       "period                        \n",
       "0          16           600022\n",
       "1        1781          2397789\n",
       "2        3003          4215297\n",
       "3        4535          5993848\n",
       "4        6281          7795474\n",
       "5        7847          9588568\n",
       "6        9785         11392171\n",
       "7       12019         13206318\n",
       "8       13666         14986286\n",
       "9       15040         16790967\n",
       "10      17077         18581496\n",
       "11      20017         20382835\n",
       "12      22264         22182432\n",
       "13      24157         23972363\n",
       "14      25850         25769862\n",
       "15      27155         27567330"
      ]
     },
     "execution_count": 31,
     "metadata": {},
     "output_type": "execute_result"
    }
   ],
   "source": [
    "# Job numbers from the beginning of every period. Except of job 16, should be 15, but there is a bug in evalys read.\n",
    "df.groupby('period').min()"
   ]
  },
  {
   "cell_type": "code",
   "execution_count": 33,
   "metadata": {},
   "outputs": [],
   "source": [
    "bounds = [\n",
    "    (15, 1780),\n",
    "    (1781, 3002),\n",
    "    (3003, 4534),\n",
    "    (4535, 6280),\n",
    "    (6281, 7846),\n",
    "    (7847, 9784),\n",
    "    (9785, 12018),\n",
    "    (12019, 13665),\n",
    "    (13666, 15039),\n",
    "    (15040, 17076),\n",
    "    (17077, 20016),\n",
    "    (20017, 22263),\n",
    "    (22264, 24156),\n",
    "    (24157, 25849),\n",
    "    (25850, 27154),\n",
    "    (27154, 28490)\n",
    "]"
   ]
  },
  {
   "cell_type": "code",
   "execution_count": 35,
   "metadata": {},
   "outputs": [
    {
     "data": {
      "text/plain": [
       "[(15, 1766),\n",
       " (1781, 1222),\n",
       " (3003, 1532),\n",
       " (4535, 1746),\n",
       " (6281, 1566),\n",
       " (7847, 1938),\n",
       " (9785, 2234),\n",
       " (12019, 1647),\n",
       " (13666, 1374),\n",
       " (15040, 2037),\n",
       " (17077, 2940),\n",
       " (20017, 2247),\n",
       " (22264, 1893),\n",
       " (24157, 1693),\n",
       " (25850, 1305),\n",
       " (27154, 1337)]"
      ]
     },
     "execution_count": 35,
     "metadata": {},
     "output_type": "execute_result"
    }
   ],
   "source": [
    "[(start_id, end_id - start_id + 1) for start_id, end_id in bounds]"
   ]
  },
  {
   "cell_type": "code",
   "execution_count": null,
   "metadata": {},
   "outputs": [],
   "source": []
  }
 ],
 "metadata": {
  "kernelspec": {
   "display_name": "Python 3",
   "language": "python",
   "name": "python3"
  },
  "language_info": {
   "codemirror_mode": {
    "name": "ipython",
    "version": 3
   },
   "file_extension": ".py",
   "mimetype": "text/x-python",
   "name": "python",
   "nbconvert_exporter": "python",
   "pygments_lexer": "ipython3",
   "version": "3.8.5"
  }
 },
 "nbformat": 4,
 "nbformat_minor": 4
}
