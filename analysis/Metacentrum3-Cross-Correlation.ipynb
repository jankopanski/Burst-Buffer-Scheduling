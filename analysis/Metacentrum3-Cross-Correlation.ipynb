{
 "cells": [
  {
   "cell_type": "code",
   "execution_count": 2,
   "metadata": {},
   "outputs": [
    {
     "data": {
      "text/html": [
       "<style>.container { width:100% !important; }</style>"
      ],
      "text/plain": [
       "<IPython.core.display.HTML object>"
      ]
     },
     "metadata": {},
     "output_type": "display_data"
    }
   ],
   "source": [
    "from IPython.core.display import display, HTML\n",
    "from warnings import filterwarnings\n",
    "display(HTML(\"<style>.container { width:100% !important; }</style>\"))\n",
    "# filterwarnings(action='ignore')"
   ]
  },
  {
   "cell_type": "code",
   "execution_count": 48,
   "metadata": {},
   "outputs": [],
   "source": [
    "# conda\n",
    "import numpy as np\n",
    "import scipy.stats as ss\n",
    "import pandas as pd\n",
    "import statsmodels.api as sm\n",
    "import matplotlib.pyplot as plt\n",
    "import seaborn as sns\n",
    "\n",
    "from fitter import Fitter\n",
    "\n",
    "# pip\n",
    "from evalys.workload import Workload"
   ]
  },
  {
   "cell_type": "code",
   "execution_count": 4,
   "metadata": {},
   "outputs": [],
   "source": [
    "input_location = '../../swf/METACENTRUM-2013-3.swf'"
   ]
  },
  {
   "cell_type": "code",
   "execution_count": 5,
   "metadata": {},
   "outputs": [
    {
     "name": "stderr",
     "output_type": "stream",
     "text": [
      "/usr/local/anaconda3/envs/pybatsim/lib/python3.8/site-packages/IPython/core/interactiveshell.py:3254: DtypeWarning: Columns (15) have mixed types. Specify dtype option on import or set low_memory=False.\n",
      "  if (await self.run_code(code, result,  async_=asy)):\n"
     ]
    }
   ],
   "source": [
    "workload = Workload.from_csv(input_location)"
   ]
  },
  {
   "cell_type": "code",
   "execution_count": 6,
   "metadata": {},
   "outputs": [
    {
     "data": {
      "text/html": [
       "<div>\n",
       "<style scoped>\n",
       "    .dataframe tbody tr th:only-of-type {\n",
       "        vertical-align: middle;\n",
       "    }\n",
       "\n",
       "    .dataframe tbody tr th {\n",
       "        vertical-align: top;\n",
       "    }\n",
       "\n",
       "    .dataframe thead th {\n",
       "        text-align: right;\n",
       "    }\n",
       "</style>\n",
       "<table border=\"1\" class=\"dataframe\">\n",
       "  <thead>\n",
       "    <tr style=\"text-align: right;\">\n",
       "      <th></th>\n",
       "      <th>jobID</th>\n",
       "      <th>submission_time</th>\n",
       "      <th>waiting_time</th>\n",
       "      <th>execution_time</th>\n",
       "      <th>proc_alloc</th>\n",
       "      <th>cpu_used</th>\n",
       "      <th>mem_used</th>\n",
       "      <th>proc_req</th>\n",
       "      <th>user_est</th>\n",
       "      <th>mem_req</th>\n",
       "      <th>status</th>\n",
       "      <th>uid</th>\n",
       "      <th>gid</th>\n",
       "      <th>exe_num</th>\n",
       "      <th>queue</th>\n",
       "      <th>partition</th>\n",
       "      <th>prev_jobs</th>\n",
       "      <th>think_time</th>\n",
       "    </tr>\n",
       "  </thead>\n",
       "  <tbody>\n",
       "    <tr>\n",
       "      <th>0</th>\n",
       "      <td>2</td>\n",
       "      <td>5</td>\n",
       "      <td>2</td>\n",
       "      <td>1053</td>\n",
       "      <td>1</td>\n",
       "      <td>-1</td>\n",
       "      <td>-1</td>\n",
       "      <td>1</td>\n",
       "      <td>86400</td>\n",
       "      <td>409600</td>\n",
       "      <td>-1</td>\n",
       "      <td>2</td>\n",
       "      <td>-1</td>\n",
       "      <td>-1</td>\n",
       "      <td>12</td>\n",
       "      <td>25</td>\n",
       "      <td>-1</td>\n",
       "      <td>-1</td>\n",
       "    </tr>\n",
       "    <tr>\n",
       "      <th>1</th>\n",
       "      <td>3</td>\n",
       "      <td>6</td>\n",
       "      <td>6</td>\n",
       "      <td>928</td>\n",
       "      <td>1</td>\n",
       "      <td>-1</td>\n",
       "      <td>-1</td>\n",
       "      <td>1</td>\n",
       "      <td>86400</td>\n",
       "      <td>409600</td>\n",
       "      <td>-1</td>\n",
       "      <td>2</td>\n",
       "      <td>-1</td>\n",
       "      <td>-1</td>\n",
       "      <td>12</td>\n",
       "      <td>25</td>\n",
       "      <td>-1</td>\n",
       "      <td>-1</td>\n",
       "    </tr>\n",
       "    <tr>\n",
       "      <th>2</th>\n",
       "      <td>4</td>\n",
       "      <td>6</td>\n",
       "      <td>9</td>\n",
       "      <td>778</td>\n",
       "      <td>1</td>\n",
       "      <td>-1</td>\n",
       "      <td>-1</td>\n",
       "      <td>1</td>\n",
       "      <td>86400</td>\n",
       "      <td>409600</td>\n",
       "      <td>-1</td>\n",
       "      <td>2</td>\n",
       "      <td>-1</td>\n",
       "      <td>-1</td>\n",
       "      <td>12</td>\n",
       "      <td>25</td>\n",
       "      <td>-1</td>\n",
       "      <td>-1</td>\n",
       "    </tr>\n",
       "    <tr>\n",
       "      <th>3</th>\n",
       "      <td>5</td>\n",
       "      <td>7</td>\n",
       "      <td>15</td>\n",
       "      <td>809</td>\n",
       "      <td>1</td>\n",
       "      <td>-1</td>\n",
       "      <td>-1</td>\n",
       "      <td>1</td>\n",
       "      <td>86400</td>\n",
       "      <td>409600</td>\n",
       "      <td>-1</td>\n",
       "      <td>2</td>\n",
       "      <td>-1</td>\n",
       "      <td>-1</td>\n",
       "      <td>12</td>\n",
       "      <td>21</td>\n",
       "      <td>-1</td>\n",
       "      <td>-1</td>\n",
       "    </tr>\n",
       "    <tr>\n",
       "      <th>4</th>\n",
       "      <td>6</td>\n",
       "      <td>10</td>\n",
       "      <td>15</td>\n",
       "      <td>1177</td>\n",
       "      <td>1</td>\n",
       "      <td>-1</td>\n",
       "      <td>-1</td>\n",
       "      <td>1</td>\n",
       "      <td>86400</td>\n",
       "      <td>409600</td>\n",
       "      <td>-1</td>\n",
       "      <td>2</td>\n",
       "      <td>-1</td>\n",
       "      <td>-1</td>\n",
       "      <td>12</td>\n",
       "      <td>21</td>\n",
       "      <td>-1</td>\n",
       "      <td>-1</td>\n",
       "    </tr>\n",
       "    <tr>\n",
       "      <th>...</th>\n",
       "      <td>...</td>\n",
       "      <td>...</td>\n",
       "      <td>...</td>\n",
       "      <td>...</td>\n",
       "      <td>...</td>\n",
       "      <td>...</td>\n",
       "      <td>...</td>\n",
       "      <td>...</td>\n",
       "      <td>...</td>\n",
       "      <td>...</td>\n",
       "      <td>...</td>\n",
       "      <td>...</td>\n",
       "      <td>...</td>\n",
       "      <td>...</td>\n",
       "      <td>...</td>\n",
       "      <td>...</td>\n",
       "      <td>...</td>\n",
       "      <td>...</td>\n",
       "    </tr>\n",
       "    <tr>\n",
       "      <th>5731094</th>\n",
       "      <td>5731096</td>\n",
       "      <td>62985547</td>\n",
       "      <td>105400</td>\n",
       "      <td>37737</td>\n",
       "      <td>1</td>\n",
       "      <td>-1</td>\n",
       "      <td>-1</td>\n",
       "      <td>1</td>\n",
       "      <td>86400</td>\n",
       "      <td>409600</td>\n",
       "      <td>-1</td>\n",
       "      <td>182</td>\n",
       "      <td>-1</td>\n",
       "      <td>-1</td>\n",
       "      <td>9</td>\n",
       "      <td>13</td>\n",
       "      <td>-1</td>\n",
       "      <td>-1</td>\n",
       "    </tr>\n",
       "    <tr>\n",
       "      <th>5731095</th>\n",
       "      <td>5731097</td>\n",
       "      <td>62985548</td>\n",
       "      <td>105404</td>\n",
       "      <td>27914</td>\n",
       "      <td>1</td>\n",
       "      <td>-1</td>\n",
       "      <td>-1</td>\n",
       "      <td>1</td>\n",
       "      <td>86400</td>\n",
       "      <td>409600</td>\n",
       "      <td>-1</td>\n",
       "      <td>182</td>\n",
       "      <td>-1</td>\n",
       "      <td>-1</td>\n",
       "      <td>9</td>\n",
       "      <td>22</td>\n",
       "      <td>-1</td>\n",
       "      <td>-1</td>\n",
       "    </tr>\n",
       "    <tr>\n",
       "      <th>5731096</th>\n",
       "      <td>5731098</td>\n",
       "      <td>62985548</td>\n",
       "      <td>105496</td>\n",
       "      <td>16844</td>\n",
       "      <td>1</td>\n",
       "      <td>-1</td>\n",
       "      <td>-1</td>\n",
       "      <td>1</td>\n",
       "      <td>86400</td>\n",
       "      <td>409600</td>\n",
       "      <td>-1</td>\n",
       "      <td>182</td>\n",
       "      <td>-1</td>\n",
       "      <td>-1</td>\n",
       "      <td>9</td>\n",
       "      <td>5</td>\n",
       "      <td>-1</td>\n",
       "      <td>-1</td>\n",
       "    </tr>\n",
       "    <tr>\n",
       "      <th>5731097</th>\n",
       "      <td>5731099</td>\n",
       "      <td>62985553</td>\n",
       "      <td>105495</td>\n",
       "      <td>36524</td>\n",
       "      <td>1</td>\n",
       "      <td>-1</td>\n",
       "      <td>-1</td>\n",
       "      <td>1</td>\n",
       "      <td>86400</td>\n",
       "      <td>409600</td>\n",
       "      <td>-1</td>\n",
       "      <td>182</td>\n",
       "      <td>-1</td>\n",
       "      <td>-1</td>\n",
       "      <td>9</td>\n",
       "      <td>13</td>\n",
       "      <td>-1</td>\n",
       "      <td>-1</td>\n",
       "    </tr>\n",
       "    <tr>\n",
       "      <th>5731098</th>\n",
       "      <td>5731100</td>\n",
       "      <td>62985557</td>\n",
       "      <td>105495</td>\n",
       "      <td>28788</td>\n",
       "      <td>1</td>\n",
       "      <td>-1</td>\n",
       "      <td>-1</td>\n",
       "      <td>1</td>\n",
       "      <td>86400</td>\n",
       "      <td>409600</td>\n",
       "      <td>-1</td>\n",
       "      <td>182</td>\n",
       "      <td>-1</td>\n",
       "      <td>-1</td>\n",
       "      <td>9</td>\n",
       "      <td>22</td>\n",
       "      <td>-1</td>\n",
       "      <td>-1</td>\n",
       "    </tr>\n",
       "  </tbody>\n",
       "</table>\n",
       "<p>5731099 rows × 18 columns</p>\n",
       "</div>"
      ],
      "text/plain": [
       "           jobID  submission_time  waiting_time  execution_time  proc_alloc  \\\n",
       "0              2                5             2            1053           1   \n",
       "1              3                6             6             928           1   \n",
       "2              4                6             9             778           1   \n",
       "3              5                7            15             809           1   \n",
       "4              6               10            15            1177           1   \n",
       "...          ...              ...           ...             ...         ...   \n",
       "5731094  5731096         62985547        105400           37737           1   \n",
       "5731095  5731097         62985548        105404           27914           1   \n",
       "5731096  5731098         62985548        105496           16844           1   \n",
       "5731097  5731099         62985553        105495           36524           1   \n",
       "5731098  5731100         62985557        105495           28788           1   \n",
       "\n",
       "         cpu_used  mem_used  proc_req  user_est  mem_req  status  uid  gid  \\\n",
       "0              -1        -1         1     86400   409600      -1    2   -1   \n",
       "1              -1        -1         1     86400   409600      -1    2   -1   \n",
       "2              -1        -1         1     86400   409600      -1    2   -1   \n",
       "3              -1        -1         1     86400   409600      -1    2   -1   \n",
       "4              -1        -1         1     86400   409600      -1    2   -1   \n",
       "...           ...       ...       ...       ...      ...     ...  ...  ...   \n",
       "5731094        -1        -1         1     86400   409600      -1  182   -1   \n",
       "5731095        -1        -1         1     86400   409600      -1  182   -1   \n",
       "5731096        -1        -1         1     86400   409600      -1  182   -1   \n",
       "5731097        -1        -1         1     86400   409600      -1  182   -1   \n",
       "5731098        -1        -1         1     86400   409600      -1  182   -1   \n",
       "\n",
       "         exe_num  queue partition  prev_jobs  think_time  \n",
       "0             -1     12        25         -1          -1  \n",
       "1             -1     12        25         -1          -1  \n",
       "2             -1     12        25         -1          -1  \n",
       "3             -1     12        21         -1          -1  \n",
       "4             -1     12        21         -1          -1  \n",
       "...          ...    ...       ...        ...         ...  \n",
       "5731094       -1      9        13         -1          -1  \n",
       "5731095       -1      9        22         -1          -1  \n",
       "5731096       -1      9         5         -1          -1  \n",
       "5731097       -1      9        13         -1          -1  \n",
       "5731098       -1      9        22         -1          -1  \n",
       "\n",
       "[5731099 rows x 18 columns]"
      ]
     },
     "execution_count": 6,
     "metadata": {},
     "output_type": "execute_result"
    }
   ],
   "source": [
    "workload.df"
   ]
  },
  {
   "cell_type": "code",
   "execution_count": 7,
   "metadata": {},
   "outputs": [
    {
     "name": "stdout",
     "output_type": "stream",
     "text": [
      "(5731099, 18)\n",
      "(5722091, 18)\n",
      "(5722091, 18)\n",
      "(5722091, 2)\n"
     ]
    }
   ],
   "source": [
    "# dataframe with processors requests and memory requests, removed -1 and 0 values\n",
    "df = workload.df\n",
    "print(df.shape)\n",
    "df = df[df.mem_req > 0]\n",
    "print(df.shape)\n",
    "df = df[df.proc_req > 0]\n",
    "print(df.shape)\n",
    "# df = df[df.execution_time > 1]\n",
    "# print(df.shape)\n",
    "df = df[['proc_req', 'mem_req']]\n",
    "print(df.shape)"
   ]
  },
  {
   "cell_type": "code",
   "execution_count": 8,
   "metadata": {},
   "outputs": [
    {
     "name": "stdout",
     "output_type": "stream",
     "text": [
      "5722091\n"
     ]
    }
   ],
   "source": [
    "# Series of memory requests\n",
    "mem_req = df['mem_req']\n",
    "print(mem_req.size)\n",
    "# mem_req = mem_req[mem_req > 0]\n",
    "# print(mem_req.size)"
   ]
  },
  {
   "cell_type": "code",
   "execution_count": 45,
   "metadata": {},
   "outputs": [
    {
     "data": {
      "text/plain": [
       "<matplotlib.axes._subplots.AxesSubplot at 0x7ffb02b82ee0>"
      ]
     },
     "execution_count": 45,
     "metadata": {},
     "output_type": "execute_result"
    },
    {
     "data": {
      "image/png": "[encoded data removed]",
      "text/plain": [
       "<Figure size 864x576 with 1 Axes>"
      ]
     },
     "metadata": {
      "needs_background": "light"
     },
     "output_type": "display_data"
    }
   ],
   "source": [
    "# memory linear histogram\n",
    "mem_req.plot(kind='hist', bins=1000, loglog=False)"
   ]
  },
  {
   "cell_type": "code",
   "execution_count": 46,
   "metadata": {},
   "outputs": [
    {
     "data": {
      "text/plain": [
       "<matplotlib.axes._subplots.AxesSubplot at 0x7ffb307a4dc0>"
      ]
     },
     "execution_count": 46,
     "metadata": {},
     "output_type": "execute_result"
    },
    {
     "data": {
      "image/png": "[encoded data removed]",
      "text/plain": [
       "<Figure size 864x576 with 1 Axes>"
      ]
     },
     "metadata": {
      "needs_background": "light"
     },
     "output_type": "display_data"
    }
   ],
   "source": [
    "# memory histogram with log y axis with counts\n",
    "mem_req.plot(kind='hist', bins=1000, logy=True)"
   ]
  },
  {
   "cell_type": "code",
   "execution_count": 47,
   "metadata": {},
   "outputs": [
    {
     "data": {
      "text/plain": [
       "<matplotlib.axes._subplots.AxesSubplot at 0x7ffaf2aba820>"
      ]
     },
     "execution_count": 47,
     "metadata": {},
     "output_type": "execute_result"
    },
    {
     "data": {
      "image/png": "[encoded data removed]",
      "text/plain": [
       "<Figure size 864x576 with 1 Axes>"
      ]
     },
     "metadata": {
      "needs_background": "light"
     },
     "output_type": "display_data"
    }
   ],
   "source": [
    "# memory histogram with log y axis with probability\n",
    "mem_req.plot(kind='hist', density=True, bins=1000, logy=True)"
   ]
  },
  {
   "cell_type": "code",
   "execution_count": 48,
   "metadata": {},
   "outputs": [
    {
     "name": "stderr",
     "output_type": "stream",
     "text": [
      "/usr/local/anaconda3/envs/pybatsim/lib/python3.8/site-packages/seaborn/distributions.py:352: UserWarning: Attempted to set non-positive bottom ylim on a log-scaled axis.\n",
      "Invalid limit will be ignored.\n",
      "  ax.set_ylim(0, auto=None)\n"
     ]
    },
    {
     "data": {
      "image/png": "[encoded data removed]",
      "text/plain": [
       "<Figure size 864x576 with 1 Axes>"
      ]
     },
     "metadata": {
      "needs_background": "light"
     },
     "output_type": "display_data"
    }
   ],
   "source": [
    "# Seaborn histogram with probability, log y axis, seems to truncate values of prob above 10**-25, kernel density estimation\n",
    "ax = sns.distplot(mem_req, bins=1000, hist_kws={'log':True})\n",
    "# ax.set_xscale('log')"
   ]
  },
  {
   "cell_type": "code",
   "execution_count": 49,
   "metadata": {},
   "outputs": [
    {
     "data": {
      "text/plain": [
       "<matplotlib.axes._subplots.AxesSubplot at 0x7ffa93d315e0>"
      ]
     },
     "execution_count": 49,
     "metadata": {},
     "output_type": "execute_result"
    },
    {
     "data": {
      "image/png": "[encoded data removed]",
      "text/plain": [
       "<Figure size 864x576 with 1 Axes>"
      ]
     },
     "metadata": {
      "needs_background": "light"
     },
     "output_type": "display_data"
    }
   ],
   "source": [
    "# log log histogram with counts\n",
    "mem_req.plot(kind='hist', bins=1000, loglog=True)"
   ]
  },
  {
   "cell_type": "code",
   "execution_count": 50,
   "metadata": {},
   "outputs": [
    {
     "data": {
      "image/png": "[encoded data removed]",
      "text/plain": [
       "<Figure size 864x576 with 1 Axes>"
      ]
     },
     "metadata": {
      "needs_background": "light"
     },
     "output_type": "display_data"
    }
   ],
   "source": [
    "# cdf of mem with log x axis\n",
    "ax = mem_req.hist(cumulative=True, density=True, bins=1000, histtype='step')\n",
    "ax.set_xscale('log')"
   ]
  },
  {
   "cell_type": "code",
   "execution_count": 51,
   "metadata": {},
   "outputs": [
    {
     "data": {
      "image/png": "[encoded data removed]",
      "text/plain": [
       "<Figure size 864x576 with 1 Axes>"
      ]
     },
     "metadata": {
      "needs_background": "light"
     },
     "output_type": "display_data"
    }
   ],
   "source": [
    "# same as above\n",
    "ax = sns.distplot(mem_req, kde=False, bins=1000, hist_kws={'cumulative':True, 'density':True})\n",
    "ax.set_xscale('log')"
   ]
  },
  {
   "cell_type": "code",
   "execution_count": 52,
   "metadata": {},
   "outputs": [
    {
     "data": {
      "text/plain": [
       "count    5.722091e+06\n",
       "mean     5.192453e+06\n",
       "std      2.438858e+07\n",
       "min      1.000000e+00\n",
       "25%      1.048576e+06\n",
       "50%      4.194304e+06\n",
       "75%      4.194304e+06\n",
       "max      6.081741e+09\n",
       "Name: mem_req, dtype: float64"
      ]
     },
     "execution_count": 52,
     "metadata": {},
     "output_type": "execute_result"
    }
   ],
   "source": [
    "# mem metrics\n",
    "mem_req.describe()"
   ]
  },
  {
   "cell_type": "code",
   "execution_count": 54,
   "metadata": {},
   "outputs": [
    {
     "data": {
      "image/png": "[encoded data removed]",
      "text/plain": [
       "<Figure size 576x576 with 3 Axes>"
      ]
     },
     "metadata": {
      "needs_background": "light"
     },
     "output_type": "display_data"
    }
   ],
   "source": [
    "# linear scatter jointplot\n",
    "joint_proc_mem = sns.jointplot(x='proc_req', y='mem_req', data=df, height=8, marginal_kws=dict(bins=1000))"
   ]
  },
  {
   "cell_type": "code",
   "execution_count": 55,
   "metadata": {},
   "outputs": [
    {
     "data": {
      "image/png": "[encoded data removed]",
      "text/plain": [
       "<Figure size 576x576 with 3 Axes>"
      ]
     },
     "metadata": {
      "needs_background": "light"
     },
     "output_type": "display_data"
    }
   ],
   "source": [
    "# log log scatter, marginal distribution\n",
    "joint_proc_mem = sns.jointplot(x='proc_req', y='mem_req', data=df, height=8, marginal_kws={'bins':1000,'hist_kws':{'log': True}})\n",
    "joint_proc_mem.ax_joint.set_yscale('log')\n",
    "joint_proc_mem.ax_joint.set_xscale('log')"
   ]
  },
  {
   "cell_type": "code",
   "execution_count": 66,
   "metadata": {},
   "outputs": [
    {
     "data": {
      "text/plain": [
       "<seaborn.axisgrid.JointGrid at 0x7ffa92683d00>"
      ]
     },
     "execution_count": 66,
     "metadata": {},
     "output_type": "execute_result"
    },
    {
     "data": {
      "image/png": "[encoded data removed]",
      "text/plain": [
       "<Figure size 576x576 with 3 Axes>"
      ]
     },
     "metadata": {
      "needs_background": "light"
     },
     "output_type": "display_data"
    }
   ],
   "source": [
    "# linear scatter with limits\n",
    "sns.jointplot(x='proc_req', y='mem_req', data=df, kind='scatter', height=8, ylim=(0,10**7), xlim=(0,10**2), marginal_kws={'bins':1000,'hist_kws':{'log': True}})"
   ]
  },
  {
   "cell_type": "code",
   "execution_count": 69,
   "metadata": {},
   "outputs": [
    {
     "data": {
      "text/plain": [
       "(1000, 2)"
      ]
     },
     "execution_count": 69,
     "metadata": {},
     "output_type": "execute_result"
    }
   ],
   "source": [
    "# dataframe limited and sampled\n",
    "plot_sample = df[df.proc_req < 100]\n",
    "plot_sample = plot_sample[plot_sample.mem_req < 10**7]\n",
    "plot_sample = plot_sample.sample(n=1000)\n",
    "plot_sample.shape"
   ]
  },
  {
   "cell_type": "code",
   "execution_count": 71,
   "metadata": {},
   "outputs": [
    {
     "data": {
      "image/png": "[encoded data removed]",
      "text/plain": [
       "<Figure size 576x576 with 3 Axes>"
      ]
     },
     "metadata": {
      "needs_background": "light"
     },
     "output_type": "display_data"
    }
   ],
   "source": [
    "# scatter with samples\n",
    "joint_proc_mem = sns.jointplot(x='proc_req', y='mem_req', data=plot_sample, kind='scatter', height=8, marginal_kws=dict(bins=100))\n",
    "# joint_proc_mem.ax_joint.set_yscale('log')\n",
    "# joint_proc_mem.ax_joint.set_xscale('log')"
   ]
  },
  {
   "cell_type": "code",
   "execution_count": 72,
   "metadata": {},
   "outputs": [
    {
     "data": {
      "image/png": "[encoded data removed]",
      "text/plain": [
       "<Figure size 576x576 with 3 Axes>"
      ]
     },
     "metadata": {
      "needs_background": "light"
     },
     "output_type": "display_data"
    }
   ],
   "source": [
    "# hex scatter with samples\n",
    "joint_proc_mem = sns.jointplot(x='proc_req', y='mem_req', data=plot_sample, kind='hex', height=8, marginal_kws=dict(bins=100))"
   ]
  },
  {
   "cell_type": "code",
   "execution_count": 59,
   "metadata": {},
   "outputs": [
    {
     "data": {
      "text/plain": [
       "0.14077301462000516"
      ]
     },
     "execution_count": 59,
     "metadata": {},
     "output_type": "execute_result"
    }
   ],
   "source": [
    "# 14% of probability mass is concentrated on 4GB\n",
    "# df[df.mem_req > 309600][df.mem_req < 509600]['mem_req'].hist(bins=100)\n",
    "df[df.mem_req == 409600]['mem_req']\n",
    "805516 / 5722091"
   ]
  },
  {
   "cell_type": "code",
   "execution_count": 60,
   "metadata": {},
   "outputs": [],
   "source": [
    "covariance = df.cov().iloc[0,1]\n",
    "proc_std = df.std()[0]\n",
    "mem_std = df.std()[1]"
   ]
  },
  {
   "cell_type": "code",
   "execution_count": 61,
   "metadata": {},
   "outputs": [
    {
     "data": {
      "text/plain": [
       "0.3450583483172327"
      ]
     },
     "execution_count": 61,
     "metadata": {},
     "output_type": "execute_result"
    }
   ],
   "source": [
    "correlation_coefficient = covariance / (proc_std * mem_std)\n",
    "correlation_coefficient"
   ]
  },
  {
   "cell_type": "code",
   "execution_count": 62,
   "metadata": {},
   "outputs": [
    {
     "data": {
      "text/html": [
       "<div>\n",
       "<style scoped>\n",
       "    .dataframe tbody tr th:only-of-type {\n",
       "        vertical-align: middle;\n",
       "    }\n",
       "\n",
       "    .dataframe tbody tr th {\n",
       "        vertical-align: top;\n",
       "    }\n",
       "\n",
       "    .dataframe thead th {\n",
       "        text-align: right;\n",
       "    }\n",
       "</style>\n",
       "<table border=\"1\" class=\"dataframe\">\n",
       "  <thead>\n",
       "    <tr style=\"text-align: right;\">\n",
       "      <th></th>\n",
       "      <th>proc_req</th>\n",
       "      <th>mem_req</th>\n",
       "    </tr>\n",
       "  </thead>\n",
       "  <tbody>\n",
       "    <tr>\n",
       "      <th>proc_req</th>\n",
       "      <td>1.000000</td>\n",
       "      <td>0.345058</td>\n",
       "    </tr>\n",
       "    <tr>\n",
       "      <th>mem_req</th>\n",
       "      <td>0.345058</td>\n",
       "      <td>1.000000</td>\n",
       "    </tr>\n",
       "  </tbody>\n",
       "</table>\n",
       "</div>"
      ],
      "text/plain": [
       "          proc_req   mem_req\n",
       "proc_req  1.000000  0.345058\n",
       "mem_req   0.345058  1.000000"
      ]
     },
     "execution_count": 62,
     "metadata": {},
     "output_type": "execute_result"
    }
   ],
   "source": [
    "# very wear linear correlation \n",
    "df.corr(method='pearson')"
   ]
  },
  {
   "cell_type": "code",
   "execution_count": 63,
   "metadata": {},
   "outputs": [
    {
     "data": {
      "text/html": [
       "<div>\n",
       "<style scoped>\n",
       "    .dataframe tbody tr th:only-of-type {\n",
       "        vertical-align: middle;\n",
       "    }\n",
       "\n",
       "    .dataframe tbody tr th {\n",
       "        vertical-align: top;\n",
       "    }\n",
       "\n",
       "    .dataframe thead th {\n",
       "        text-align: right;\n",
       "    }\n",
       "</style>\n",
       "<table border=\"1\" class=\"dataframe\">\n",
       "  <thead>\n",
       "    <tr style=\"text-align: right;\">\n",
       "      <th></th>\n",
       "      <th>proc_req</th>\n",
       "      <th>mem_req</th>\n",
       "    </tr>\n",
       "  </thead>\n",
       "  <tbody>\n",
       "    <tr>\n",
       "      <th>proc_req</th>\n",
       "      <td>1.00000</td>\n",
       "      <td>0.07337</td>\n",
       "    </tr>\n",
       "    <tr>\n",
       "      <th>mem_req</th>\n",
       "      <td>0.07337</td>\n",
       "      <td>1.00000</td>\n",
       "    </tr>\n",
       "  </tbody>\n",
       "</table>\n",
       "</div>"
      ],
      "text/plain": [
       "          proc_req  mem_req\n",
       "proc_req   1.00000  0.07337\n",
       "mem_req    0.07337  1.00000"
      ]
     },
     "execution_count": 63,
     "metadata": {},
     "output_type": "execute_result"
    }
   ],
   "source": [
    "# no correlation \n",
    "df.corr(method='kendall')"
   ]
  },
  {
   "cell_type": "code",
   "execution_count": 64,
   "metadata": {},
   "outputs": [
    {
     "data": {
      "text/html": [
       "<div>\n",
       "<style scoped>\n",
       "    .dataframe tbody tr th:only-of-type {\n",
       "        vertical-align: middle;\n",
       "    }\n",
       "\n",
       "    .dataframe tbody tr th {\n",
       "        vertical-align: top;\n",
       "    }\n",
       "\n",
       "    .dataframe thead th {\n",
       "        text-align: right;\n",
       "    }\n",
       "</style>\n",
       "<table border=\"1\" class=\"dataframe\">\n",
       "  <thead>\n",
       "    <tr style=\"text-align: right;\">\n",
       "      <th></th>\n",
       "      <th>proc_req</th>\n",
       "      <th>mem_req</th>\n",
       "    </tr>\n",
       "  </thead>\n",
       "  <tbody>\n",
       "    <tr>\n",
       "      <th>proc_req</th>\n",
       "      <td>1.000000</td>\n",
       "      <td>0.087583</td>\n",
       "    </tr>\n",
       "    <tr>\n",
       "      <th>mem_req</th>\n",
       "      <td>0.087583</td>\n",
       "      <td>1.000000</td>\n",
       "    </tr>\n",
       "  </tbody>\n",
       "</table>\n",
       "</div>"
      ],
      "text/plain": [
       "          proc_req   mem_req\n",
       "proc_req  1.000000  0.087583\n",
       "mem_req   0.087583  1.000000"
      ]
     },
     "execution_count": 64,
     "metadata": {},
     "output_type": "execute_result"
    }
   ],
   "source": [
    "# no correlation \n",
    "df.corr(method='spearman')"
   ]
  },
  {
   "cell_type": "code",
   "execution_count": 65,
   "metadata": {},
   "outputs": [
    {
     "data": {
      "text/plain": [
       "<matplotlib.legend.Legend at 0x7ffa95ad6bb0>"
      ]
     },
     "execution_count": 65,
     "metadata": {},
     "output_type": "execute_result"
    },
    {
     "data": {
      "image/png": "[encoded data removed]",
      "text/plain": [
       "<Figure size 864x576 with 1 Axes>"
      ]
     },
     "metadata": {
      "needs_background": "light"
     },
     "output_type": "display_data"
    }
   ],
   "source": [
    "# very weak correlation\n",
    "cdf_df = df[df.mem_req < 3 * 10**9]\n",
    "cdf = cdf_df[cdf_df.proc_req == 1]['mem_req'].hist(cumulative=True, density=True, bins=1000, histtype='step', label='serial')\n",
    "cdf_df[(cdf_df.proc_req > 1) & (cdf_df.proc_req <= 4)]['mem_req'].hist(cumulative=True, density=True, bins=1000, histtype='step', label='2-4')\n",
    "cdf_df[(cdf_df.proc_req > 4) & (cdf_df.proc_req <= 8)]['mem_req'].hist(cumulative=True, density=True, bins=1000, histtype='step', label='5-8')\n",
    "cdf_df[(cdf_df.proc_req > 8) & (cdf_df.proc_req <= 32)]['mem_req'].hist(cumulative=True, density=True, bins=1000, histtype='step', label='9-32')\n",
    "cdf_df[cdf_df.proc_req > 32]['mem_req'].hist(cumulative=True, density=True, bins=1000, histtype='step', label='>32')\n",
    "cdf.legend()"
   ]
  },
  {
   "cell_type": "code",
   "execution_count": 12,
   "metadata": {},
   "outputs": [],
   "source": [
    "mem_limit = 5*10**7\n",
    "mem_lim = mem_req[mem_req <= mem_limit]"
   ]
  },
  {
   "cell_type": "code",
   "execution_count": 19,
   "metadata": {},
   "outputs": [
    {
     "data": {
      "text/plain": [
       "(1.0, 5192451.526500191)"
      ]
     },
     "execution_count": 19,
     "metadata": {},
     "output_type": "execute_result"
    }
   ],
   "source": [
    "loc_expon, scale_expon = ss.expon.fit(mem_req)\n",
    "loc_expon, scale_expon"
   ]
  },
  {
   "cell_type": "code",
   "execution_count": 20,
   "metadata": {},
   "outputs": [],
   "source": [
    "x = np.linspace(mem_lim.min(), mem_lim.max(), 10000)\n",
    "y_pdf_expon = ss.expon.pdf(x, loc=loc_expon, scale=scale_expon)\n",
    "y_cdf_expon = ss.expon.cdf(x, loc=loc_expon, scale=scale_expon)"
   ]
  },
  {
   "cell_type": "code",
   "execution_count": 21,
   "metadata": {},
   "outputs": [
    {
     "data": {
      "text/plain": [
       "[<matplotlib.lines.Line2D at 0x7fa0ff5ad0a0>]"
      ]
     },
     "execution_count": 21,
     "metadata": {},
     "output_type": "execute_result"
    },
    {
     "data": {
      "image/png": "[encoded data removed]",
      "text/plain": [
       "<Figure size 864x576 with 1 Axes>"
      ]
     },
     "metadata": {
      "needs_background": "light"
     },
     "output_type": "display_data"
    }
   ],
   "source": [
    "fig, ax = plt.subplots()\n",
    "ax.set_xscale('log')\n",
    "# ax.set_yscale('log')\n",
    "ax.hist(mem_req, bins=10000, density=True)\n",
    "ax.plot(x, y_pdf_expon)"
   ]
  },
  {
   "cell_type": "code",
   "execution_count": 22,
   "metadata": {},
   "outputs": [
    {
     "data": {
      "text/plain": [
       "[<matplotlib.lines.Line2D at 0x7fa0ff076910>]"
      ]
     },
     "execution_count": 22,
     "metadata": {},
     "output_type": "execute_result"
    },
    {
     "data": {
      "image/png": "[encoded data removed]",
      "text/plain": [
       "<Figure size 864x576 with 1 Axes>"
      ]
     },
     "metadata": {
      "needs_background": "light"
     },
     "output_type": "display_data"
    }
   ],
   "source": [
    "fig, ax = plt.subplots()\n",
    "ax.set_xlim(right=mem_limit)\n",
    "ax.hist(mem_lim, bins=100, density=True)\n",
    "ax.plot(x, y_pdf_expon)"
   ]
  },
  {
   "cell_type": "code",
   "execution_count": 23,
   "metadata": {},
   "outputs": [
    {
     "data": {
      "text/plain": [
       "[<matplotlib.lines.Line2D at 0x7fa106f29a30>]"
      ]
     },
     "execution_count": 23,
     "metadata": {},
     "output_type": "execute_result"
    },
    {
     "data": {
      "image/png": "[encoded data removed]",
      "text/plain": [
       "<Figure size 864x576 with 1 Axes>"
      ]
     },
     "metadata": {
      "needs_background": "light"
     },
     "output_type": "display_data"
    }
   ],
   "source": [
    "fig, ax = plt.subplots()\n",
    "# ax.set_xscale('log')\n",
    "ax.set_xlim(right=mem_limit)\n",
    "ax.hist(mem_req, density=True, cumulative=True, bins=100000, histtype='step')\n",
    "ax.plot(x, y_cdf_expon)"
   ]
  },
  {
   "cell_type": "code",
   "execution_count": 501,
   "metadata": {},
   "outputs": [
    {
     "data": {
      "text/plain": [
       "(0.766769360472922, -124.93246258643205, 6779660.97506615)"
      ]
     },
     "execution_count": 501,
     "metadata": {},
     "output_type": "execute_result"
    }
   ],
   "source": [
    "a, loc, scale = ss.erlang.fit(mem_req)\n",
    "a, loc, scale"
   ]
  },
  {
   "cell_type": "code",
   "execution_count": 502,
   "metadata": {},
   "outputs": [],
   "source": [
    "x = np.linspace(mem_req.min(), mem_limit, 10000)\n",
    "y_pdf = ss.erlang.pdf(x, a=a, loc=loc, scale=scale)\n",
    "y_cdf = ss.erlang.cdf(x, a=a, loc=loc, scale=scale)"
   ]
  },
  {
   "cell_type": "code",
   "execution_count": 503,
   "metadata": {},
   "outputs": [
    {
     "data": {
      "text/plain": [
       "[<matplotlib.lines.Line2D at 0x7fdafe3f5760>]"
      ]
     },
     "execution_count": 503,
     "metadata": {},
     "output_type": "execute_result"
    },
    {
     "data": {
      "image/png": "[encoded data removed]",
      "text/plain": [
       "<Figure size 864x576 with 1 Axes>"
      ]
     },
     "metadata": {
      "needs_background": "light"
     },
     "output_type": "display_data"
    }
   ],
   "source": [
    "fig, ax = plt.subplots()\n",
    "ax.set_xlim(right=mem_limit)\n",
    "ax.hist(mem_lim, bins=100, density=True)\n",
    "ax.plot(x, y_pdf)"
   ]
  },
  {
   "cell_type": "code",
   "execution_count": 504,
   "metadata": {},
   "outputs": [
    {
     "data": {
      "text/plain": [
       "[<matplotlib.lines.Line2D at 0x7fdaf8fa4730>]"
      ]
     },
     "execution_count": 504,
     "metadata": {},
     "output_type": "execute_result"
    },
    {
     "data": {
      "image/png": "[encoded data removed]",
      "text/plain": [
       "<Figure size 864x576 with 1 Axes>"
      ]
     },
     "metadata": {
      "needs_background": "light"
     },
     "output_type": "display_data"
    }
   ],
   "source": [
    "fig, ax = plt.subplots()\n",
    "ax.set_xlim(right=mem_limit)\n",
    "ax.hist(mem_lim, density=True, cumulative=True, bins=100000, histtype='step')\n",
    "ax.plot(x, y_cdf)"
   ]
  },
  {
   "cell_type": "code",
   "execution_count": 505,
   "metadata": {},
   "outputs": [
    {
     "data": {
      "text/plain": [
       "(0.000863742316364836, 6313536772.269705, 7.121602910510014e-24)"
      ]
     },
     "execution_count": 505,
     "metadata": {},
     "output_type": "execute_result"
    }
   ],
   "source": [
    "a, loc, scale = ss.gamma.fit(mem_req)\n",
    "a, loc, scale"
   ]
  },
  {
   "cell_type": "code",
   "execution_count": 506,
   "metadata": {},
   "outputs": [],
   "source": [
    "x = np.linspace(mem_req.min(), mem_limit, 10000)\n",
    "y_pdf = ss.gamma.pdf(x, a=a, loc=loc, scale=scale)\n",
    "y_cdf = ss.gamma.cdf(x, a=a, loc=loc, scale=scale)"
   ]
  },
  {
   "cell_type": "code",
   "execution_count": 507,
   "metadata": {},
   "outputs": [
    {
     "data": {
      "text/plain": [
       "[<matplotlib.lines.Line2D at 0x7fdaf8e908b0>]"
      ]
     },
     "execution_count": 507,
     "metadata": {},
     "output_type": "execute_result"
    },
    {
     "data": {
      "image/png": "[encoded data removed]",
      "text/plain": [
       "<Figure size 864x576 with 1 Axes>"
      ]
     },
     "metadata": {
      "needs_background": "light"
     },
     "output_type": "display_data"
    }
   ],
   "source": [
    "fig, ax = plt.subplots()\n",
    "ax.set_xlim(right=mem_limit)\n",
    "ax.hist(mem_lim, bins=100, density=True)\n",
    "ax.plot(x, y_pdf)"
   ]
  },
  {
   "cell_type": "code",
   "execution_count": 509,
   "metadata": {},
   "outputs": [
    {
     "data": {
      "text/plain": [
       "[<matplotlib.lines.Line2D at 0x7fdaf9334100>]"
      ]
     },
     "execution_count": 509,
     "metadata": {},
     "output_type": "execute_result"
    },
    {
     "data": {
      "image/png": "[encoded data removed]",
      "text/plain": [
       "<Figure size 864x576 with 1 Axes>"
      ]
     },
     "metadata": {
      "needs_background": "light"
     },
     "output_type": "display_data"
    }
   ],
   "source": [
    "fig, ax = plt.subplots()\n",
    "ax.set_xlim(right=mem_limit)\n",
    "ax.hist(mem_lim, density=True, cumulative=True, bins=100000, histtype='step')\n",
    "ax.plot(x, y_cdf)"
   ]
  },
  {
   "cell_type": "code",
   "execution_count": 510,
   "metadata": {},
   "outputs": [
    {
     "data": {
      "text/plain": [
       "(0.7999279430881769, 0.9999999999999999, 4358866.223776371)"
      ]
     },
     "execution_count": 510,
     "metadata": {},
     "output_type": "execute_result"
    }
   ],
   "source": [
    "c, loc, scale = ss.weibull_min.fit(mem_req)\n",
    "c, loc, scale"
   ]
  },
  {
   "cell_type": "code",
   "execution_count": 511,
   "metadata": {},
   "outputs": [],
   "source": [
    "x = np.linspace(mem_req.min(), mem_limit, 10000)\n",
    "y_pdf = ss.weibull_min.pdf(x, c=c, loc=loc, scale=scale)\n",
    "y_cdf = ss.weibull_min.cdf(x, c=c, loc=loc, scale=scale)"
   ]
  },
  {
   "cell_type": "code",
   "execution_count": 515,
   "metadata": {},
   "outputs": [
    {
     "data": {
      "text/plain": [
       "[<matplotlib.lines.Line2D at 0x7fdae8c1b0a0>]"
      ]
     },
     "execution_count": 515,
     "metadata": {},
     "output_type": "execute_result"
    },
    {
     "data": {
      "image/png": "[encoded data removed]",
      "text/plain": [
       "<Figure size 864x576 with 1 Axes>"
      ]
     },
     "metadata": {
      "needs_background": "light"
     },
     "output_type": "display_data"
    }
   ],
   "source": [
    "fig, ax = plt.subplots()\n",
    "ax.set_xlim(right=mem_limit)\n",
    "ax.hist(mem_lim, bins=100, density=True)\n",
    "ax.plot(x, y_pdf)"
   ]
  },
  {
   "cell_type": "code",
   "execution_count": 514,
   "metadata": {},
   "outputs": [
    {
     "data": {
      "text/plain": [
       "[<matplotlib.lines.Line2D at 0x7fdae9095fa0>]"
      ]
     },
     "execution_count": 514,
     "metadata": {},
     "output_type": "execute_result"
    },
    {
     "data": {
      "image/png": "[encoded data removed]",
      "text/plain": [
       "<Figure size 864x576 with 1 Axes>"
      ]
     },
     "metadata": {
      "needs_background": "light"
     },
     "output_type": "display_data"
    }
   ],
   "source": [
    "fig, ax = plt.subplots()\n",
    "ax.set_xlim(right=mem_limit)\n",
    "ax.hist(mem_lim, density=True, cumulative=True, bins=100000, histtype='step')\n",
    "ax.plot(x, y_cdf)"
   ]
  },
  {
   "cell_type": "code",
   "execution_count": 516,
   "metadata": {},
   "outputs": [
    {
     "data": {
      "text/plain": [
       "(0.07258365920045476, -1.529464864041959, 2.5294644620914735)"
      ]
     },
     "execution_count": 516,
     "metadata": {},
     "output_type": "execute_result"
    }
   ],
   "source": [
    "b, loc, scale = ss.pareto.fit(mem_req)\n",
    "b, loc, scale"
   ]
  },
  {
   "cell_type": "code",
   "execution_count": 517,
   "metadata": {},
   "outputs": [],
   "source": [
    "x = np.linspace(mem_req.min(), mem_limit, 10000)\n",
    "y_pdf = ss.pareto.pdf(x, b=b, loc=loc, scale=scale)\n",
    "y_cdf = ss.pareto.cdf(x, b=b, loc=loc, scale=scale)"
   ]
  },
  {
   "cell_type": "code",
   "execution_count": 518,
   "metadata": {},
   "outputs": [
    {
     "data": {
      "text/plain": [
       "[<matplotlib.lines.Line2D at 0x7fdae95be4f0>]"
      ]
     },
     "execution_count": 518,
     "metadata": {},
     "output_type": "execute_result"
    },
    {
     "data": {
      "image/png": "[encoded data removed]",
      "text/plain": [
       "<Figure size 864x576 with 1 Axes>"
      ]
     },
     "metadata": {
      "needs_background": "light"
     },
     "output_type": "display_data"
    }
   ],
   "source": [
    "fig, ax = plt.subplots()\n",
    "ax.set_xlim(right=mem_limit)\n",
    "ax.hist(mem_lim, bins=100, density=True)\n",
    "ax.plot(x, y_pdf)"
   ]
  },
  {
   "cell_type": "code",
   "execution_count": 519,
   "metadata": {},
   "outputs": [
    {
     "data": {
      "text/plain": [
       "[<matplotlib.lines.Line2D at 0x7fdae9987730>]"
      ]
     },
     "execution_count": 519,
     "metadata": {},
     "output_type": "execute_result"
    },
    {
     "data": {
      "image/png": "[encoded data removed]",
      "text/plain": [
       "<Figure size 864x576 with 1 Axes>"
      ]
     },
     "metadata": {
      "needs_background": "light"
     },
     "output_type": "display_data"
    }
   ],
   "source": [
    "fig, ax = plt.subplots()\n",
    "ax.set_xlim(right=mem_limit)\n",
    "ax.hist(mem_lim, density=True, cumulative=True, bins=100000, histtype='step')\n",
    "ax.plot(x, y_cdf)"
   ]
  },
  {
   "cell_type": "code",
   "execution_count": 520,
   "metadata": {},
   "outputs": [
    {
     "data": {
      "text/plain": [
       "(1.0972517799795216, -150361.3304133251, 2714115.097037774)"
      ]
     },
     "execution_count": 520,
     "metadata": {},
     "output_type": "execute_result"
    }
   ],
   "source": [
    "s, loc, scale = ss.lognorm.fit(mem_req)\n",
    "s, loc, scale"
   ]
  },
  {
   "cell_type": "code",
   "execution_count": 522,
   "metadata": {},
   "outputs": [],
   "source": [
    "x = np.linspace(mem_req.min(), mem_limit, 10000)\n",
    "y_pdf = ss.lognorm.pdf(x, s=s, loc=loc, scale=scale)\n",
    "y_cdf = ss.lognorm.cdf(x, s=s, loc=loc, scale=scale)"
   ]
  },
  {
   "cell_type": "code",
   "execution_count": 523,
   "metadata": {},
   "outputs": [
    {
     "data": {
      "text/plain": [
       "[<matplotlib.lines.Line2D at 0x7fdae9429a90>]"
      ]
     },
     "execution_count": 523,
     "metadata": {},
     "output_type": "execute_result"
    },
    {
     "data": {
      "image/png": "[encoded data removed]",
      "text/plain": [
       "<Figure size 864x576 with 1 Axes>"
      ]
     },
     "metadata": {
      "needs_background": "light"
     },
     "output_type": "display_data"
    }
   ],
   "source": [
    "fig, ax = plt.subplots()\n",
    "ax.set_xlim(right=mem_limit)\n",
    "ax.hist(mem_lim, bins=100, density=True)\n",
    "ax.plot(x, y_pdf)"
   ]
  },
  {
   "cell_type": "code",
   "execution_count": 524,
   "metadata": {},
   "outputs": [
    {
     "data": {
      "text/plain": [
       "[<matplotlib.lines.Line2D at 0x7fdaea5de5b0>]"
      ]
     },
     "execution_count": 524,
     "metadata": {},
     "output_type": "execute_result"
    },
    {
     "data": {
      "image/png": "[encoded data removed]",
      "text/plain": [
       "<Figure size 864x576 with 1 Axes>"
      ]
     },
     "metadata": {
      "needs_background": "light"
     },
     "output_type": "display_data"
    }
   ],
   "source": [
    "fig, ax = plt.subplots()\n",
    "ax.set_xlim(right=mem_limit)\n",
    "ax.hist(mem_lim, density=True, cumulative=True, bins=100000, histtype='step')\n",
    "ax.plot(x, y_cdf)"
   ]
  },
  {
   "cell_type": "code",
   "execution_count": 73,
   "metadata": {},
   "outputs": [],
   "source": [
    "fit_sample = df.sample(n=10000)"
   ]
  },
  {
   "cell_type": "code",
   "execution_count": 77,
   "metadata": {},
   "outputs": [
    {
     "name": "stderr",
     "output_type": "stream",
     "text": [
      "/usr/local/anaconda3/envs/pybatsim/lib/python3.8/site-packages/scipy/stats/_distn_infrastructure.py:2407: RuntimeWarning: invalid value encountered in double_scalars\n",
      "  Lhat = muhat - Shat*mu\n"
     ]
    },
    {
     "name": "stdout",
     "output_type": "stream",
     "text": [
      "Fitted alpha distribution with error=8.202826926459685e-15)\n",
      "Fitted anglit distribution with error=7.841652943590325e-15)\n"
     ]
    },
    {
     "name": "stderr",
     "output_type": "stream",
     "text": [
      "/usr/local/anaconda3/envs/pybatsim/lib/python3.8/site-packages/scipy/stats/_continuous_distns.py:422: RuntimeWarning: divide by zero encountered in true_divide\n",
      "  return 1.0/np.pi/np.sqrt(x*(1-x))\n"
     ]
    },
    {
     "name": "stdout",
     "output_type": "stream",
     "text": [
      "Fitted arcsine distribution with error=7.531569328981128e-15)\n",
      "Fitted argus distribution with error=8.137477206081744e-15)\n"
     ]
    },
    {
     "name": "stderr",
     "output_type": "stream",
     "text": [
      "/usr/local/anaconda3/envs/pybatsim/lib/python3.8/site-packages/scipy/optimize/minpack.py:162: RuntimeWarning: The iteration is not making good progress, as measured by the \n",
      "  improvement from the last ten iterations.\n",
      "  warnings.warn(msg, RuntimeWarning)\n"
     ]
    },
    {
     "name": "stdout",
     "output_type": "stream",
     "text": [
      "Fitted beta distribution with error=7.652038215126244e-15)\n"
     ]
    },
    {
     "name": "stderr",
     "output_type": "stream",
     "text": [
      "/usr/local/anaconda3/envs/pybatsim/lib/python3.8/site-packages/scipy/stats/_continuous_distns.py:708: RuntimeWarning: divide by zero encountered in true_divide\n",
      "  a/(b-1.0),\n",
      "/usr/local/anaconda3/envs/pybatsim/lib/python3.8/site-packages/scipy/stats/_continuous_distns.py:712: RuntimeWarning: divide by zero encountered in true_divide\n",
      "  a*(a+1.0)/((b-2.0)*(b-1.0)),\n",
      "/usr/local/anaconda3/envs/pybatsim/lib/python3.8/site-packages/scipy/stats/_distn_infrastructure.py:1063: RuntimeWarning: invalid value encountered in subtract\n",
      "  mu2 = mu2p - mu * mu\n"
     ]
    },
    {
     "name": "stdout",
     "output_type": "stream",
     "text": [
      "Fitted betaprime distribution with error=8.057742767289334e-15)\n",
      "Fitted bradford distribution with error=7.0153623217720885e-15)\n",
      "Fitted burr distribution with error=7.474815157693402e-15)\n"
     ]
    },
    {
     "name": "stderr",
     "output_type": "stream",
     "text": [
      "/usr/local/anaconda3/envs/pybatsim/lib/python3.8/site-packages/scipy/stats/_continuous_distns.py:951: RuntimeWarning: overflow encountered in power\n",
      "  return np.log(c) + np.log(d) + sc.xlogy(c - 1, x) + sc.xlog1py(-d-1, x**c)\n"
     ]
    },
    {
     "name": "stdout",
     "output_type": "stream",
     "text": [
      "Fitted burr12 distribution with error=8.057861822905412e-15)\n",
      "Fitted cauchy distribution with error=8.202893645609877e-15)\n",
      "Fitted chi distribution with error=3.2977333243858113e-15)\n",
      "Fitted chi2 distribution with error=2.9371262874009695e-15)\n",
      "Fitted cosine distribution with error=7.738911507335927e-15)\n",
      "Fitted crystalball distribution with error=4.0959891768683885e-15)\n",
      "Fitted dgamma distribution with error=6.8865970147113535e-15)\n",
      "Fitted dweibull distribution with error=5.662340437966986e-15)\n"
     ]
    },
    {
     "name": "stderr",
     "output_type": "stream",
     "text": [
      "/usr/local/anaconda3/envs/pybatsim/lib/python3.8/site-packages/scipy/stats/_continuous_distns.py:2844: RuntimeWarning: The shape parameter of the erlang distribution has been given a non-integer value 0.00025.\n",
      "  warnings.warn(\n",
      "/usr/local/anaconda3/envs/pybatsim/lib/python3.8/site-packages/scipy/stats/_continuous_distns.py:2844: RuntimeWarning: The shape parameter of the erlang distribution has been given a non-integer value 0.00016666666666666666.\n",
      "  warnings.warn(\n",
      "/usr/local/anaconda3/envs/pybatsim/lib/python3.8/site-packages/scipy/stats/_continuous_distns.py:2844: RuntimeWarning: The shape parameter of the erlang distribution has been given a non-integer value 0.0002777777777777778.\n",
      "  warnings.warn(\n",
      "/usr/local/anaconda3/envs/pybatsim/lib/python3.8/site-packages/scipy/stats/_continuous_distns.py:2844: RuntimeWarning: The shape parameter of the erlang distribution has been given a non-integer value 0.000462962962962963.\n",
      "  warnings.warn(\n",
      "/usr/local/anaconda3/envs/pybatsim/lib/python3.8/site-packages/scipy/stats/_continuous_distns.py:2844: RuntimeWarning: The shape parameter of the erlang distribution has been given a non-integer value 0.00034722222222222224.\n",
      "  warnings.warn(\n",
      "/usr/local/anaconda3/envs/pybatsim/lib/python3.8/site-packages/scipy/stats/_continuous_distns.py:2844: RuntimeWarning: The shape parameter of the erlang distribution has been given a non-integer value 0.00041666666666666675.\n",
      "  warnings.warn(\n",
      "/usr/local/anaconda3/envs/pybatsim/lib/python3.8/site-packages/scipy/stats/_continuous_distns.py:2844: RuntimeWarning: The shape parameter of the erlang distribution has been given a non-integer value 0.0005416666666666669.\n",
      "  warnings.warn(\n",
      "/usr/local/anaconda3/envs/pybatsim/lib/python3.8/site-packages/scipy/stats/_continuous_distns.py:2844: RuntimeWarning: The shape parameter of the erlang distribution has been given a non-integer value 0.00036574074074074086.\n",
      "  warnings.warn(\n",
      "/usr/local/anaconda3/envs/pybatsim/lib/python3.8/site-packages/scipy/stats/_continuous_distns.py:2844: RuntimeWarning: The shape parameter of the erlang distribution has been given a non-integer value 0.0003750000000000002.\n",
      "  warnings.warn(\n",
      "/usr/local/anaconda3/envs/pybatsim/lib/python3.8/site-packages/scipy/stats/_continuous_distns.py:2844: RuntimeWarning: The shape parameter of the erlang distribution has been given a non-integer value 0.0005000000000000002.\n",
      "  warnings.warn(\n",
      "/usr/local/anaconda3/envs/pybatsim/lib/python3.8/site-packages/scipy/stats/_continuous_distns.py:2844: RuntimeWarning: The shape parameter of the erlang distribution has been given a non-integer value 0.0006111111111111114.\n",
      "  warnings.warn(\n",
      "/usr/local/anaconda3/envs/pybatsim/lib/python3.8/site-packages/scipy/stats/_continuous_distns.py:2844: RuntimeWarning: The shape parameter of the erlang distribution has been given a non-integer value 0.0007685185185185191.\n",
      "  warnings.warn(\n",
      "/usr/local/anaconda3/envs/pybatsim/lib/python3.8/site-packages/scipy/stats/_continuous_distns.py:2844: RuntimeWarning: The shape parameter of the erlang distribution has been given a non-integer value 0.0010277777777777785.\n",
      "  warnings.warn(\n",
      "/usr/local/anaconda3/envs/pybatsim/lib/python3.8/site-packages/scipy/stats/_continuous_distns.py:2844: RuntimeWarning: The shape parameter of the erlang distribution has been given a non-integer value 0.0008009259259259265.\n",
      "  warnings.warn(\n",
      "/usr/local/anaconda3/envs/pybatsim/lib/python3.8/site-packages/scipy/stats/_continuous_distns.py:2844: RuntimeWarning: The shape parameter of the erlang distribution has been given a non-integer value 0.0009305555555555564.\n",
      "  warnings.warn(\n",
      "/usr/local/anaconda3/envs/pybatsim/lib/python3.8/site-packages/scipy/stats/_continuous_distns.py:2844: RuntimeWarning: The shape parameter of the erlang distribution has been given a non-integer value 0.001337962962962964.\n",
      "  warnings.warn(\n",
      "/usr/local/anaconda3/envs/pybatsim/lib/python3.8/site-packages/scipy/stats/_continuous_distns.py:2844: RuntimeWarning: The shape parameter of the erlang distribution has been given a non-integer value 0.0018194444444444458.\n",
      "  warnings.warn(\n",
      "/usr/local/anaconda3/envs/pybatsim/lib/python3.8/site-packages/scipy/stats/_continuous_distns.py:2844: RuntimeWarning: The shape parameter of the erlang distribution has been given a non-integer value 0.0019074074074074093.\n",
      "  warnings.warn(\n",
      "/usr/local/anaconda3/envs/pybatsim/lib/python3.8/site-packages/scipy/stats/_continuous_distns.py:2844: RuntimeWarning: The shape parameter of the erlang distribution has been given a non-integer value 0.0025555555555555583.\n",
      "  warnings.warn(\n",
      "/usr/local/anaconda3/envs/pybatsim/lib/python3.8/site-packages/scipy/stats/_continuous_distns.py:2844: RuntimeWarning: The shape parameter of the erlang distribution has been given a non-integer value 0.0025092592592592614.\n",
      "  warnings.warn(\n",
      "/usr/local/anaconda3/envs/pybatsim/lib/python3.8/site-packages/scipy/stats/_continuous_distns.py:2844: RuntimeWarning: The shape parameter of the erlang distribution has been given a non-integer value 0.003250000000000003.\n",
      "  warnings.warn(\n",
      "/usr/local/anaconda3/envs/pybatsim/lib/python3.8/site-packages/scipy/stats/_continuous_distns.py:2844: RuntimeWarning: The shape parameter of the erlang distribution has been given a non-integer value 0.004152777777777781.\n",
      "  warnings.warn(\n",
      "/usr/local/anaconda3/envs/pybatsim/lib/python3.8/site-packages/scipy/stats/_continuous_distns.py:2844: RuntimeWarning: The shape parameter of the erlang distribution has been given a non-integer value 0.005763888888888894.\n",
      "  warnings.warn(\n",
      "/usr/local/anaconda3/envs/pybatsim/lib/python3.8/site-packages/scipy/stats/_continuous_distns.py:2844: RuntimeWarning: The shape parameter of the erlang distribution has been given a non-integer value 0.0058935185185185245.\n",
      "  warnings.warn(\n",
      "/usr/local/anaconda3/envs/pybatsim/lib/python3.8/site-packages/scipy/stats/_continuous_distns.py:2844: RuntimeWarning: The shape parameter of the erlang distribution has been given a non-integer value 0.007930555555555564.\n",
      "  warnings.warn(\n",
      "/usr/local/anaconda3/envs/pybatsim/lib/python3.8/site-packages/scipy/stats/_continuous_distns.py:2844: RuntimeWarning: The shape parameter of the erlang distribution has been given a non-integer value 0.008740740740740747.\n",
      "  warnings.warn(\n",
      "/usr/local/anaconda3/envs/pybatsim/lib/python3.8/site-packages/scipy/stats/_continuous_distns.py:2844: RuntimeWarning: The shape parameter of the erlang distribution has been given a non-integer value 0.011833333333333343.\n",
      "  warnings.warn(\n",
      "/usr/local/anaconda3/envs/pybatsim/lib/python3.8/site-packages/scipy/stats/_continuous_distns.py:2844: RuntimeWarning: The shape parameter of the erlang distribution has been given a non-integer value 0.01376851851851853.\n",
      "  warnings.warn(\n",
      "/usr/local/anaconda3/envs/pybatsim/lib/python3.8/site-packages/scipy/stats/_continuous_distns.py:2844: RuntimeWarning: The shape parameter of the erlang distribution has been given a non-integer value 0.019027777777777796.\n",
      "  warnings.warn(\n",
      "/usr/local/anaconda3/envs/pybatsim/lib/python3.8/site-packages/scipy/stats/_continuous_distns.py:2844: RuntimeWarning: The shape parameter of the erlang distribution has been given a non-integer value 0.020097222222222242.\n",
      "  warnings.warn(\n",
      "/usr/local/anaconda3/envs/pybatsim/lib/python3.8/site-packages/scipy/stats/_continuous_distns.py:2844: RuntimeWarning: The shape parameter of the erlang distribution has been given a non-integer value 0.027263888888888914.\n",
      "  warnings.warn(\n",
      "/usr/local/anaconda3/envs/pybatsim/lib/python3.8/site-packages/scipy/stats/_continuous_distns.py:2844: RuntimeWarning: The shape parameter of the erlang distribution has been given a non-integer value 0.03081944444444447.\n",
      "  warnings.warn(\n",
      "/usr/local/anaconda3/envs/pybatsim/lib/python3.8/site-packages/scipy/stats/_continuous_distns.py:2844: RuntimeWarning: The shape parameter of the erlang distribution has been given a non-integer value 0.04226388888888892.\n",
      "  warnings.warn(\n",
      "/usr/local/anaconda3/envs/pybatsim/lib/python3.8/site-packages/scipy/stats/_continuous_distns.py:2844: RuntimeWarning: The shape parameter of the erlang distribution has been given a non-integer value 0.04720370370370374.\n",
      "  warnings.warn(\n",
      "/usr/local/anaconda3/envs/pybatsim/lib/python3.8/site-packages/scipy/stats/_continuous_distns.py:2844: RuntimeWarning: The shape parameter of the erlang distribution has been given a non-integer value 0.06488888888888894.\n",
      "  warnings.warn(\n",
      "/usr/local/anaconda3/envs/pybatsim/lib/python3.8/site-packages/scipy/stats/_continuous_distns.py:2844: RuntimeWarning: The shape parameter of the erlang distribution has been given a non-integer value 0.07058333333333339.\n",
      "  warnings.warn(\n",
      "/usr/local/anaconda3/envs/pybatsim/lib/python3.8/site-packages/scipy/stats/_continuous_distns.py:2844: RuntimeWarning: The shape parameter of the erlang distribution has been given a non-integer value 0.09636111111111118.\n",
      "  warnings.warn(\n",
      "/usr/local/anaconda3/envs/pybatsim/lib/python3.8/site-packages/scipy/stats/_continuous_distns.py:2844: RuntimeWarning: The shape parameter of the erlang distribution has been given a non-integer value 0.10841203703703711.\n",
      "  warnings.warn(\n",
      "/usr/local/anaconda3/envs/pybatsim/lib/python3.8/site-packages/scipy/stats/_continuous_distns.py:2844: RuntimeWarning: The shape parameter of the erlang distribution has been given a non-integer value 0.1489861111111112.\n",
      "  warnings.warn(\n",
      "/usr/local/anaconda3/envs/pybatsim/lib/python3.8/site-packages/scipy/stats/_continuous_distns.py:2844: RuntimeWarning: The shape parameter of the erlang distribution has been given a non-integer value 0.16456018518518528.\n",
      "  warnings.warn(\n",
      "/usr/local/anaconda3/envs/pybatsim/lib/python3.8/site-packages/scipy/stats/_continuous_distns.py:2844: RuntimeWarning: The shape parameter of the erlang distribution has been given a non-integer value 0.22570833333333348.\n",
      "  warnings.warn(\n",
      "/usr/local/anaconda3/envs/pybatsim/lib/python3.8/site-packages/scipy/stats/_continuous_distns.py:2844: RuntimeWarning: The shape parameter of the erlang distribution has been given a non-integer value 0.24914814814814829.\n",
      "  warnings.warn(\n",
      "/usr/local/anaconda3/envs/pybatsim/lib/python3.8/site-packages/scipy/stats/_continuous_distns.py:2844: RuntimeWarning: The shape parameter of the erlang distribution has been given a non-integer value 0.34127777777777796.\n",
      "  warnings.warn(\n",
      "/usr/local/anaconda3/envs/pybatsim/lib/python3.8/site-packages/scipy/stats/_continuous_distns.py:2844: RuntimeWarning: The shape parameter of the erlang distribution has been given a non-integer value 0.38095370370370396.\n",
      "  warnings.warn(\n",
      "/usr/local/anaconda3/envs/pybatsim/lib/python3.8/site-packages/scipy/stats/_continuous_distns.py:2844: RuntimeWarning: The shape parameter of the erlang distribution has been given a non-integer value 0.5232500000000003.\n",
      "  warnings.warn(\n",
      "/usr/local/anaconda3/envs/pybatsim/lib/python3.8/site-packages/scipy/stats/_continuous_distns.py:2844: RuntimeWarning: The shape parameter of the erlang distribution has been given a non-integer value 0.5778379629629633.\n",
      "  warnings.warn(\n",
      "/usr/local/anaconda3/envs/pybatsim/lib/python3.8/site-packages/scipy/stats/_continuous_distns.py:2844: RuntimeWarning: The shape parameter of the erlang distribution has been given a non-integer value 0.7922638888888892.\n",
      "  warnings.warn(\n",
      "/usr/local/anaconda3/envs/pybatsim/lib/python3.8/site-packages/scipy/stats/_continuous_distns.py:2844: RuntimeWarning: The shape parameter of the erlang distribution has been given a non-integer value 0.8788194444444449.\n",
      "  warnings.warn(\n",
      "/usr/local/anaconda3/envs/pybatsim/lib/python3.8/site-packages/scipy/stats/_continuous_distns.py:2844: RuntimeWarning: The shape parameter of the erlang distribution has been given a non-integer value 1.2053750000000008.\n",
      "  warnings.warn(\n",
      "/usr/local/anaconda3/envs/pybatsim/lib/python3.8/site-packages/scipy/stats/_continuous_distns.py:2844: RuntimeWarning: The shape parameter of the erlang distribution has been given a non-integer value 1.3393148148148155.\n",
      "  warnings.warn(\n",
      "/usr/local/anaconda3/envs/pybatsim/lib/python3.8/site-packages/scipy/stats/_continuous_distns.py:2844: RuntimeWarning: The shape parameter of the erlang distribution has been given a non-integer value 1.8383333333333343.\n",
      "  warnings.warn(\n",
      "/usr/local/anaconda3/envs/pybatsim/lib/python3.8/site-packages/scipy/stats/_continuous_distns.py:2844: RuntimeWarning: The shape parameter of the erlang distribution has been given a non-integer value 2.0340648148148155.\n",
      "  warnings.warn(\n",
      "/usr/local/anaconda3/envs/pybatsim/lib/python3.8/site-packages/scipy/stats/_continuous_distns.py:2844: RuntimeWarning: The shape parameter of the erlang distribution has been given a non-integer value 2.789472222222223.\n",
      "  warnings.warn(\n",
      "/usr/local/anaconda3/envs/pybatsim/lib/python3.8/site-packages/scipy/stats/_continuous_distns.py:2844: RuntimeWarning: The shape parameter of the erlang distribution has been given a non-integer value 3.0965231481481497.\n",
      "  warnings.warn(\n",
      "/usr/local/anaconda3/envs/pybatsim/lib/python3.8/site-packages/scipy/stats/_continuous_distns.py:2844: RuntimeWarning: The shape parameter of the erlang distribution has been given a non-integer value 4.24865277777778.\n",
      "  warnings.warn(\n",
      "/usr/local/anaconda3/envs/pybatsim/lib/python3.8/site-packages/scipy/stats/_continuous_distns.py:2844: RuntimeWarning: The shape parameter of the erlang distribution has been given a non-integer value 4.712263888888891.\n",
      "  warnings.warn(\n",
      "/usr/local/anaconda3/envs/pybatsim/lib/python3.8/site-packages/scipy/stats/_continuous_distns.py:2844: RuntimeWarning: The shape parameter of the erlang distribution has been given a non-integer value 6.465708333333335.\n",
      "  warnings.warn(\n",
      "/usr/local/anaconda3/envs/pybatsim/lib/python3.8/site-packages/scipy/stats/_continuous_distns.py:2844: RuntimeWarning: The shape parameter of the erlang distribution has been given a non-integer value 7.164222222222223.\n",
      "  warnings.warn(\n",
      "/usr/local/anaconda3/envs/pybatsim/lib/python3.8/site-packages/scipy/stats/_continuous_distns.py:2844: RuntimeWarning: The shape parameter of the erlang distribution has been given a non-integer value 9.827166666666667.\n",
      "  warnings.warn(\n",
      "/usr/local/anaconda3/envs/pybatsim/lib/python3.8/site-packages/scipy/stats/_continuous_distns.py:2844: RuntimeWarning: The shape parameter of the erlang distribution has been given a non-integer value 10.904879629629631.\n",
      "  warnings.warn(\n",
      "/usr/local/anaconda3/envs/pybatsim/lib/python3.8/site-packages/scipy/stats/_continuous_distns.py:2844: RuntimeWarning: The shape parameter of the erlang distribution has been given a non-integer value 14.962583333333335.\n",
      "  warnings.warn(\n",
      "/usr/local/anaconda3/envs/pybatsim/lib/python3.8/site-packages/scipy/stats/_continuous_distns.py:2844: RuntimeWarning: The shape parameter of the erlang distribution has been given a non-integer value 16.588319444444444.\n",
      "  warnings.warn(\n",
      "/usr/local/anaconda3/envs/pybatsim/lib/python3.8/site-packages/scipy/stats/_continuous_distns.py:2844: RuntimeWarning: The shape parameter of the erlang distribution has been given a non-integer value 22.758152777777777.\n",
      "  warnings.warn(\n",
      "/usr/local/anaconda3/envs/pybatsim/lib/python3.8/site-packages/scipy/stats/_continuous_distns.py:2844: RuntimeWarning: The shape parameter of the erlang distribution has been given a non-integer value 25.232893518518516.\n",
      "  warnings.warn(\n",
      "/usr/local/anaconda3/envs/pybatsim/lib/python3.8/site-packages/scipy/stats/_continuous_distns.py:2844: RuntimeWarning: The shape parameter of the erlang distribution has been given a non-integer value 34.61648611111111.\n",
      "  warnings.warn(\n",
      "/usr/local/anaconda3/envs/pybatsim/lib/python3.8/site-packages/scipy/stats/_continuous_distns.py:2844: RuntimeWarning: The shape parameter of the erlang distribution has been given a non-integer value 38.397648148148136.\n",
      "  warnings.warn(\n",
      "/usr/local/anaconda3/envs/pybatsim/lib/python3.8/site-packages/scipy/stats/_continuous_distns.py:2844: RuntimeWarning: The shape parameter of the erlang distribution has been given a non-integer value 48.885608024691344.\n",
      "  warnings.warn(\n",
      "/usr/local/anaconda3/envs/pybatsim/lib/python3.8/site-packages/scipy/stats/_continuous_distns.py:2844: RuntimeWarning: The shape parameter of the erlang distribution has been given a non-integer value 58.50834207818927.\n",
      "  warnings.warn(\n",
      "/usr/local/anaconda3/envs/pybatsim/lib/python3.8/site-packages/scipy/stats/_continuous_distns.py:2844: RuntimeWarning: The shape parameter of the erlang distribution has been given a non-integer value 31.69570010288065.\n",
      "  warnings.warn(\n",
      "/usr/local/anaconda3/envs/pybatsim/lib/python3.8/site-packages/scipy/stats/_continuous_distns.py:2844: RuntimeWarning: The shape parameter of the erlang distribution has been given a non-integer value 20.920948216735262.\n",
      "  warnings.warn(\n",
      "/usr/local/anaconda3/envs/pybatsim/lib/python3.8/site-packages/scipy/stats/_continuous_distns.py:2844: RuntimeWarning: The shape parameter of the erlang distribution has been given a non-integer value 41.89444307270232.\n",
      "  warnings.warn(\n",
      "/usr/local/anaconda3/envs/pybatsim/lib/python3.8/site-packages/scipy/stats/_continuous_distns.py:2844: RuntimeWarning: The shape parameter of the erlang distribution has been given a non-integer value 27.912113168724282.\n",
      "  warnings.warn(\n",
      "/usr/local/anaconda3/envs/pybatsim/lib/python3.8/site-packages/scipy/stats/_continuous_distns.py:2844: RuntimeWarning: The shape parameter of the erlang distribution has been given a non-integer value 31.40769564471879.\n",
      "  warnings.warn(\n",
      "/usr/local/anaconda3/envs/pybatsim/lib/python3.8/site-packages/scipy/stats/_continuous_distns.py:2844: RuntimeWarning: The shape parameter of the erlang distribution has been given a non-integer value 26.748939757658903.\n",
      "  warnings.warn(\n",
      "/usr/local/anaconda3/envs/pybatsim/lib/python3.8/site-packages/scipy/stats/_continuous_distns.py:2844: RuntimeWarning: The shape parameter of the erlang distribution has been given a non-integer value 35.48547105052583.\n",
      "  warnings.warn(\n",
      "/usr/local/anaconda3/envs/pybatsim/lib/python3.8/site-packages/scipy/stats/_continuous_distns.py:2844: RuntimeWarning: The shape parameter of the erlang distribution has been given a non-integer value 36.457409198292936.\n",
      "  warnings.warn(\n",
      "/usr/local/anaconda3/envs/pybatsim/lib/python3.8/site-packages/scipy/stats/_continuous_distns.py:2844: RuntimeWarning: The shape parameter of the erlang distribution has been given a non-integer value 32.67012403311232.\n",
      "  warnings.warn(\n",
      "/usr/local/anaconda3/envs/pybatsim/lib/python3.8/site-packages/scipy/stats/_continuous_distns.py:2844: RuntimeWarning: The shape parameter of the erlang distribution has been given a non-integer value 36.81902069361885.\n",
      "  warnings.warn(\n",
      "/usr/local/anaconda3/envs/pybatsim/lib/python3.8/site-packages/scipy/stats/_continuous_distns.py:2844: RuntimeWarning: The shape parameter of the erlang distribution has been given a non-integer value 32.976530250565204.\n",
      "  warnings.warn(\n",
      "/usr/local/anaconda3/envs/pybatsim/lib/python3.8/site-packages/scipy/stats/_continuous_distns.py:2844: RuntimeWarning: The shape parameter of the erlang distribution has been given a non-integer value 31.35662254599994.\n",
      "  warnings.warn(\n",
      "/usr/local/anaconda3/envs/pybatsim/lib/python3.8/site-packages/scipy/stats/_continuous_distns.py:2844: RuntimeWarning: The shape parameter of the erlang distribution has been given a non-integer value 34.45325892439436.\n",
      "  warnings.warn(\n",
      "/usr/local/anaconda3/envs/pybatsim/lib/python3.8/site-packages/scipy/stats/_continuous_distns.py:2844: RuntimeWarning: The shape parameter of the erlang distribution has been given a non-integer value 35.36072615760147.\n",
      "  warnings.warn(\n",
      "/usr/local/anaconda3/envs/pybatsim/lib/python3.8/site-packages/scipy/stats/_continuous_distns.py:2844: RuntimeWarning: The shape parameter of the erlang distribution has been given a non-integer value 33.34277456423461.\n",
      "  warnings.warn(\n",
      "/usr/local/anaconda3/envs/pybatsim/lib/python3.8/site-packages/scipy/stats/_continuous_distns.py:2844: RuntimeWarning: The shape parameter of the erlang distribution has been given a non-integer value 32.565223048351676.\n",
      "  warnings.warn(\n",
      "/usr/local/anaconda3/envs/pybatsim/lib/python3.8/site-packages/scipy/stats/_continuous_distns.py:2844: RuntimeWarning: The shape parameter of the erlang distribution has been given a non-integer value 34.10367034542125.\n",
      "  warnings.warn(\n",
      "/usr/local/anaconda3/envs/pybatsim/lib/python3.8/site-packages/scipy/stats/_continuous_distns.py:2844: RuntimeWarning: The shape parameter of the erlang distribution has been given a non-integer value 34.95660563880162.\n",
      "  warnings.warn(\n",
      "/usr/local/anaconda3/envs/pybatsim/lib/python3.8/site-packages/scipy/stats/_continuous_distns.py:2844: RuntimeWarning: The shape parameter of the erlang distribution has been given a non-integer value 33.471549097624305.\n",
      "  warnings.warn(\n",
      "/usr/local/anaconda3/envs/pybatsim/lib/python3.8/site-packages/scipy/stats/_continuous_distns.py:2844: RuntimeWarning: The shape parameter of the erlang distribution has been given a non-integer value 32.82540374712575.\n",
      "  warnings.warn(\n",
      "/usr/local/anaconda3/envs/pybatsim/lib/python3.8/site-packages/scipy/stats/_continuous_distns.py:2844: RuntimeWarning: The shape parameter of the erlang distribution has been given a non-integer value 34.04629513007721.\n",
      "  warnings.warn(\n",
      "/usr/local/anaconda3/envs/pybatsim/lib/python3.8/site-packages/scipy/stats/_continuous_distns.py:2844: RuntimeWarning: The shape parameter of the erlang distribution has been given a non-integer value 34.40490181784724.\n",
      "  warnings.warn(\n",
      "/usr/local/anaconda3/envs/pybatsim/lib/python3.8/site-packages/scipy/stats/_continuous_distns.py:2844: RuntimeWarning: The shape parameter of the erlang distribution has been given a non-integer value 33.60830637763777.\n",
      "  warnings.warn(\n",
      "/usr/local/anaconda3/envs/pybatsim/lib/python3.8/site-packages/scipy/stats/_continuous_distns.py:2844: RuntimeWarning: The shape parameter of the erlang distribution has been given a non-integer value 33.40938875037833.\n",
      "  warnings.warn(\n",
      "/usr/local/anaconda3/envs/pybatsim/lib/python3.8/site-packages/scipy/stats/_continuous_distns.py:2844: RuntimeWarning: The shape parameter of the erlang distribution has been given a non-integer value 32.889159138339025.\n",
      "  warnings.warn(\n",
      "/usr/local/anaconda3/envs/pybatsim/lib/python3.8/site-packages/scipy/stats/_continuous_distns.py:2844: RuntimeWarning: The shape parameter of the erlang distribution has been given a non-integer value 33.80004254365069.\n",
      "  warnings.warn(\n",
      "/usr/local/anaconda3/envs/pybatsim/lib/python3.8/site-packages/scipy/stats/_continuous_distns.py:2844: RuntimeWarning: The shape parameter of the erlang distribution has been given a non-integer value 33.74027601682022.\n",
      "  warnings.warn(\n",
      "/usr/local/anaconda3/envs/pybatsim/lib/python3.8/site-packages/scipy/stats/_continuous_distns.py:2844: RuntimeWarning: The shape parameter of the erlang distribution has been given a non-integer value 33.87463947641817.\n",
      "  warnings.warn(\n",
      "/usr/local/anaconda3/envs/pybatsim/lib/python3.8/site-packages/scipy/stats/_continuous_distns.py:2844: RuntimeWarning: The shape parameter of the erlang distribution has been given a non-integer value 34.112603514759414.\n",
      "  warnings.warn(\n",
      "/usr/local/anaconda3/envs/pybatsim/lib/python3.8/site-packages/scipy/stats/_continuous_distns.py:2844: RuntimeWarning: The shape parameter of the erlang distribution has been given a non-integer value 33.585192441473595.\n",
      "  warnings.warn(\n",
      "/usr/local/anaconda3/envs/pybatsim/lib/python3.8/site-packages/scipy/stats/_continuous_distns.py:2844: RuntimeWarning: The shape parameter of the erlang distribution has been given a non-integer value 33.89827659672387.\n",
      "  warnings.warn(\n",
      "/usr/local/anaconda3/envs/pybatsim/lib/python3.8/site-packages/scipy/stats/_continuous_distns.py:2844: RuntimeWarning: The shape parameter of the erlang distribution has been given a non-integer value 34.04326170626692.\n",
      "  warnings.warn(\n",
      "/usr/local/anaconda3/envs/pybatsim/lib/python3.8/site-packages/scipy/stats/_continuous_distns.py:2844: RuntimeWarning: The shape parameter of the erlang distribution has been given a non-integer value 34.130113303054884.\n",
      "  warnings.warn(\n",
      "/usr/local/anaconda3/envs/pybatsim/lib/python3.8/site-packages/scipy/stats/_continuous_distns.py:2844: RuntimeWarning: The shape parameter of the erlang distribution has been given a non-integer value 33.72142265686892.\n",
      "  warnings.warn(\n",
      "/usr/local/anaconda3/envs/pybatsim/lib/python3.8/site-packages/scipy/stats/_continuous_distns.py:2844: RuntimeWarning: The shape parameter of the erlang distribution has been given a non-integer value 33.86284994302328.\n",
      "  warnings.warn(\n",
      "/usr/local/anaconda3/envs/pybatsim/lib/python3.8/site-packages/scipy/stats/_continuous_distns.py:2844: RuntimeWarning: The shape parameter of the erlang distribution has been given a non-integer value 33.89425364270957.\n",
      "  warnings.warn(\n",
      "/usr/local/anaconda3/envs/pybatsim/lib/python3.8/site-packages/scipy/stats/_continuous_distns.py:2844: RuntimeWarning: The shape parameter of the erlang distribution has been given a non-integer value 34.05669048703215.\n",
      "  warnings.warn(\n",
      "/usr/local/anaconda3/envs/pybatsim/lib/python3.8/site-packages/scipy/stats/_continuous_distns.py:2844: RuntimeWarning: The shape parameter of the erlang distribution has been given a non-integer value 34.02484100789222.\n",
      "  warnings.warn(\n",
      "/usr/local/anaconda3/envs/pybatsim/lib/python3.8/site-packages/scipy/stats/_continuous_distns.py:2844: RuntimeWarning: The shape parameter of the erlang distribution has been given a non-integer value 33.82155701118496.\n",
      "  warnings.warn(\n",
      "/usr/local/anaconda3/envs/pybatsim/lib/python3.8/site-packages/scipy/stats/_continuous_distns.py:2844: RuntimeWarning: The shape parameter of the erlang distribution has been given a non-integer value 33.92882451113396.\n",
      "  warnings.warn(\n",
      "/usr/local/anaconda3/envs/pybatsim/lib/python3.8/site-packages/scipy/stats/_continuous_distns.py:2844: RuntimeWarning: The shape parameter of the erlang distribution has been given a non-integer value 33.94409846833901.\n",
      "  warnings.warn(\n",
      "/usr/local/anaconda3/envs/pybatsim/lib/python3.8/site-packages/scipy/stats/_continuous_distns.py:2844: RuntimeWarning: The shape parameter of the erlang distribution has been given a non-integer value 33.74843174026347.\n",
      "  warnings.warn(\n",
      "/usr/local/anaconda3/envs/pybatsim/lib/python3.8/site-packages/scipy/stats/_continuous_distns.py:2844: RuntimeWarning: The shape parameter of the erlang distribution has been given a non-integer value 33.90296555635641.\n",
      "  warnings.warn(\n",
      "/usr/local/anaconda3/envs/pybatsim/lib/python3.8/site-packages/scipy/stats/_continuous_distns.py:2844: RuntimeWarning: The shape parameter of the erlang distribution has been given a non-integer value 33.943669828942134.\n",
      "  warnings.warn(\n",
      "/usr/local/anaconda3/envs/pybatsim/lib/python3.8/site-packages/scipy/stats/_continuous_distns.py:2844: RuntimeWarning: The shape parameter of the erlang distribution has been given a non-integer value 33.863213048986836.\n",
      "  warnings.warn(\n",
      "/usr/local/anaconda3/envs/pybatsim/lib/python3.8/site-packages/scipy/stats/_continuous_distns.py:2844: RuntimeWarning: The shape parameter of the erlang distribution has been given a non-integer value 33.84769275212547.\n",
      "  warnings.warn(\n",
      "/usr/local/anaconda3/envs/pybatsim/lib/python3.8/site-packages/scipy/stats/_continuous_distns.py:2844: RuntimeWarning: The shape parameter of the erlang distribution has been given a non-integer value 34.07520895934094.\n",
      "  warnings.warn(\n",
      "/usr/local/anaconda3/envs/pybatsim/lib/python3.8/site-packages/scipy/stats/_continuous_distns.py:2844: RuntimeWarning: The shape parameter of the erlang distribution has been given a non-integer value 33.96694922526669.\n",
      "  warnings.warn(\n",
      "/usr/local/anaconda3/envs/pybatsim/lib/python3.8/site-packages/scipy/stats/_continuous_distns.py:2844: RuntimeWarning: The shape parameter of the erlang distribution has been given a non-integer value 33.97837460373053.\n",
      "  warnings.warn(\n",
      "/usr/local/anaconda3/envs/pybatsim/lib/python3.8/site-packages/scipy/stats/_continuous_distns.py:2844: RuntimeWarning: The shape parameter of the erlang distribution has been given a non-integer value 33.99051438118916.\n",
      "  warnings.warn(\n",
      "/usr/local/anaconda3/envs/pybatsim/lib/python3.8/site-packages/scipy/stats/_continuous_distns.py:2844: RuntimeWarning: The shape parameter of the erlang distribution has been given a non-integer value 34.01393665731267.\n",
      "  warnings.warn(\n",
      "/usr/local/anaconda3/envs/pybatsim/lib/python3.8/site-packages/scipy/stats/_continuous_distns.py:2844: RuntimeWarning: The shape parameter of the erlang distribution has been given a non-integer value 33.818127049438175.\n",
      "  warnings.warn(\n",
      "/usr/local/anaconda3/envs/pybatsim/lib/python3.8/site-packages/scipy/stats/_continuous_distns.py:2844: RuntimeWarning: The shape parameter of the erlang distribution has been given a non-integer value 33.6895860944868.\n",
      "  warnings.warn(\n",
      "/usr/local/anaconda3/envs/pybatsim/lib/python3.8/site-packages/scipy/stats/_continuous_distns.py:2844: RuntimeWarning: The shape parameter of the erlang distribution has been given a non-integer value 33.94023881822787.\n",
      "  warnings.warn(\n",
      "/usr/local/anaconda3/envs/pybatsim/lib/python3.8/site-packages/scipy/stats/_continuous_distns.py:2844: RuntimeWarning: The shape parameter of the erlang distribution has been given a non-integer value 33.98651185127906.\n",
      "  warnings.warn(\n",
      "/usr/local/anaconda3/envs/pybatsim/lib/python3.8/site-packages/scipy/stats/_continuous_distns.py:2844: RuntimeWarning: The shape parameter of the erlang distribution has been given a non-integer value 33.814981798321824.\n",
      "  warnings.warn(\n",
      "/usr/local/anaconda3/envs/pybatsim/lib/python3.8/site-packages/scipy/stats/_continuous_distns.py:2844: RuntimeWarning: The shape parameter of the erlang distribution has been given a non-integer value 33.73328539561747.\n",
      "  warnings.warn(\n",
      "/usr/local/anaconda3/envs/pybatsim/lib/python3.8/site-packages/scipy/stats/_continuous_distns.py:2844: RuntimeWarning: The shape parameter of the erlang distribution has been given a non-integer value 33.59231890360955.\n",
      "  warnings.warn(\n",
      "/usr/local/anaconda3/envs/pybatsim/lib/python3.8/site-packages/scipy/stats/_continuous_distns.py:2844: RuntimeWarning: The shape parameter of the erlang distribution has been given a non-integer value 33.381510026757994.\n",
      "  warnings.warn(\n",
      "/usr/local/anaconda3/envs/pybatsim/lib/python3.8/site-packages/scipy/stats/_continuous_distns.py:2844: RuntimeWarning: The shape parameter of the erlang distribution has been given a non-integer value 33.71128542128288.\n",
      "  warnings.warn(\n",
      "/usr/local/anaconda3/envs/pybatsim/lib/python3.8/site-packages/scipy/stats/_continuous_distns.py:2844: RuntimeWarning: The shape parameter of the erlang distribution has been given a non-integer value 33.72213508468093.\n",
      "  warnings.warn(\n",
      "/usr/local/anaconda3/envs/pybatsim/lib/python3.8/site-packages/scipy/stats/_continuous_distns.py:2844: RuntimeWarning: The shape parameter of the erlang distribution has been given a non-integer value 33.238108486758534.\n",
      "  warnings.warn(\n",
      "/usr/local/anaconda3/envs/pybatsim/lib/python3.8/site-packages/scipy/stats/_continuous_distns.py:2844: RuntimeWarning: The shape parameter of the erlang distribution has been given a non-integer value 32.86390680449827.\n",
      "  warnings.warn(\n",
      "/usr/local/anaconda3/envs/pybatsim/lib/python3.8/site-packages/scipy/stats/_continuous_distns.py:2844: RuntimeWarning: The shape parameter of the erlang distribution has been given a non-integer value 32.91174921500732.\n",
      "  warnings.warn(\n",
      "/usr/local/anaconda3/envs/pybatsim/lib/python3.8/site-packages/scipy/stats/_continuous_distns.py:2844: RuntimeWarning: The shape parameter of the erlang distribution has been given a non-integer value 32.500981124702236.\n",
      "  warnings.warn(\n",
      "/usr/local/anaconda3/envs/pybatsim/lib/python3.8/site-packages/scipy/stats/_continuous_distns.py:2844: RuntimeWarning: The shape parameter of the erlang distribution has been given a non-integer value 32.67650531582963.\n",
      "  warnings.warn(\n",
      "/usr/local/anaconda3/envs/pybatsim/lib/python3.8/site-packages/scipy/stats/_continuous_distns.py:2844: RuntimeWarning: The shape parameter of the erlang distribution has been given a non-integer value 32.32400296036545.\n",
      "  warnings.warn(\n",
      "/usr/local/anaconda3/envs/pybatsim/lib/python3.8/site-packages/scipy/stats/_continuous_distns.py:2844: RuntimeWarning: The shape parameter of the erlang distribution has been given a non-integer value 31.403792175029707.\n",
      "  warnings.warn(\n",
      "/usr/local/anaconda3/envs/pybatsim/lib/python3.8/site-packages/scipy/stats/_continuous_distns.py:2844: RuntimeWarning: The shape parameter of the erlang distribution has been given a non-integer value 30.244620720204097.\n",
      "  warnings.warn(\n",
      "/usr/local/anaconda3/envs/pybatsim/lib/python3.8/site-packages/scipy/stats/_continuous_distns.py:2844: RuntimeWarning: The shape parameter of the erlang distribution has been given a non-integer value 30.51582973234958.\n",
      "  warnings.warn(\n",
      "/usr/local/anaconda3/envs/pybatsim/lib/python3.8/site-packages/scipy/stats/_continuous_distns.py:2844: RuntimeWarning: The shape parameter of the erlang distribution has been given a non-integer value 29.34179119627524.\n",
      "  warnings.warn(\n",
      "/usr/local/anaconda3/envs/pybatsim/lib/python3.8/site-packages/scipy/stats/_continuous_distns.py:2844: RuntimeWarning: The shape parameter of the erlang distribution has been given a non-integer value 28.772628793194286.\n",
      "  warnings.warn(\n",
      "/usr/local/anaconda3/envs/pybatsim/lib/python3.8/site-packages/scipy/stats/_continuous_distns.py:2844: RuntimeWarning: The shape parameter of the erlang distribution has been given a non-integer value 26.90845262744031.\n",
      "  warnings.warn(\n",
      "/usr/local/anaconda3/envs/pybatsim/lib/python3.8/site-packages/scipy/stats/_continuous_distns.py:2844: RuntimeWarning: The shape parameter of the erlang distribution has been given a non-integer value 25.339240068914314.\n",
      "  warnings.warn(\n",
      "/usr/local/anaconda3/envs/pybatsim/lib/python3.8/site-packages/scipy/stats/_continuous_distns.py:2844: RuntimeWarning: The shape parameter of the erlang distribution has been given a non-integer value 21.84685862318875.\n",
      "  warnings.warn(\n",
      "/usr/local/anaconda3/envs/pybatsim/lib/python3.8/site-packages/scipy/stats/_continuous_distns.py:2844: RuntimeWarning: The shape parameter of the erlang distribution has been given a non-integer value 21.820114244398773.\n",
      "  warnings.warn(\n",
      "/usr/local/anaconda3/envs/pybatsim/lib/python3.8/site-packages/scipy/stats/_continuous_distns.py:2844: RuntimeWarning: The shape parameter of the erlang distribution has been given a non-integer value 17.60786100649611.\n",
      "  warnings.warn(\n",
      "/usr/local/anaconda3/envs/pybatsim/lib/python3.8/site-packages/scipy/stats/_continuous_distns.py:2844: RuntimeWarning: The shape parameter of the erlang distribution has been given a non-integer value 14.900323641808207.\n",
      "  warnings.warn(\n",
      "/usr/local/anaconda3/envs/pybatsim/lib/python3.8/site-packages/scipy/stats/_continuous_distns.py:2844: RuntimeWarning: The shape parameter of the erlang distribution has been given a non-integer value 7.6795898645746945.\n",
      "  warnings.warn(\n",
      "/usr/local/anaconda3/envs/pybatsim/lib/python3.8/site-packages/scipy/stats/_continuous_distns.py:2844: RuntimeWarning: The shape parameter of the erlang distribution has been given a non-integer value 4.514420368732726.\n",
      "  warnings.warn(\n",
      "/usr/local/anaconda3/envs/pybatsim/lib/python3.8/site-packages/scipy/stats/_continuous_distns.py:2844: RuntimeWarning: The shape parameter of the erlang distribution has been given a non-integer value -6.682595760621069.\n",
      "  warnings.warn(\n",
      "/usr/local/anaconda3/envs/pybatsim/lib/python3.8/site-packages/scipy/stats/_continuous_distns.py:2844: RuntimeWarning: The shape parameter of the erlang distribution has been given a non-integer value -1.9789444633197313.\n",
      "  warnings.warn(\n",
      "/usr/local/anaconda3/envs/pybatsim/lib/python3.8/site-packages/scipy/stats/_continuous_distns.py:2844: RuntimeWarning: The shape parameter of the erlang distribution has been given a non-integer value 15.89040785156163.\n",
      "  warnings.warn(\n",
      "/usr/local/anaconda3/envs/pybatsim/lib/python3.8/site-packages/scipy/stats/_continuous_distns.py:2844: RuntimeWarning: The shape parameter of the erlang distribution has been given a non-integer value 3.9775063083073903.\n",
      "  warnings.warn(\n",
      "/usr/local/anaconda3/envs/pybatsim/lib/python3.8/site-packages/scipy/stats/_continuous_distns.py:2844: RuntimeWarning: The shape parameter of the erlang distribution has been given a non-integer value -1.9789444633197277.\n",
      "  warnings.warn(\n",
      "/usr/local/anaconda3/envs/pybatsim/lib/python3.8/site-packages/scipy/stats/_continuous_distns.py:2844: RuntimeWarning: The shape parameter of the erlang distribution has been given a non-integer value -6.826849978752902.\n",
      "  warnings.warn(\n",
      "/usr/local/anaconda3/envs/pybatsim/lib/python3.8/site-packages/scipy/stats/_continuous_distns.py:2844: RuntimeWarning: The shape parameter of the erlang distribution has been given a non-integer value 11.499183260183855.\n",
      "  warnings.warn(\n",
      "/usr/local/anaconda3/envs/pybatsim/lib/python3.8/site-packages/scipy/stats/_continuous_distns.py:2844: RuntimeWarning: The shape parameter of the erlang distribution has been given a non-integer value -0.718172232440649.\n",
      "  warnings.warn(\n",
      "/usr/local/anaconda3/envs/pybatsim/lib/python3.8/site-packages/scipy/stats/_continuous_distns.py:2844: RuntimeWarning: The shape parameter of the erlang distribution has been given a non-integer value 8.444844387027729.\n",
      "  warnings.warn(\n",
      "/usr/local/anaconda3/envs/pybatsim/lib/python3.8/site-packages/scipy/stats/_continuous_distns.py:2844: RuntimeWarning: The shape parameter of the erlang distribution has been given a non-integer value 3.611590844803869.\n",
      "  warnings.warn(\n",
      "/usr/local/anaconda3/envs/pybatsim/lib/python3.8/site-packages/scipy/stats/_continuous_distns.py:2844: RuntimeWarning: The shape parameter of the erlang distribution has been given a non-integer value 6.174873991359934.\n",
      "  warnings.warn(\n",
      "/usr/local/anaconda3/envs/pybatsim/lib/python3.8/site-packages/scipy/stats/_continuous_distns.py:2844: RuntimeWarning: The shape parameter of the erlang distribution has been given a non-integer value 7.005100802673539.\n",
      "  warnings.warn(\n",
      "/usr/local/anaconda3/envs/pybatsim/lib/python3.8/site-packages/scipy/stats/_continuous_distns.py:2844: RuntimeWarning: The shape parameter of the erlang distribution has been given a non-integer value 1.2846209168288034.\n",
      "  warnings.warn(\n",
      "/usr/local/anaconda3/envs/pybatsim/lib/python3.8/site-packages/scipy/stats/_continuous_distns.py:2844: RuntimeWarning: The shape parameter of the erlang distribution has been given a non-integer value -2.2954908182706593.\n",
      "  warnings.warn(\n",
      "/usr/local/anaconda3/envs/pybatsim/lib/python3.8/site-packages/scipy/stats/_continuous_distns.py:2844: RuntimeWarning: The shape parameter of the erlang distribution has been given a non-integer value 4.566561173735952.\n",
      "  warnings.warn(\n",
      "/usr/local/anaconda3/envs/pybatsim/lib/python3.8/site-packages/scipy/stats/_continuous_distns.py:2844: RuntimeWarning: The shape parameter of the erlang distribution has been given a non-integer value 5.044046338201994.\n",
      "  warnings.warn(\n",
      "/usr/local/anaconda3/envs/pybatsim/lib/python3.8/site-packages/scipy/stats/_continuous_distns.py:2844: RuntimeWarning: The shape parameter of the erlang distribution has been given a non-integer value 4.911672396828834.\n",
      "  warnings.warn(\n",
      "/usr/local/anaconda3/envs/pybatsim/lib/python3.8/site-packages/scipy/stats/_continuous_distns.py:2844: RuntimeWarning: The shape parameter of the erlang distribution has been given a non-integer value 5.378755441089556.\n",
      "  warnings.warn(\n",
      "/usr/local/anaconda3/envs/pybatsim/lib/python3.8/site-packages/scipy/stats/_continuous_distns.py:2844: RuntimeWarning: The shape parameter of the erlang distribution has been given a non-integer value 0.7998476614066972.\n",
      "  warnings.warn(\n",
      "/usr/local/anaconda3/envs/pybatsim/lib/python3.8/site-packages/scipy/stats/_continuous_distns.py:2844: RuntimeWarning: The shape parameter of the erlang distribution has been given a non-integer value 6.197145376970028.\n",
      "  warnings.warn(\n",
      "/usr/local/anaconda3/envs/pybatsim/lib/python3.8/site-packages/scipy/stats/_continuous_distns.py:2844: RuntimeWarning: The shape parameter of the erlang distribution has been given a non-integer value 8.653407607040641.\n",
      "  warnings.warn(\n",
      "/usr/local/anaconda3/envs/pybatsim/lib/python3.8/site-packages/scipy/stats/_continuous_distns.py:2844: RuntimeWarning: The shape parameter of the erlang distribution has been given a non-integer value 4.843960801489269.\n",
      "  warnings.warn(\n",
      "/usr/local/anaconda3/envs/pybatsim/lib/python3.8/site-packages/scipy/stats/_continuous_distns.py:2844: RuntimeWarning: The shape parameter of the erlang distribution has been given a non-integer value 4.743918033132907.\n",
      "  warnings.warn(\n",
      "/usr/local/anaconda3/envs/pybatsim/lib/python3.8/site-packages/scipy/stats/_continuous_distns.py:2844: RuntimeWarning: The shape parameter of the erlang distribution has been given a non-integer value 11.71753972610204.\n",
      "  warnings.warn(\n",
      "/usr/local/anaconda3/envs/pybatsim/lib/python3.8/site-packages/scipy/stats/_continuous_distns.py:2844: RuntimeWarning: The shape parameter of the erlang distribution has been given a non-integer value 11.364488136427504.\n",
      "  warnings.warn(\n",
      "/usr/local/anaconda3/envs/pybatsim/lib/python3.8/site-packages/scipy/stats/_continuous_distns.py:2844: RuntimeWarning: The shape parameter of the erlang distribution has been given a non-integer value 14.357354484096476.\n",
      "  warnings.warn(\n",
      "/usr/local/anaconda3/envs/pybatsim/lib/python3.8/site-packages/scipy/stats/_continuous_distns.py:2844: RuntimeWarning: The shape parameter of the erlang distribution has been given a non-integer value 11.892467221846974.\n",
      "  warnings.warn(\n",
      "/usr/local/anaconda3/envs/pybatsim/lib/python3.8/site-packages/scipy/stats/_continuous_distns.py:2844: RuntimeWarning: The shape parameter of the erlang distribution has been given a non-integer value 13.51199702925014.\n",
      "  warnings.warn(\n",
      "/usr/local/anaconda3/envs/pybatsim/lib/python3.8/site-packages/scipy/stats/_continuous_distns.py:2844: RuntimeWarning: The shape parameter of the erlang distribution has been given a non-integer value 10.024639971550975.\n",
      "  warnings.warn(\n",
      "/usr/local/anaconda3/envs/pybatsim/lib/python3.8/site-packages/scipy/stats/_continuous_distns.py:2844: RuntimeWarning: The shape parameter of the erlang distribution has been given a non-integer value 9.178190094275443.\n",
      "  warnings.warn(\n",
      "/usr/local/anaconda3/envs/pybatsim/lib/python3.8/site-packages/scipy/stats/_continuous_distns.py:2844: RuntimeWarning: The shape parameter of the erlang distribution has been given a non-integer value 19.954443038615132.\n",
      "  warnings.warn(\n",
      "/usr/local/anaconda3/envs/pybatsim/lib/python3.8/site-packages/scipy/stats/_continuous_distns.py:2844: RuntimeWarning: The shape parameter of the erlang distribution has been given a non-integer value 14.072398957330666.\n",
      "  warnings.warn(\n",
      "/usr/local/anaconda3/envs/pybatsim/lib/python3.8/site-packages/scipy/stats/_continuous_distns.py:2844: RuntimeWarning: The shape parameter of the erlang distribution has been given a non-integer value 4.553947681955702.\n",
      "  warnings.warn(\n",
      "/usr/local/anaconda3/envs/pybatsim/lib/python3.8/site-packages/scipy/stats/_continuous_distns.py:2844: RuntimeWarning: The shape parameter of the erlang distribution has been given a non-integer value -3.1462999963740117.\n",
      "  warnings.warn(\n",
      "/usr/local/anaconda3/envs/pybatsim/lib/python3.8/site-packages/scipy/stats/_continuous_distns.py:2844: RuntimeWarning: The shape parameter of the erlang distribution has been given a non-integer value 5.024360793124401.\n",
      "  warnings.warn(\n",
      "/usr/local/anaconda3/envs/pybatsim/lib/python3.8/site-packages/scipy/stats/_continuous_distns.py:2844: RuntimeWarning: The shape parameter of the erlang distribution has been given a non-integer value 0.7805426750615325.\n",
      "  warnings.warn(\n",
      "/usr/local/anaconda3/envs/pybatsim/lib/python3.8/site-packages/scipy/stats/_continuous_distns.py:2844: RuntimeWarning: The shape parameter of the erlang distribution has been given a non-integer value -4.397278656468881.\n",
      "  warnings.warn(\n",
      "/usr/local/anaconda3/envs/pybatsim/lib/python3.8/site-packages/scipy/stats/_continuous_distns.py:2844: RuntimeWarning: The shape parameter of the erlang distribution has been given a non-integer value 9.45497955388078.\n",
      "  warnings.warn(\n",
      "/usr/local/anaconda3/envs/pybatsim/lib/python3.8/site-packages/scipy/stats/_continuous_distns.py:2844: RuntimeWarning: The shape parameter of the erlang distribution has been given a non-integer value 0.6814565129898984.\n",
      "  warnings.warn(\n",
      "/usr/local/anaconda3/envs/pybatsim/lib/python3.8/site-packages/scipy/stats/_continuous_distns.py:2844: RuntimeWarning: The shape parameter of the erlang distribution has been given a non-integer value 2.7240381459991054.\n",
      "  warnings.warn(\n",
      "/usr/local/anaconda3/envs/pybatsim/lib/python3.8/site-packages/scipy/stats/_continuous_distns.py:2844: RuntimeWarning: The shape parameter of the erlang distribution has been given a non-integer value 1.8090833780208069.\n",
      "  warnings.warn(\n",
      "/usr/local/anaconda3/envs/pybatsim/lib/python3.8/site-packages/scipy/stats/_continuous_distns.py:2844: RuntimeWarning: The shape parameter of the erlang distribution has been given a non-integer value -7.2742578431659535.\n",
      "  warnings.warn(\n",
      "/usr/local/anaconda3/envs/pybatsim/lib/python3.8/site-packages/scipy/stats/_continuous_distns.py:2844: RuntimeWarning: The shape parameter of the erlang distribution has been given a non-integer value 5.272670204619096.\n",
      "  warnings.warn(\n",
      "/usr/local/anaconda3/envs/pybatsim/lib/python3.8/site-packages/scipy/stats/_continuous_distns.py:2844: RuntimeWarning: The shape parameter of the erlang distribution has been given a non-integer value -3.0919484939042703.\n",
      "  warnings.warn(\n",
      "/usr/local/anaconda3/envs/pybatsim/lib/python3.8/site-packages/scipy/stats/_continuous_distns.py:2844: RuntimeWarning: The shape parameter of the erlang distribution has been given a non-integer value 3.1815155299882543.\n",
      "  warnings.warn(\n",
      "/usr/local/anaconda3/envs/pybatsim/lib/python3.8/site-packages/scipy/stats/_continuous_distns.py:2844: RuntimeWarning: The shape parameter of the erlang distribution has been given a non-integer value 3.165971209057164.\n",
      "  warnings.warn(\n",
      "/usr/local/anaconda3/envs/pybatsim/lib/python3.8/site-packages/scipy/stats/_continuous_distns.py:2844: RuntimeWarning: The shape parameter of the erlang distribution has been given a non-integer value 0.6555493114380808.\n",
      "  warnings.warn(\n",
      "/usr/local/anaconda3/envs/pybatsim/lib/python3.8/site-packages/scipy/stats/_continuous_distns.py:2844: RuntimeWarning: The shape parameter of the erlang distribution has been given a non-integer value -0.6074337978370057.\n",
      "  warnings.warn(\n",
      "/usr/local/anaconda3/envs/pybatsim/lib/python3.8/site-packages/scipy/stats/_continuous_distns.py:2844: RuntimeWarning: The shape parameter of the erlang distribution has been given a non-integer value 2.9731932572825017.\n",
      "  warnings.warn(\n",
      "/usr/local/anaconda3/envs/pybatsim/lib/python3.8/site-packages/scipy/stats/_continuous_distns.py:2844: RuntimeWarning: The shape parameter of the erlang distribution has been given a non-integer value 4.0695185483929865.\n",
      "  warnings.warn(\n",
      "/usr/local/anaconda3/envs/pybatsim/lib/python3.8/site-packages/scipy/stats/_continuous_distns.py:2844: RuntimeWarning: The shape parameter of the erlang distribution has been given a non-integer value 1.1901296161774195.\n",
      "  warnings.warn(\n",
      "/usr/local/anaconda3/envs/pybatsim/lib/python3.8/site-packages/scipy/stats/_continuous_distns.py:2844: RuntimeWarning: The shape parameter of the erlang distribution has been given a non-integer value 0.2022088197375469.\n",
      "  warnings.warn(\n",
      "/usr/local/anaconda3/envs/pybatsim/lib/python3.8/site-packages/scipy/stats/_continuous_distns.py:2844: RuntimeWarning: The shape parameter of the erlang distribution has been given a non-integer value 1.4757677416916022.\n",
      "  warnings.warn(\n",
      "/usr/local/anaconda3/envs/pybatsim/lib/python3.8/site-packages/scipy/stats/_continuous_distns.py:2844: RuntimeWarning: The shape parameter of the erlang distribution has been given a non-integer value 1.309109923527.\n",
      "  warnings.warn(\n",
      "/usr/local/anaconda3/envs/pybatsim/lib/python3.8/site-packages/scipy/stats/_continuous_distns.py:2844: RuntimeWarning: The shape parameter of the erlang distribution has been given a non-integer value 3.065008883000275.\n",
      "  warnings.warn(\n",
      "/usr/local/anaconda3/envs/pybatsim/lib/python3.8/site-packages/scipy/stats/_continuous_distns.py:2844: RuntimeWarning: The shape parameter of the erlang distribution has been given a non-integer value -1.018633464216439.\n",
      "  warnings.warn(\n",
      "/usr/local/anaconda3/envs/pybatsim/lib/python3.8/site-packages/scipy/stats/_continuous_distns.py:2844: RuntimeWarning: The shape parameter of the erlang distribution has been given a non-integer value 2.79748054524063.\n",
      "  warnings.warn(\n",
      "/usr/local/anaconda3/envs/pybatsim/lib/python3.8/site-packages/scipy/stats/_continuous_distns.py:2844: RuntimeWarning: The shape parameter of the erlang distribution has been given a non-integer value 0.2534045389359174.\n",
      "  warnings.warn(\n",
      "/usr/local/anaconda3/envs/pybatsim/lib/python3.8/site-packages/scipy/stats/_continuous_distns.py:2844: RuntimeWarning: The shape parameter of the erlang distribution has been given a non-integer value 2.8828067439045815.\n",
      "  warnings.warn(\n",
      "/usr/local/anaconda3/envs/pybatsim/lib/python3.8/site-packages/scipy/stats/_continuous_distns.py:2844: RuntimeWarning: The shape parameter of the erlang distribution has been given a non-integer value -0.10146141208860904.\n",
      "  warnings.warn(\n",
      "/usr/local/anaconda3/envs/pybatsim/lib/python3.8/site-packages/scipy/stats/_continuous_distns.py:2844: RuntimeWarning: The shape parameter of the erlang distribution has been given a non-integer value 2.273391309228054.\n",
      "  warnings.warn(\n",
      "/usr/local/anaconda3/envs/pybatsim/lib/python3.8/site-packages/scipy/stats/_continuous_distns.py:2844: RuntimeWarning: The shape parameter of the erlang distribution has been given a non-integer value -0.3255362294439337.\n",
      "  warnings.warn(\n",
      "/usr/local/anaconda3/envs/pybatsim/lib/python3.8/site-packages/scipy/stats/_continuous_distns.py:2844: RuntimeWarning: The shape parameter of the erlang distribution has been given a non-integer value 2.080721000567453.\n",
      "  warnings.warn(\n",
      "/usr/local/anaconda3/envs/pybatsim/lib/python3.8/site-packages/scipy/stats/_continuous_distns.py:2844: RuntimeWarning: The shape parameter of the erlang distribution has been given a non-integer value 0.1554323327921927.\n",
      "  warnings.warn(\n",
      "/usr/local/anaconda3/envs/pybatsim/lib/python3.8/site-packages/scipy/stats/_continuous_distns.py:2844: RuntimeWarning: The shape parameter of the erlang distribution has been given a non-integer value 0.35059532467004195.\n",
      "  warnings.warn(\n",
      "/usr/local/anaconda3/envs/pybatsim/lib/python3.8/site-packages/scipy/stats/_continuous_distns.py:2844: RuntimeWarning: The shape parameter of the erlang distribution has been given a non-integer value -0.12866197475843721.\n",
      "  warnings.warn(\n",
      "/usr/local/anaconda3/envs/pybatsim/lib/python3.8/site-packages/scipy/stats/_continuous_distns.py:2844: RuntimeWarning: The shape parameter of the erlang distribution has been given a non-integer value -1.5744328696353516.\n",
      "  warnings.warn(\n",
      "/usr/local/anaconda3/envs/pybatsim/lib/python3.8/site-packages/scipy/stats/_continuous_distns.py:2844: RuntimeWarning: The shape parameter of the erlang distribution has been given a non-integer value 1.1669325330167517.\n",
      "  warnings.warn(\n",
      "/usr/local/anaconda3/envs/pybatsim/lib/python3.8/site-packages/scipy/stats/_continuous_distns.py:2844: RuntimeWarning: The shape parameter of the erlang distribution has been given a non-integer value 1.0251892649562813.\n",
      "  warnings.warn(\n",
      "/usr/local/anaconda3/envs/pybatsim/lib/python3.8/site-packages/scipy/stats/_continuous_distns.py:2844: RuntimeWarning: The shape parameter of the erlang distribution has been given a non-integer value 1.4417402094927991.\n",
      "  warnings.warn(\n",
      "/usr/local/anaconda3/envs/pybatsim/lib/python3.8/site-packages/scipy/stats/_continuous_distns.py:2844: RuntimeWarning: The shape parameter of the erlang distribution has been given a non-integer value 0.7114173330626634.\n",
      "  warnings.warn(\n",
      "/usr/local/anaconda3/envs/pybatsim/lib/python3.8/site-packages/scipy/stats/_continuous_distns.py:2844: RuntimeWarning: The shape parameter of the erlang distribution has been given a non-integer value 0.48365973308561916.\n",
      "  warnings.warn(\n",
      "/usr/local/anaconda3/envs/pybatsim/lib/python3.8/site-packages/scipy/stats/_continuous_distns.py:2844: RuntimeWarning: The shape parameter of the erlang distribution has been given a non-integer value -0.20211066101817088.\n",
      "  warnings.warn(\n",
      "/usr/local/anaconda3/envs/pybatsim/lib/python3.8/site-packages/scipy/stats/_continuous_distns.py:2844: RuntimeWarning: The shape parameter of the erlang distribution has been given a non-integer value 1.0307774918650567.\n",
      "  warnings.warn(\n",
      "/usr/local/anaconda3/envs/pybatsim/lib/python3.8/site-packages/scipy/stats/_continuous_distns.py:2844: RuntimeWarning: The shape parameter of the erlang distribution has been given a non-integer value 0.2181657681241973.\n",
      "  warnings.warn(\n",
      "/usr/local/anaconda3/envs/pybatsim/lib/python3.8/site-packages/scipy/stats/_continuous_distns.py:2844: RuntimeWarning: The shape parameter of the erlang distribution has been given a non-integer value 0.8044733373798736.\n",
      "  warnings.warn(\n",
      "/usr/local/anaconda3/envs/pybatsim/lib/python3.8/site-packages/scipy/stats/_continuous_distns.py:2844: RuntimeWarning: The shape parameter of the erlang distribution has been given a non-integer value 1.0314123437347895.\n",
      "  warnings.warn(\n",
      "/usr/local/anaconda3/envs/pybatsim/lib/python3.8/site-packages/scipy/stats/_continuous_distns.py:2844: RuntimeWarning: The shape parameter of the erlang distribution has been given a non-integer value 0.12471440476468065.\n",
      "  warnings.warn(\n",
      "/usr/local/anaconda3/envs/pybatsim/lib/python3.8/site-packages/scipy/stats/_continuous_distns.py:2844: RuntimeWarning: The shape parameter of the erlang distribution has been given a non-integer value -0.3283171387855073.\n",
      "  warnings.warn(\n",
      "/usr/local/anaconda3/envs/pybatsim/lib/python3.8/site-packages/scipy/stats/_continuous_distns.py:2844: RuntimeWarning: The shape parameter of the erlang distribution has been given a non-integer value 0.8750252195991957.\n",
      "  warnings.warn(\n",
      "/usr/local/anaconda3/envs/pybatsim/lib/python3.8/site-packages/scipy/stats/_continuous_distns.py:2844: RuntimeWarning: The shape parameter of the erlang distribution has been given a non-integer value 1.203454945336695.\n",
      "  warnings.warn(\n",
      "/usr/local/anaconda3/envs/pybatsim/lib/python3.8/site-packages/scipy/stats/_continuous_distns.py:2844: RuntimeWarning: The shape parameter of the erlang distribution has been given a non-integer value 0.8704415789801578.\n",
      "  warnings.warn(\n",
      "/usr/local/anaconda3/envs/pybatsim/lib/python3.8/site-packages/scipy/stats/_continuous_distns.py:2844: RuntimeWarning: The shape parameter of the erlang distribution has been given a non-integer value 1.0638325019274273.\n",
      "  warnings.warn(\n",
      "/usr/local/anaconda3/envs/pybatsim/lib/python3.8/site-packages/scipy/stats/_continuous_distns.py:2844: RuntimeWarning: The shape parameter of the erlang distribution has been given a non-integer value 0.3443024071260794.\n",
      "  warnings.warn(\n",
      "/usr/local/anaconda3/envs/pybatsim/lib/python3.8/site-packages/scipy/stats/_continuous_distns.py:2844: RuntimeWarning: The shape parameter of the erlang distribution has been given a non-integer value 0.0007474388217243444.\n",
      "  warnings.warn(\n",
      "/usr/local/anaconda3/envs/pybatsim/lib/python3.8/site-packages/scipy/stats/_continuous_distns.py:2844: RuntimeWarning: The shape parameter of the erlang distribution has been given a non-integer value 1.3973923476704542.\n",
      "  warnings.warn(\n",
      "/usr/local/anaconda3/envs/pybatsim/lib/python3.8/site-packages/scipy/stats/_continuous_distns.py:2844: RuntimeWarning: The shape parameter of the erlang distribution has been given a non-integer value 1.079222861944011.\n",
      "  warnings.warn(\n",
      "/usr/local/anaconda3/envs/pybatsim/lib/python3.8/site-packages/scipy/stats/_continuous_distns.py:2844: RuntimeWarning: The shape parameter of the erlang distribution has been given a non-integer value 0.7832132943991494.\n",
      "  warnings.warn(\n",
      "/usr/local/anaconda3/envs/pybatsim/lib/python3.8/site-packages/scipy/stats/_continuous_distns.py:2844: RuntimeWarning: The shape parameter of the erlang distribution has been given a non-integer value 0.7373073317991263.\n",
      "  warnings.warn(\n",
      "/usr/local/anaconda3/envs/pybatsim/lib/python3.8/site-packages/scipy/stats/_continuous_distns.py:2844: RuntimeWarning: The shape parameter of the erlang distribution has been given a non-integer value 0.35107196529107765.\n",
      "  warnings.warn(\n",
      "/usr/local/anaconda3/envs/pybatsim/lib/python3.8/site-packages/scipy/stats/_continuous_distns.py:2844: RuntimeWarning: The shape parameter of the erlang distribution has been given a non-integer value -0.013003483035388896.\n",
      "  warnings.warn(\n",
      "/usr/local/anaconda3/envs/pybatsim/lib/python3.8/site-packages/scipy/stats/_continuous_distns.py:2844: RuntimeWarning: The shape parameter of the erlang distribution has been given a non-integer value -0.10871136578323837.\n",
      "  warnings.warn(\n",
      "/usr/local/anaconda3/envs/pybatsim/lib/python3.8/site-packages/scipy/stats/_continuous_distns.py:2844: RuntimeWarning: The shape parameter of the erlang distribution has been given a non-integer value 0.7706965349997609.\n",
      "  warnings.warn(\n",
      "/usr/local/anaconda3/envs/pybatsim/lib/python3.8/site-packages/scipy/stats/_continuous_distns.py:2844: RuntimeWarning: The shape parameter of the erlang distribution has been given a non-integer value 0.8950814809338972.\n",
      "  warnings.warn(\n",
      "/usr/local/anaconda3/envs/pybatsim/lib/python3.8/site-packages/scipy/stats/_continuous_distns.py:2844: RuntimeWarning: The shape parameter of the erlang distribution has been given a non-integer value 0.55161065034964.\n",
      "  warnings.warn(\n",
      "/usr/local/anaconda3/envs/pybatsim/lib/python3.8/site-packages/scipy/stats/_continuous_distns.py:2844: RuntimeWarning: The shape parameter of the erlang distribution has been given a non-integer value 0.4420677080245794.\n",
      "  warnings.warn(\n",
      "/usr/local/anaconda3/envs/pybatsim/lib/python3.8/site-packages/scipy/stats/_continuous_distns.py:2844: RuntimeWarning: The shape parameter of the erlang distribution has been given a non-integer value 0.1252165224759585.\n",
      "  warnings.warn(\n",
      "/usr/local/anaconda3/envs/pybatsim/lib/python3.8/site-packages/scipy/stats/_continuous_distns.py:2844: RuntimeWarning: The shape parameter of the erlang distribution has been given a non-integer value -0.1250698679380493.\n",
      "  warnings.warn(\n",
      "/usr/local/anaconda3/envs/pybatsim/lib/python3.8/site-packages/scipy/stats/_continuous_distns.py:2844: RuntimeWarning: The shape parameter of the erlang distribution has been given a non-integer value 0.5217130318648324.\n",
      "  warnings.warn(\n",
      "/usr/local/anaconda3/envs/pybatsim/lib/python3.8/site-packages/scipy/stats/_continuous_distns.py:2844: RuntimeWarning: The shape parameter of the erlang distribution has been given a non-integer value 0.7513519476443679.\n",
      "  warnings.warn(\n",
      "/usr/local/anaconda3/envs/pybatsim/lib/python3.8/site-packages/scipy/stats/_continuous_distns.py:2844: RuntimeWarning: The shape parameter of the erlang distribution has been given a non-integer value 0.5948180913522655.\n",
      "  warnings.warn(\n",
      "/usr/local/anaconda3/envs/pybatsim/lib/python3.8/site-packages/scipy/stats/_continuous_distns.py:2844: RuntimeWarning: The shape parameter of the erlang distribution has been given a non-integer value 0.6879939222033737.\n",
      "  warnings.warn(\n",
      "/usr/local/anaconda3/envs/pybatsim/lib/python3.8/site-packages/scipy/stats/_continuous_distns.py:2844: RuntimeWarning: The shape parameter of the erlang distribution has been given a non-integer value 0.5063650167095916.\n",
      "  warnings.warn(\n",
      "/usr/local/anaconda3/envs/pybatsim/lib/python3.8/site-packages/scipy/stats/_continuous_distns.py:2844: RuntimeWarning: The shape parameter of the erlang distribution has been given a non-integer value 0.5692380660935306.\n",
      "  warnings.warn(\n",
      "/usr/local/anaconda3/envs/pybatsim/lib/python3.8/site-packages/scipy/stats/_continuous_distns.py:2844: RuntimeWarning: The shape parameter of the erlang distribution has been given a non-integer value 0.32378660501509393.\n",
      "  warnings.warn(\n",
      "/usr/local/anaconda3/envs/pybatsim/lib/python3.8/site-packages/scipy/stats/_continuous_distns.py:2844: RuntimeWarning: The shape parameter of the erlang distribution has been given a non-integer value 0.14168294642095391.\n",
      "  warnings.warn(\n",
      "/usr/local/anaconda3/envs/pybatsim/lib/python3.8/site-packages/scipy/stats/_continuous_distns.py:2844: RuntimeWarning: The shape parameter of the erlang distribution has been given a non-integer value 0.27890815373931277.\n",
      "  warnings.warn(\n",
      "/usr/local/anaconda3/envs/pybatsim/lib/python3.8/site-packages/scipy/stats/_continuous_distns.py:2844: RuntimeWarning: The shape parameter of the erlang distribution has been given a non-integer value 0.4966555880049761.\n",
      "  warnings.warn(\n",
      "/usr/local/anaconda3/envs/pybatsim/lib/python3.8/site-packages/scipy/stats/_continuous_distns.py:2844: RuntimeWarning: The shape parameter of the erlang distribution has been given a non-integer value 0.3353082506535081.\n",
      "  warnings.warn(\n",
      "/usr/local/anaconda3/envs/pybatsim/lib/python3.8/site-packages/scipy/stats/_continuous_distns.py:2844: RuntimeWarning: The shape parameter of the erlang distribution has been given a non-integer value 0.32843258775780604.\n",
      "  warnings.warn(\n",
      "/usr/local/anaconda3/envs/pybatsim/lib/python3.8/site-packages/scipy/stats/_continuous_distns.py:2844: RuntimeWarning: The shape parameter of the erlang distribution has been given a non-integer value 0.27161502762441936.\n",
      "  warnings.warn(\n",
      "/usr/local/anaconda3/envs/pybatsim/lib/python3.8/site-packages/scipy/stats/_continuous_distns.py:2844: RuntimeWarning: The shape parameter of the erlang distribution has been given a non-integer value 0.12381766752370482.\n",
      "  warnings.warn(\n",
      "/usr/local/anaconda3/envs/pybatsim/lib/python3.8/site-packages/scipy/stats/_continuous_distns.py:2844: RuntimeWarning: The shape parameter of the erlang distribution has been given a non-integer value 0.4034461078846583.\n",
      "  warnings.warn(\n",
      "/usr/local/anaconda3/envs/pybatsim/lib/python3.8/site-packages/scipy/stats/_continuous_distns.py:2844: RuntimeWarning: The shape parameter of the erlang distribution has been given a non-integer value 0.330590243029273.\n",
      "  warnings.warn(\n",
      "/usr/local/anaconda3/envs/pybatsim/lib/python3.8/site-packages/scipy/stats/_continuous_distns.py:2844: RuntimeWarning: The shape parameter of the erlang distribution has been given a non-integer value 0.32823123921715536.\n",
      "  warnings.warn(\n",
      "/usr/local/anaconda3/envs/pybatsim/lib/python3.8/site-packages/scipy/stats/_continuous_distns.py:2844: RuntimeWarning: The shape parameter of the erlang distribution has been given a non-integer value 0.34507497813572807.\n",
      "  warnings.warn(\n",
      "/usr/local/anaconda3/envs/pybatsim/lib/python3.8/site-packages/scipy/stats/_continuous_distns.py:2844: RuntimeWarning: The shape parameter of the erlang distribution has been given a non-integer value 0.22650138876687687.\n",
      "  warnings.warn(\n",
      "/usr/local/anaconda3/envs/pybatsim/lib/python3.8/site-packages/scipy/stats/_continuous_distns.py:2844: RuntimeWarning: The shape parameter of the erlang distribution has been given a non-integer value 0.27073756854632225.\n",
      "  warnings.warn(\n",
      "/usr/local/anaconda3/envs/pybatsim/lib/python3.8/site-packages/scipy/stats/_continuous_distns.py:2844: RuntimeWarning: The shape parameter of the erlang distribution has been given a non-integer value 0.3577474963083844.\n",
      "  warnings.warn(\n",
      "/usr/local/anaconda3/envs/pybatsim/lib/python3.8/site-packages/scipy/stats/_continuous_distns.py:2844: RuntimeWarning: The shape parameter of the erlang distribution has been given a non-integer value 0.33621437913739316.\n",
      "  warnings.warn(\n",
      "/usr/local/anaconda3/envs/pybatsim/lib/python3.8/site-packages/scipy/stats/_continuous_distns.py:2844: RuntimeWarning: The shape parameter of the erlang distribution has been given a non-integer value 0.40227616244719544.\n",
      "  warnings.warn(\n",
      "/usr/local/anaconda3/envs/pybatsim/lib/python3.8/site-packages/scipy/stats/_continuous_distns.py:2844: RuntimeWarning: The shape parameter of the erlang distribution has been given a non-integer value 0.3036222170215406.\n",
      "  warnings.warn(\n",
      "/usr/local/anaconda3/envs/pybatsim/lib/python3.8/site-packages/scipy/stats/_continuous_distns.py:2844: RuntimeWarning: The shape parameter of the erlang distribution has been given a non-integer value 0.3003035787816647.\n",
      "  warnings.warn(\n",
      "/usr/local/anaconda3/envs/pybatsim/lib/python3.8/site-packages/scipy/stats/_continuous_distns.py:2844: RuntimeWarning: The shape parameter of the erlang distribution has been given a non-integer value 0.28522364420951396.\n",
      "  warnings.warn(\n",
      "/usr/local/anaconda3/envs/pybatsim/lib/python3.8/site-packages/scipy/stats/_continuous_distns.py:2844: RuntimeWarning: The shape parameter of the erlang distribution has been given a non-integer value 0.3234666954054234.\n",
      "  warnings.warn(\n",
      "/usr/local/anaconda3/envs/pybatsim/lib/python3.8/site-packages/scipy/stats/_continuous_distns.py:2844: RuntimeWarning: The shape parameter of the erlang distribution has been given a non-integer value 0.29003042158859704.\n",
      "  warnings.warn(\n",
      "/usr/local/anaconda3/envs/pybatsim/lib/python3.8/site-packages/scipy/stats/_continuous_distns.py:2844: RuntimeWarning: The shape parameter of the erlang distribution has been given a non-integer value 0.31868103481001575.\n",
      "  warnings.warn(\n",
      "/usr/local/anaconda3/envs/pybatsim/lib/python3.8/site-packages/scipy/stats/_continuous_distns.py:2844: RuntimeWarning: The shape parameter of the erlang distribution has been given a non-integer value 0.3302097193763218.\n",
      "  warnings.warn(\n",
      "/usr/local/anaconda3/envs/pybatsim/lib/python3.8/site-packages/scipy/stats/_continuous_distns.py:2844: RuntimeWarning: The shape parameter of the erlang distribution has been given a non-integer value 0.307780113930329.\n",
      "  warnings.warn(\n",
      "/usr/local/anaconda3/envs/pybatsim/lib/python3.8/site-packages/scipy/stats/_continuous_distns.py:2844: RuntimeWarning: The shape parameter of the erlang distribution has been given a non-integer value 0.29658888176916687.\n",
      "  warnings.warn(\n",
      "/usr/local/anaconda3/envs/pybatsim/lib/python3.8/site-packages/scipy/stats/_continuous_distns.py:2844: RuntimeWarning: The shape parameter of the erlang distribution has been given a non-integer value 0.3167472419963593.\n",
      "  warnings.warn(\n",
      "/usr/local/anaconda3/envs/pybatsim/lib/python3.8/site-packages/scipy/stats/_continuous_distns.py:2844: RuntimeWarning: The shape parameter of the erlang distribution has been given a non-integer value 0.3000853471554702.\n",
      "  warnings.warn(\n",
      "/usr/local/anaconda3/envs/pybatsim/lib/python3.8/site-packages/scipy/stats/_continuous_distns.py:2844: RuntimeWarning: The shape parameter of the erlang distribution has been given a non-integer value 0.31403211289637933.\n",
      "  warnings.warn(\n",
      "/usr/local/anaconda3/envs/pybatsim/lib/python3.8/site-packages/scipy/stats/_continuous_distns.py:2844: RuntimeWarning: The shape parameter of the erlang distribution has been given a non-integer value 0.3220840955271712.\n",
      "  warnings.warn(\n",
      "/usr/local/anaconda3/envs/pybatsim/lib/python3.8/site-packages/scipy/stats/_continuous_distns.py:2844: RuntimeWarning: The shape parameter of the erlang distribution has been given a non-integer value 0.30823768664794826.\n",
      "  warnings.warn(\n",
      "/usr/local/anaconda3/envs/pybatsim/lib/python3.8/site-packages/scipy/stats/_continuous_distns.py:2844: RuntimeWarning: The shape parameter of the erlang distribution has been given a non-integer value 0.3182312470967956.\n",
      "  warnings.warn(\n",
      "/usr/local/anaconda3/envs/pybatsim/lib/python3.8/site-packages/scipy/stats/_continuous_distns.py:2844: RuntimeWarning: The shape parameter of the erlang distribution has been given a non-integer value 0.31561846380517894.\n",
      "  warnings.warn(\n",
      "/usr/local/anaconda3/envs/pybatsim/lib/python3.8/site-packages/scipy/stats/_continuous_distns.py:2844: RuntimeWarning: The shape parameter of the erlang distribution has been given a non-integer value 0.3226941924839968.\n",
      "  warnings.warn(\n",
      "/usr/local/anaconda3/envs/pybatsim/lib/python3.8/site-packages/scipy/stats/_continuous_distns.py:2844: RuntimeWarning: The shape parameter of the erlang distribution has been given a non-integer value 0.3118518131069604.\n",
      "  warnings.warn(\n",
      "/usr/local/anaconda3/envs/pybatsim/lib/python3.8/site-packages/scipy/stats/_continuous_distns.py:2844: RuntimeWarning: The shape parameter of the erlang distribution has been given a non-integer value 0.31544623304261976.\n",
      "  warnings.warn(\n",
      "/usr/local/anaconda3/envs/pybatsim/lib/python3.8/site-packages/scipy/stats/_continuous_distns.py:2844: RuntimeWarning: The shape parameter of the erlang distribution has been given a non-integer value 0.31438564293293947.\n",
      "  warnings.warn(\n",
      "/usr/local/anaconda3/envs/pybatsim/lib/python3.8/site-packages/scipy/stats/_continuous_distns.py:2844: RuntimeWarning: The shape parameter of the erlang distribution has been given a non-integer value 0.3111567045670266.\n",
      "  warnings.warn(\n",
      "/usr/local/anaconda3/envs/pybatsim/lib/python3.8/site-packages/scipy/stats/_continuous_distns.py:2844: RuntimeWarning: The shape parameter of the erlang distribution has been given a non-integer value 0.3125543389243598.\n",
      "  warnings.warn(\n",
      "/usr/local/anaconda3/envs/pybatsim/lib/python3.8/site-packages/scipy/stats/_continuous_distns.py:2844: RuntimeWarning: The shape parameter of the erlang distribution has been given a non-integer value 0.31024273283766085.\n",
      "  warnings.warn(\n",
      "/usr/local/anaconda3/envs/pybatsim/lib/python3.8/site-packages/scipy/stats/_continuous_distns.py:2844: RuntimeWarning: The shape parameter of the erlang distribution has been given a non-integer value 0.3142745310632994.\n",
      "  warnings.warn(\n",
      "/usr/local/anaconda3/envs/pybatsim/lib/python3.8/site-packages/scipy/stats/_continuous_distns.py:2844: RuntimeWarning: The shape parameter of the erlang distribution has been given a non-integer value 0.31140147913014027.\n",
      "  warnings.warn(\n",
      "/usr/local/anaconda3/envs/pybatsim/lib/python3.8/site-packages/scipy/stats/_continuous_distns.py:2844: RuntimeWarning: The shape parameter of the erlang distribution has been given a non-integer value 0.31214752008084007.\n",
      "  warnings.warn(\n",
      "/usr/local/anaconda3/envs/pybatsim/lib/python3.8/site-packages/scipy/stats/_continuous_distns.py:2844: RuntimeWarning: The shape parameter of the erlang distribution has been given a non-integer value 0.3129615705763734.\n",
      "  warnings.warn(\n",
      "/usr/local/anaconda3/envs/pybatsim/lib/python3.8/site-packages/scipy/stats/_continuous_distns.py:2844: RuntimeWarning: The shape parameter of the erlang distribution has been given a non-integer value 0.3126561468373632.\n",
      "  warnings.warn(\n",
      "/usr/local/anaconda3/envs/pybatsim/lib/python3.8/site-packages/scipy/stats/_continuous_distns.py:2844: RuntimeWarning: The shape parameter of the erlang distribution has been given a non-integer value 0.3101624556201431.\n",
      "  warnings.warn(\n",
      "/usr/local/anaconda3/envs/pybatsim/lib/python3.8/site-packages/scipy/stats/_continuous_distns.py:2844: RuntimeWarning: The shape parameter of the erlang distribution has been given a non-integer value 0.3132465122025103.\n",
      "  warnings.warn(\n",
      "/usr/local/anaconda3/envs/pybatsim/lib/python3.8/site-packages/scipy/stats/_continuous_distns.py:2844: RuntimeWarning: The shape parameter of the erlang distribution has been given a non-integer value 0.3135149729735154.\n",
      "  warnings.warn(\n",
      "/usr/local/anaconda3/envs/pybatsim/lib/python3.8/site-packages/scipy/stats/_continuous_distns.py:2844: RuntimeWarning: The shape parameter of the erlang distribution has been given a non-integer value 0.31413090126141924.\n",
      "  warnings.warn(\n",
      "/usr/local/anaconda3/envs/pybatsim/lib/python3.8/site-packages/scipy/stats/_continuous_distns.py:2844: RuntimeWarning: The shape parameter of the erlang distribution has been given a non-integer value 0.31264336537598486.\n",
      "  warnings.warn(\n",
      "/usr/local/anaconda3/envs/pybatsim/lib/python3.8/site-packages/scipy/stats/_continuous_distns.py:2844: RuntimeWarning: The shape parameter of the erlang distribution has been given a non-integer value 0.31218237663705684.\n",
      "  warnings.warn(\n",
      "/usr/local/anaconda3/envs/pybatsim/lib/python3.8/site-packages/scipy/stats/_continuous_distns.py:2844: RuntimeWarning: The shape parameter of the erlang distribution has been given a non-integer value 0.31318182388940075.\n",
      "  warnings.warn(\n",
      "/usr/local/anaconda3/envs/pybatsim/lib/python3.8/site-packages/scipy/stats/_continuous_distns.py:2844: RuntimeWarning: The shape parameter of the erlang distribution has been given a non-integer value 0.31339165414123404.\n",
      "  warnings.warn(\n",
      "/usr/local/anaconda3/envs/pybatsim/lib/python3.8/site-packages/scipy/stats/_continuous_distns.py:2844: RuntimeWarning: The shape parameter of the erlang distribution has been given a non-integer value 0.31300586392375207.\n",
      "  warnings.warn(\n",
      "/usr/local/anaconda3/envs/pybatsim/lib/python3.8/site-packages/scipy/stats/_continuous_distns.py:2844: RuntimeWarning: The shape parameter of the erlang distribution has been given a non-integer value 0.31378598813567943.\n",
      "  warnings.warn(\n",
      "/usr/local/anaconda3/envs/pybatsim/lib/python3.8/site-packages/scipy/stats/_continuous_distns.py:2844: RuntimeWarning: The shape parameter of the erlang distribution has been given a non-integer value 0.3129290210659085.\n",
      "  warnings.warn(\n",
      "/usr/local/anaconda3/envs/pybatsim/lib/python3.8/site-packages/scipy/stats/_continuous_distns.py:2844: RuntimeWarning: The shape parameter of the erlang distribution has been given a non-integer value 0.31272927732021316.\n",
      "  warnings.warn(\n",
      "/usr/local/anaconda3/envs/pybatsim/lib/python3.8/site-packages/scipy/stats/_continuous_distns.py:2844: RuntimeWarning: The shape parameter of the erlang distribution has been given a non-integer value 0.31293067646866923.\n",
      "  warnings.warn(\n",
      "/usr/local/anaconda3/envs/pybatsim/lib/python3.8/site-packages/scipy/stats/_continuous_distns.py:2844: RuntimeWarning: The shape parameter of the erlang distribution has been given a non-integer value 0.31298706705998136.\n",
      "  warnings.warn(\n",
      "/usr/local/anaconda3/envs/pybatsim/lib/python3.8/site-packages/scipy/stats/_continuous_distns.py:2844: RuntimeWarning: The shape parameter of the erlang distribution has been given a non-integer value 0.3133791228987203.\n",
      "  warnings.warn(\n",
      "/usr/local/anaconda3/envs/pybatsim/lib/python3.8/site-packages/scipy/stats/_continuous_distns.py:2844: RuntimeWarning: The shape parameter of the erlang distribution has been given a non-integer value 0.31289173871483994.\n",
      "  warnings.warn(\n",
      "/usr/local/anaconda3/envs/pybatsim/lib/python3.8/site-packages/scipy/stats/_continuous_distns.py:2844: RuntimeWarning: The shape parameter of the erlang distribution has been given a non-integer value 0.31262537235797616.\n",
      "  warnings.warn(\n",
      "/usr/local/anaconda3/envs/pybatsim/lib/python3.8/site-packages/scipy/stats/_continuous_distns.py:2844: RuntimeWarning: The shape parameter of the erlang distribution has been given a non-integer value 0.3130912272413768.\n",
      "  warnings.warn(\n",
      "/usr/local/anaconda3/envs/pybatsim/lib/python3.8/site-packages/scipy/stats/_continuous_distns.py:2844: RuntimeWarning: The shape parameter of the erlang distribution has been given a non-integer value 0.31295425762143547.\n",
      "  warnings.warn(\n",
      "/usr/local/anaconda3/envs/pybatsim/lib/python3.8/site-packages/scipy/stats/_continuous_distns.py:2844: RuntimeWarning: The shape parameter of the erlang distribution has been given a non-integer value 0.31297886470034486.\n",
      "  warnings.warn(\n",
      "/usr/local/anaconda3/envs/pybatsim/lib/python3.8/site-packages/scipy/stats/_continuous_distns.py:2844: RuntimeWarning: The shape parameter of the erlang distribution has been given a non-integer value 0.31310766995691347.\n",
      "  warnings.warn(\n",
      "/usr/local/anaconda3/envs/pybatsim/lib/python3.8/site-packages/scipy/stats/_continuous_distns.py:2844: RuntimeWarning: The shape parameter of the erlang distribution has been given a non-integer value 0.31318948686651493.\n",
      "  warnings.warn(\n",
      "/usr/local/anaconda3/envs/pybatsim/lib/python3.8/site-packages/scipy/stats/_continuous_distns.py:2844: RuntimeWarning: The shape parameter of the erlang distribution has been given a non-integer value 0.3129941375160601.\n",
      "  warnings.warn(\n",
      "/usr/local/anaconda3/envs/pybatsim/lib/python3.8/site-packages/scipy/stats/_continuous_distns.py:2844: RuntimeWarning: The shape parameter of the erlang distribution has been given a non-integer value 0.31314982510922207.\n",
      "  warnings.warn(\n",
      "/usr/local/anaconda3/envs/pybatsim/lib/python3.8/site-packages/scipy/stats/_continuous_distns.py:2844: RuntimeWarning: The shape parameter of the erlang distribution has been given a non-integer value 0.31302160480256414.\n",
      "  warnings.warn(\n",
      "/usr/local/anaconda3/envs/pybatsim/lib/python3.8/site-packages/scipy/stats/_continuous_distns.py:2844: RuntimeWarning: The shape parameter of the erlang distribution has been given a non-integer value 0.31296364308308716.\n",
      "  warnings.warn(\n",
      "/usr/local/anaconda3/envs/pybatsim/lib/python3.8/site-packages/scipy/stats/_continuous_distns.py:2844: RuntimeWarning: The shape parameter of the erlang distribution has been given a non-integer value 0.3130716632384569.\n",
      "  warnings.warn(\n",
      "/usr/local/anaconda3/envs/pybatsim/lib/python3.8/site-packages/scipy/stats/_continuous_distns.py:2844: RuntimeWarning: The shape parameter of the erlang distribution has been given a non-integer value 0.3131288593388718.\n",
      "  warnings.warn(\n",
      "/usr/local/anaconda3/envs/pybatsim/lib/python3.8/site-packages/scipy/stats/_continuous_distns.py:2844: RuntimeWarning: The shape parameter of the erlang distribution has been given a non-integer value 0.31302781797176304.\n",
      "  warnings.warn(\n",
      "/usr/local/anaconda3/envs/pybatsim/lib/python3.8/site-packages/scipy/stats/_continuous_distns.py:2844: RuntimeWarning: The shape parameter of the erlang distribution has been given a non-integer value 0.312989496767146.\n",
      "  warnings.warn(\n",
      "/usr/local/anaconda3/envs/pybatsim/lib/python3.8/site-packages/scipy/stats/_continuous_distns.py:2844: RuntimeWarning: The shape parameter of the erlang distribution has been given a non-integer value 0.3130657946228191.\n",
      "  warnings.warn(\n",
      "/usr/local/anaconda3/envs/pybatsim/lib/python3.8/site-packages/scipy/stats/_continuous_distns.py:2844: RuntimeWarning: The shape parameter of the erlang distribution has been given a non-integer value 0.31308857908612864.\n",
      "  warnings.warn(\n",
      "/usr/local/anaconda3/envs/pybatsim/lib/python3.8/site-packages/scipy/stats/_continuous_distns.py:2844: RuntimeWarning: The shape parameter of the erlang distribution has been given a non-integer value 0.31303834837345523.\n",
      "  warnings.warn(\n",
      "/usr/local/anaconda3/envs/pybatsim/lib/python3.8/site-packages/scipy/stats/_continuous_distns.py:2844: RuntimeWarning: The shape parameter of the erlang distribution has been given a non-integer value 0.3130163107402347.\n",
      "  warnings.warn(\n",
      "/usr/local/anaconda3/envs/pybatsim/lib/python3.8/site-packages/scipy/stats/_continuous_distns.py:2844: RuntimeWarning: The shape parameter of the erlang distribution has been given a non-integer value 0.3130301488647903.\n",
      "  warnings.warn(\n",
      "/usr/local/anaconda3/envs/pybatsim/lib/python3.8/site-packages/scipy/stats/_continuous_distns.py:2844: RuntimeWarning: The shape parameter of the erlang distribution has been given a non-integer value 0.31306170993561344.\n",
      "  warnings.warn(\n",
      "/usr/local/anaconda3/envs/pybatsim/lib/python3.8/site-packages/scipy/stats/_continuous_distns.py:2844: RuntimeWarning: The shape parameter of the erlang distribution has been given a non-integer value 0.3130786559175387.\n",
      "  warnings.warn(\n",
      "/usr/local/anaconda3/envs/pybatsim/lib/python3.8/site-packages/scipy/stats/_continuous_distns.py:2844: RuntimeWarning: The shape parameter of the erlang distribution has been given a non-integer value 0.3130667539086933.\n",
      "  warnings.warn(\n",
      "/usr/local/anaconda3/envs/pybatsim/lib/python3.8/site-packages/scipy/stats/_continuous_distns.py:2844: RuntimeWarning: The shape parameter of the erlang distribution has been given a non-integer value 0.3130596525248838.\n",
      "  warnings.warn(\n",
      "/usr/local/anaconda3/envs/pybatsim/lib/python3.8/site-packages/scipy/stats/_continuous_distns.py:2844: RuntimeWarning: The shape parameter of the erlang distribution has been given a non-integer value 0.31309462252408726.\n",
      "  warnings.warn(\n",
      "/usr/local/anaconda3/envs/pybatsim/lib/python3.8/site-packages/scipy/stats/_continuous_distns.py:2844: RuntimeWarning: The shape parameter of the erlang distribution has been given a non-integer value 0.31304626727961454.\n",
      "  warnings.warn(\n",
      "/usr/local/anaconda3/envs/pybatsim/lib/python3.8/site-packages/scipy/stats/_continuous_distns.py:2844: RuntimeWarning: The shape parameter of the erlang distribution has been given a non-integer value 0.31304595853725553.\n",
      "  warnings.warn(\n",
      "/usr/local/anaconda3/envs/pybatsim/lib/python3.8/site-packages/scipy/stats/_continuous_distns.py:2844: RuntimeWarning: The shape parameter of the erlang distribution has been given a non-integer value 0.31303604049447376.\n",
      "  warnings.warn(\n",
      "/usr/local/anaconda3/envs/pybatsim/lib/python3.8/site-packages/scipy/stats/_continuous_distns.py:2844: RuntimeWarning: The shape parameter of the erlang distribution has been given a non-integer value 0.3130429713101052.\n",
      "  warnings.warn(\n",
      "/usr/local/anaconda3/envs/pybatsim/lib/python3.8/site-packages/scipy/stats/_continuous_distns.py:2844: RuntimeWarning: The shape parameter of the erlang distribution has been given a non-integer value 0.3130471416137999.\n",
      "  warnings.warn(\n",
      "/usr/local/anaconda3/envs/pybatsim/lib/python3.8/site-packages/scipy/stats/_continuous_distns.py:2844: RuntimeWarning: The shape parameter of the erlang distribution has been given a non-integer value 0.31305693944483143.\n",
      "  warnings.warn(\n",
      "/usr/local/anaconda3/envs/pybatsim/lib/python3.8/site-packages/scipy/stats/_continuous_distns.py:2844: RuntimeWarning: The shape parameter of the erlang distribution has been given a non-integer value 0.3130622755274398.\n",
      "  warnings.warn(\n",
      "/usr/local/anaconda3/envs/pybatsim/lib/python3.8/site-packages/scipy/stats/_continuous_distns.py:2844: RuntimeWarning: The shape parameter of the erlang distribution has been given a non-integer value 0.31304187385005.\n",
      "  warnings.warn(\n",
      "/usr/local/anaconda3/envs/pybatsim/lib/python3.8/site-packages/scipy/stats/_continuous_distns.py:2844: RuntimeWarning: The shape parameter of the erlang distribution has been given a non-integer value 0.31305293032936365.\n",
      "  warnings.warn(\n",
      "/usr/local/anaconda3/envs/pybatsim/lib/python3.8/site-packages/scipy/stats/_continuous_distns.py:2844: RuntimeWarning: The shape parameter of the erlang distribution has been given a non-integer value 0.31305582468714555.\n",
      "  warnings.warn(\n",
      "/usr/local/anaconda3/envs/pybatsim/lib/python3.8/site-packages/scipy/stats/_continuous_distns.py:2844: RuntimeWarning: The shape parameter of the erlang distribution has been given a non-integer value 0.31306069083916804.\n",
      "  warnings.warn(\n",
      "/usr/local/anaconda3/envs/pybatsim/lib/python3.8/site-packages/scipy/stats/_continuous_distns.py:2844: RuntimeWarning: The shape parameter of the erlang distribution has been given a non-integer value 0.3130773201857856.\n",
      "  warnings.warn(\n",
      "/usr/local/anaconda3/envs/pybatsim/lib/python3.8/site-packages/scipy/stats/_continuous_distns.py:2844: RuntimeWarning: The shape parameter of the erlang distribution has been given a non-integer value 0.3130669482806263.\n",
      "  warnings.warn(\n",
      "/usr/local/anaconda3/envs/pybatsim/lib/python3.8/site-packages/scipy/stats/_continuous_distns.py:2844: RuntimeWarning: The shape parameter of the erlang distribution has been given a non-integer value 0.3130692846572196.\n",
      "  warnings.warn(\n",
      "/usr/local/anaconda3/envs/pybatsim/lib/python3.8/site-packages/scipy/stats/_continuous_distns.py:2844: RuntimeWarning: The shape parameter of the erlang distribution has been given a non-integer value 0.3130465466032365.\n",
      "  warnings.warn(\n",
      "/usr/local/anaconda3/envs/pybatsim/lib/python3.8/site-packages/scipy/stats/_continuous_distns.py:2844: RuntimeWarning: The shape parameter of the erlang distribution has been given a non-integer value 0.31305374645923306.\n",
      "  warnings.warn(\n",
      "/usr/local/anaconda3/envs/pybatsim/lib/python3.8/site-packages/scipy/stats/_continuous_distns.py:2844: RuntimeWarning: The shape parameter of the erlang distribution has been given a non-integer value 0.31305027426926557.\n",
      "  warnings.warn(\n",
      "/usr/local/anaconda3/envs/pybatsim/lib/python3.8/site-packages/scipy/stats/_continuous_distns.py:2844: RuntimeWarning: The shape parameter of the erlang distribution has been given a non-integer value 0.3130549123326689.\n",
      "  warnings.warn(\n",
      "/usr/local/anaconda3/envs/pybatsim/lib/python3.8/site-packages/scipy/stats/_continuous_distns.py:2844: RuntimeWarning: The shape parameter of the erlang distribution has been given a non-integer value 0.3130544561554306.\n",
      "  warnings.warn(\n",
      "/usr/local/anaconda3/envs/pybatsim/lib/python3.8/site-packages/scipy/stats/_continuous_distns.py:2844: RuntimeWarning: The shape parameter of the erlang distribution has been given a non-integer value 0.313069463451374.\n",
      "  warnings.warn(\n",
      "/usr/local/anaconda3/envs/pybatsim/lib/python3.8/site-packages/scipy/stats/_continuous_distns.py:2844: RuntimeWarning: The shape parameter of the erlang distribution has been given a non-integer value 0.3130809218754427.\n",
      "  warnings.warn(\n",
      "/usr/local/anaconda3/envs/pybatsim/lib/python3.8/site-packages/scipy/stats/_continuous_distns.py:2844: RuntimeWarning: The shape parameter of the erlang distribution has been given a non-integer value 0.3130544835428729.\n",
      "  warnings.warn(\n",
      "/usr/local/anaconda3/envs/pybatsim/lib/python3.8/site-packages/scipy/stats/_continuous_distns.py:2844: RuntimeWarning: The shape parameter of the erlang distribution has been given a non-integer value 0.3130470829856995.\n",
      "  warnings.warn(\n",
      "/usr/local/anaconda3/envs/pybatsim/lib/python3.8/site-packages/scipy/stats/_continuous_distns.py:2844: RuntimeWarning: The shape parameter of the erlang distribution has been given a non-integer value 0.31307136640844957.\n",
      "  warnings.warn(\n",
      "/usr/local/anaconda3/envs/pybatsim/lib/python3.8/site-packages/scipy/stats/_continuous_distns.py:2844: RuntimeWarning: The shape parameter of the erlang distribution has been given a non-integer value 0.3130819124780415.\n",
      "  warnings.warn(\n",
      "/usr/local/anaconda3/envs/pybatsim/lib/python3.8/site-packages/scipy/stats/_continuous_distns.py:2844: RuntimeWarning: The shape parameter of the erlang distribution has been given a non-integer value 0.31308548873735853.\n",
      "  warnings.warn(\n",
      "/usr/local/anaconda3/envs/pybatsim/lib/python3.8/site-packages/scipy/stats/_continuous_distns.py:2844: RuntimeWarning: The shape parameter of the erlang distribution has been given a non-integer value 0.3131010050283225.\n",
      "  warnings.warn(\n",
      "/usr/local/anaconda3/envs/pybatsim/lib/python3.8/site-packages/scipy/stats/_continuous_distns.py:2844: RuntimeWarning: The shape parameter of the erlang distribution has been given a non-integer value 0.31307241178593304.\n",
      "  warnings.warn(\n",
      "/usr/local/anaconda3/envs/pybatsim/lib/python3.8/site-packages/scipy/stats/_continuous_distns.py:2844: RuntimeWarning: The shape parameter of the erlang distribution has been given a non-integer value 0.31306815674117816.\n",
      "  warnings.warn(\n",
      "/usr/local/anaconda3/envs/pybatsim/lib/python3.8/site-packages/scipy/stats/_continuous_distns.py:2844: RuntimeWarning: The shape parameter of the erlang distribution has been given a non-integer value 0.3131202998459953.\n",
      "  warnings.warn(\n",
      "/usr/local/anaconda3/envs/pybatsim/lib/python3.8/site-packages/scipy/stats/_continuous_distns.py:2844: RuntimeWarning: The shape parameter of the erlang distribution has been given a non-integer value 0.3131110619322891.\n",
      "  warnings.warn(\n",
      "/usr/local/anaconda3/envs/pybatsim/lib/python3.8/site-packages/scipy/stats/_continuous_distns.py:2844: RuntimeWarning: The shape parameter of the erlang distribution has been given a non-integer value 0.31312563665941284.\n",
      "  warnings.warn(\n",
      "/usr/local/anaconda3/envs/pybatsim/lib/python3.8/site-packages/scipy/stats/_continuous_distns.py:2844: RuntimeWarning: The shape parameter of the erlang distribution has been given a non-integer value 0.31310839046940175.\n",
      "  warnings.warn(\n",
      "/usr/local/anaconda3/envs/pybatsim/lib/python3.8/site-packages/scipy/stats/_continuous_distns.py:2844: RuntimeWarning: The shape parameter of the erlang distribution has been given a non-integer value 0.31311208318994144.\n",
      "  warnings.warn(\n",
      "/usr/local/anaconda3/envs/pybatsim/lib/python3.8/site-packages/scipy/stats/_continuous_distns.py:2844: RuntimeWarning: The shape parameter of the erlang distribution has been given a non-integer value 0.31308361788102634.\n",
      "  warnings.warn(\n",
      "/usr/local/anaconda3/envs/pybatsim/lib/python3.8/site-packages/scipy/stats/_continuous_distns.py:2844: RuntimeWarning: The shape parameter of the erlang distribution has been given a non-integer value 0.3131460684124089.\n",
      "  warnings.warn(\n",
      "/usr/local/anaconda3/envs/pybatsim/lib/python3.8/site-packages/scipy/stats/_continuous_distns.py:2844: RuntimeWarning: The shape parameter of the erlang distribution has been given a non-integer value 0.3131850242480243.\n",
      "  warnings.warn(\n",
      "/usr/local/anaconda3/envs/pybatsim/lib/python3.8/site-packages/scipy/stats/_continuous_distns.py:2844: RuntimeWarning: The shape parameter of the erlang distribution has been given a non-integer value 0.3131281802199152.\n",
      "  warnings.warn(\n",
      "/usr/local/anaconda3/envs/pybatsim/lib/python3.8/site-packages/scipy/stats/_continuous_distns.py:2844: RuntimeWarning: The shape parameter of the erlang distribution has been given a non-integer value 0.3131294520001664.\n",
      "  warnings.warn(\n",
      "/usr/local/anaconda3/envs/pybatsim/lib/python3.8/site-packages/scipy/stats/_continuous_distns.py:2844: RuntimeWarning: The shape parameter of the erlang distribution has been given a non-integer value 0.3132007550777284.\n",
      "  warnings.warn(\n",
      "/usr/local/anaconda3/envs/pybatsim/lib/python3.8/site-packages/scipy/stats/_continuous_distns.py:2844: RuntimeWarning: The shape parameter of the erlang distribution has been given a non-integer value 0.3132314043606713.\n",
      "  warnings.warn(\n",
      "/usr/local/anaconda3/envs/pybatsim/lib/python3.8/site-packages/scipy/stats/_continuous_distns.py:2844: RuntimeWarning: The shape parameter of the erlang distribution has been given a non-integer value 0.3131893833776864.\n",
      "  warnings.warn(\n",
      "/usr/local/anaconda3/envs/pybatsim/lib/python3.8/site-packages/scipy/stats/_continuous_distns.py:2844: RuntimeWarning: The shape parameter of the erlang distribution has been given a non-integer value 0.3131915629425175.\n",
      "  warnings.warn(\n",
      "/usr/local/anaconda3/envs/pybatsim/lib/python3.8/site-packages/scipy/stats/_continuous_distns.py:2844: RuntimeWarning: The shape parameter of the erlang distribution has been given a non-integer value 0.31311644231960356.\n",
      "  warnings.warn(\n",
      "/usr/local/anaconda3/envs/pybatsim/lib/python3.8/site-packages/scipy/stats/_continuous_distns.py:2844: RuntimeWarning: The shape parameter of the erlang distribution has been given a non-integer value 0.31305896129906974.\n",
      "  warnings.warn(\n",
      "/usr/local/anaconda3/envs/pybatsim/lib/python3.8/site-packages/scipy/stats/_continuous_distns.py:2844: RuntimeWarning: The shape parameter of the erlang distribution has been given a non-integer value 0.31305256241677404.\n",
      "  warnings.warn(\n",
      "/usr/local/anaconda3/envs/pybatsim/lib/python3.8/site-packages/scipy/stats/_continuous_distns.py:2844: RuntimeWarning: The shape parameter of the erlang distribution has been given a non-integer value 0.31297846608629687.\n",
      "  warnings.warn(\n",
      "/usr/local/anaconda3/envs/pybatsim/lib/python3.8/site-packages/scipy/stats/_continuous_distns.py:2844: RuntimeWarning: The shape parameter of the erlang distribution has been given a non-integer value 0.313023208218423.\n",
      "  warnings.warn(\n",
      "/usr/local/anaconda3/envs/pybatsim/lib/python3.8/site-packages/scipy/stats/_continuous_distns.py:2844: RuntimeWarning: The shape parameter of the erlang distribution has been given a non-integer value 0.3129700863275513.\n",
      "  warnings.warn(\n",
      "/usr/local/anaconda3/envs/pybatsim/lib/python3.8/site-packages/scipy/stats/_continuous_distns.py:2844: RuntimeWarning: The shape parameter of the erlang distribution has been given a non-integer value 0.31281344619942775.\n",
      "  warnings.warn(\n",
      "/usr/local/anaconda3/envs/pybatsim/lib/python3.8/site-packages/scipy/stats/_continuous_distns.py:2844: RuntimeWarning: The shape parameter of the erlang distribution has been given a non-integer value 0.3127823711097809.\n",
      "  warnings.warn(\n",
      "/usr/local/anaconda3/envs/pybatsim/lib/python3.8/site-packages/scipy/stats/_continuous_distns.py:2844: RuntimeWarning: The shape parameter of the erlang distribution has been given a non-integer value 0.31273213633820973.\n",
      "  warnings.warn(\n",
      "/usr/local/anaconda3/envs/pybatsim/lib/python3.8/site-packages/scipy/stats/_continuous_distns.py:2844: RuntimeWarning: The shape parameter of the erlang distribution has been given a non-integer value 0.3126089714641662.\n",
      "  warnings.warn(\n",
      "/usr/local/anaconda3/envs/pybatsim/lib/python3.8/site-packages/scipy/stats/_continuous_distns.py:2844: RuntimeWarning: The shape parameter of the erlang distribution has been given a non-integer value 0.31276083973490454.\n",
      "  warnings.warn(\n",
      "/usr/local/anaconda3/envs/pybatsim/lib/python3.8/site-packages/scipy/stats/_continuous_distns.py:2844: RuntimeWarning: The shape parameter of the erlang distribution has been given a non-integer value 0.31280029458329695.\n",
      "  warnings.warn(\n",
      "/usr/local/anaconda3/envs/pybatsim/lib/python3.8/site-packages/scipy/stats/_continuous_distns.py:2844: RuntimeWarning: The shape parameter of the erlang distribution has been given a non-integer value 0.3128038638068954.\n",
      "  warnings.warn(\n",
      "/usr/local/anaconda3/envs/pybatsim/lib/python3.8/site-packages/scipy/stats/_continuous_distns.py:2844: RuntimeWarning: The shape parameter of the erlang distribution has been given a non-integer value 0.31281461015545264.\n",
      "  warnings.warn(\n",
      "/usr/local/anaconda3/envs/pybatsim/lib/python3.8/site-packages/scipy/stats/_continuous_distns.py:2844: RuntimeWarning: The shape parameter of the erlang distribution has been given a non-integer value 0.31251249780772594.\n",
      "  warnings.warn(\n",
      "/usr/local/anaconda3/envs/pybatsim/lib/python3.8/site-packages/scipy/stats/_continuous_distns.py:2844: RuntimeWarning: The shape parameter of the erlang distribution has been given a non-integer value 0.31249042503493296.\n",
      "  warnings.warn(\n",
      "/usr/local/anaconda3/envs/pybatsim/lib/python3.8/site-packages/scipy/stats/_continuous_distns.py:2844: RuntimeWarning: The shape parameter of the erlang distribution has been given a non-integer value 0.3123354902607509.\n",
      "  warnings.warn(\n",
      "/usr/local/anaconda3/envs/pybatsim/lib/python3.8/site-packages/scipy/stats/_continuous_distns.py:2844: RuntimeWarning: The shape parameter of the erlang distribution has been given a non-integer value 0.3124994273517868.\n",
      "  warnings.warn(\n",
      "/usr/local/anaconda3/envs/pybatsim/lib/python3.8/site-packages/scipy/stats/_continuous_distns.py:2844: RuntimeWarning: The shape parameter of the erlang distribution has been given a non-integer value 0.31258718737093427.\n",
      "  warnings.warn(\n",
      "/usr/local/anaconda3/envs/pybatsim/lib/python3.8/site-packages/scipy/stats/_continuous_distns.py:2844: RuntimeWarning: The shape parameter of the erlang distribution has been given a non-integer value 0.3126245321525385.\n",
      "  warnings.warn(\n",
      "/usr/local/anaconda3/envs/pybatsim/lib/python3.8/site-packages/scipy/stats/_continuous_distns.py:2844: RuntimeWarning: The shape parameter of the erlang distribution has been given a non-integer value 0.3121583563545982.\n",
      "  warnings.warn(\n",
      "/usr/local/anaconda3/envs/pybatsim/lib/python3.8/site-packages/scipy/stats/_continuous_distns.py:2844: RuntimeWarning: The shape parameter of the erlang distribution has been given a non-integer value 0.3122461584934716.\n",
      "  warnings.warn(\n",
      "/usr/local/anaconda3/envs/pybatsim/lib/python3.8/site-packages/scipy/stats/_continuous_distns.py:2844: RuntimeWarning: The shape parameter of the erlang distribution has been given a non-integer value 0.312119524064314.\n",
      "  warnings.warn(\n",
      "/usr/local/anaconda3/envs/pybatsim/lib/python3.8/site-packages/scipy/stats/_continuous_distns.py:2844: RuntimeWarning: The shape parameter of the erlang distribution has been given a non-integer value 0.3122661181202162.\n",
      "  warnings.warn(\n",
      "/usr/local/anaconda3/envs/pybatsim/lib/python3.8/site-packages/scipy/stats/_continuous_distns.py:2844: RuntimeWarning: The shape parameter of the erlang distribution has been given a non-integer value 0.31223143204994885.\n",
      "  warnings.warn(\n",
      "/usr/local/anaconda3/envs/pybatsim/lib/python3.8/site-packages/scipy/stats/_continuous_distns.py:2844: RuntimeWarning: The shape parameter of the erlang distribution has been given a non-integer value 0.3124919691566027.\n",
      "  warnings.warn(\n",
      "/usr/local/anaconda3/envs/pybatsim/lib/python3.8/site-packages/scipy/stats/_continuous_distns.py:2844: RuntimeWarning: The shape parameter of the erlang distribution has been given a non-integer value 0.3126587755576049.\n",
      "  warnings.warn(\n",
      "/usr/local/anaconda3/envs/pybatsim/lib/python3.8/site-packages/scipy/stats/_continuous_distns.py:2844: RuntimeWarning: The shape parameter of the erlang distribution has been given a non-integer value 0.31204862229537333.\n",
      "  warnings.warn(\n",
      "/usr/local/anaconda3/envs/pybatsim/lib/python3.8/site-packages/scipy/stats/_continuous_distns.py:2844: RuntimeWarning: The shape parameter of the erlang distribution has been given a non-integer value 0.31176066736679076.\n",
      "  warnings.warn(\n",
      "/usr/local/anaconda3/envs/pybatsim/lib/python3.8/site-packages/scipy/stats/_continuous_distns.py:2844: RuntimeWarning: The shape parameter of the erlang distribution has been given a non-integer value 0.31231439258524907.\n",
      "  warnings.warn(\n",
      "/usr/local/anaconda3/envs/pybatsim/lib/python3.8/site-packages/scipy/stats/_continuous_distns.py:2844: RuntimeWarning: The shape parameter of the erlang distribution has been given a non-integer value 0.31241182684571656.\n",
      "  warnings.warn(\n",
      "/usr/local/anaconda3/envs/pybatsim/lib/python3.8/site-packages/scipy/stats/_continuous_distns.py:2844: RuntimeWarning: The shape parameter of the erlang distribution has been given a non-integer value 0.3123227477967926.\n",
      "  warnings.warn(\n",
      "/usr/local/anaconda3/envs/pybatsim/lib/python3.8/site-packages/scipy/stats/_continuous_distns.py:2844: RuntimeWarning: The shape parameter of the erlang distribution has been given a non-integer value 0.3123684056702145.\n",
      "  warnings.warn(\n",
      "/usr/local/anaconda3/envs/pybatsim/lib/python3.8/site-packages/scipy/stats/_continuous_distns.py:2844: RuntimeWarning: The shape parameter of the erlang distribution has been given a non-integer value 0.3117018243642097.\n",
      "  warnings.warn(\n",
      "/usr/local/anaconda3/envs/pybatsim/lib/python3.8/site-packages/scipy/stats/_continuous_distns.py:2844: RuntimeWarning: The shape parameter of the erlang distribution has been given a non-integer value 0.311223348767512.\n",
      "  warnings.warn(\n",
      "/usr/local/anaconda3/envs/pybatsim/lib/python3.8/site-packages/scipy/stats/_continuous_distns.py:2844: RuntimeWarning: The shape parameter of the erlang distribution has been given a non-integer value 0.31224172015550467.\n",
      "  warnings.warn(\n",
      "/usr/local/anaconda3/envs/pybatsim/lib/python3.8/site-packages/scipy/stats/_continuous_distns.py:2844: RuntimeWarning: The shape parameter of the erlang distribution has been given a non-integer value 0.31248224654986156.\n",
      "  warnings.warn(\n",
      "/usr/local/anaconda3/envs/pybatsim/lib/python3.8/site-packages/scipy/stats/_continuous_distns.py:2844: RuntimeWarning: The shape parameter of the erlang distribution has been given a non-integer value 0.3116375071460088.\n",
      "  warnings.warn(\n",
      "/usr/local/anaconda3/envs/pybatsim/lib/python3.8/site-packages/scipy/stats/_continuous_distns.py:2844: RuntimeWarning: The shape parameter of the erlang distribution has been given a non-integer value 0.31119366263870707.\n",
      "  warnings.warn(\n",
      "/usr/local/anaconda3/envs/pybatsim/lib/python3.8/site-packages/scipy/stats/_continuous_distns.py:2844: RuntimeWarning: The shape parameter of the erlang distribution has been given a non-integer value 0.31060629112295335.\n",
      "  warnings.warn(\n",
      "/usr/local/anaconda3/envs/pybatsim/lib/python3.8/site-packages/scipy/stats/_continuous_distns.py:2844: RuntimeWarning: The shape parameter of the erlang distribution has been given a non-integer value 0.3119273477783705.\n",
      "  warnings.warn(\n",
      "/usr/local/anaconda3/envs/pybatsim/lib/python3.8/site-packages/scipy/stats/_continuous_distns.py:2844: RuntimeWarning: The shape parameter of the erlang distribution has been given a non-integer value 0.3122793472837997.\n",
      "  warnings.warn(\n",
      "/usr/local/anaconda3/envs/pybatsim/lib/python3.8/site-packages/scipy/stats/_continuous_distns.py:2844: RuntimeWarning: The shape parameter of the erlang distribution has been given a non-integer value 0.3119410828250676.\n",
      "  warnings.warn(\n"
     ]
    },
    {
     "name": "stderr",
     "output_type": "stream",
     "text": [
      "/usr/local/anaconda3/envs/pybatsim/lib/python3.8/site-packages/scipy/stats/_continuous_distns.py:2844: RuntimeWarning: The shape parameter of the erlang distribution has been given a non-integer value 0.312092870664597.\n",
      "  warnings.warn(\n",
      "/usr/local/anaconda3/envs/pybatsim/lib/python3.8/site-packages/scipy/stats/_continuous_distns.py:2844: RuntimeWarning: The shape parameter of the erlang distribution has been given a non-integer value 0.3108367594977052.\n",
      "  warnings.warn(\n",
      "/usr/local/anaconda3/envs/pybatsim/lib/python3.8/site-packages/scipy/stats/_continuous_distns.py:2844: RuntimeWarning: The shape parameter of the erlang distribution has been given a non-integer value 0.3100140159716269.\n",
      "  warnings.warn(\n",
      "/usr/local/anaconda3/envs/pybatsim/lib/python3.8/site-packages/scipy/stats/_continuous_distns.py:2844: RuntimeWarning: The shape parameter of the erlang distribution has been given a non-integer value 0.31231786482372903.\n",
      "  warnings.warn(\n",
      "/usr/local/anaconda3/envs/pybatsim/lib/python3.8/site-packages/scipy/stats/_continuous_distns.py:2844: RuntimeWarning: The shape parameter of the erlang distribution has been given a non-integer value 0.3131736516741168.\n",
      "  warnings.warn(\n",
      "/usr/local/anaconda3/envs/pybatsim/lib/python3.8/site-packages/scipy/stats/_continuous_distns.py:2844: RuntimeWarning: The shape parameter of the erlang distribution has been given a non-integer value 0.3112410115897608.\n",
      "  warnings.warn(\n",
      "/usr/local/anaconda3/envs/pybatsim/lib/python3.8/site-packages/scipy/stats/_continuous_distns.py:2844: RuntimeWarning: The shape parameter of the erlang distribution has been given a non-integer value 0.31072184374274137.\n",
      "  warnings.warn(\n",
      "/usr/local/anaconda3/envs/pybatsim/lib/python3.8/site-packages/scipy/stats/_continuous_distns.py:2844: RuntimeWarning: The shape parameter of the erlang distribution has been given a non-integer value 0.3105134702610597.\n",
      "  warnings.warn(\n",
      "/usr/local/anaconda3/envs/pybatsim/lib/python3.8/site-packages/scipy/stats/_continuous_distns.py:2844: RuntimeWarning: The shape parameter of the erlang distribution has been given a non-integer value 0.31292529448031836.\n",
      "  warnings.warn(\n",
      "/usr/local/anaconda3/envs/pybatsim/lib/python3.8/site-packages/scipy/stats/_continuous_distns.py:2844: RuntimeWarning: The shape parameter of the erlang distribution has been given a non-integer value 0.31438093373466414.\n",
      "  warnings.warn(\n",
      "/usr/local/anaconda3/envs/pybatsim/lib/python3.8/site-packages/scipy/stats/_continuous_distns.py:2844: RuntimeWarning: The shape parameter of the erlang distribution has been given a non-integer value 0.31057051348486.\n",
      "  warnings.warn(\n",
      "/usr/local/anaconda3/envs/pybatsim/lib/python3.8/site-packages/scipy/stats/_continuous_distns.py:2844: RuntimeWarning: The shape parameter of the erlang distribution has been given a non-integer value 0.30926894439023156.\n",
      "  warnings.warn(\n",
      "/usr/local/anaconda3/envs/pybatsim/lib/python3.8/site-packages/scipy/stats/_continuous_distns.py:2844: RuntimeWarning: The shape parameter of the erlang distribution has been given a non-integer value 0.3124010109840317.\n",
      "  warnings.warn(\n",
      "/usr/local/anaconda3/envs/pybatsim/lib/python3.8/site-packages/scipy/stats/_continuous_distns.py:2844: RuntimeWarning: The shape parameter of the erlang distribution has been given a non-integer value 0.3133447813455177.\n",
      "  warnings.warn(\n",
      "/usr/local/anaconda3/envs/pybatsim/lib/python3.8/site-packages/scipy/stats/_continuous_distns.py:2844: RuntimeWarning: The shape parameter of the erlang distribution has been given a non-integer value 0.3139412625708675.\n",
      "  warnings.warn(\n",
      "/usr/local/anaconda3/envs/pybatsim/lib/python3.8/site-packages/scipy/stats/_continuous_distns.py:2844: RuntimeWarning: The shape parameter of the erlang distribution has been given a non-integer value 0.309989058469747.\n",
      "  warnings.warn(\n",
      "/usr/local/anaconda3/envs/pybatsim/lib/python3.8/site-packages/scipy/stats/_continuous_distns.py:2844: RuntimeWarning: The shape parameter of the erlang distribution has been given a non-integer value 0.3077931208372884.\n",
      "  warnings.warn(\n",
      "/usr/local/anaconda3/envs/pybatsim/lib/python3.8/site-packages/scipy/stats/_continuous_distns.py:2844: RuntimeWarning: The shape parameter of the erlang distribution has been given a non-integer value 0.3141171654455508.\n",
      "  warnings.warn(\n",
      "/usr/local/anaconda3/envs/pybatsim/lib/python3.8/site-packages/scipy/stats/_continuous_distns.py:2844: RuntimeWarning: The shape parameter of the erlang distribution has been given a non-integer value 0.31654127597321047.\n",
      "  warnings.warn(\n",
      "/usr/local/anaconda3/envs/pybatsim/lib/python3.8/site-packages/scipy/stats/_continuous_distns.py:2844: RuntimeWarning: The shape parameter of the erlang distribution has been given a non-integer value 0.30956211584803706.\n",
      "  warnings.warn(\n",
      "/usr/local/anaconda3/envs/pybatsim/lib/python3.8/site-packages/scipy/stats/_continuous_distns.py:2844: RuntimeWarning: The shape parameter of the erlang distribution has been given a non-integer value 0.3073725424866218.\n",
      "  warnings.warn(\n",
      "/usr/local/anaconda3/envs/pybatsim/lib/python3.8/site-packages/scipy/stats/_continuous_distns.py:2844: RuntimeWarning: The shape parameter of the erlang distribution has been given a non-integer value 0.3061771045007896.\n",
      "  warnings.warn(\n",
      "/usr/local/anaconda3/envs/pybatsim/lib/python3.8/site-packages/scipy/stats/_continuous_distns.py:2844: RuntimeWarning: The shape parameter of the erlang distribution has been given a non-integer value 0.31155286213433564.\n",
      "  warnings.warn(\n",
      "/usr/local/anaconda3/envs/pybatsim/lib/python3.8/site-packages/scipy/stats/_continuous_distns.py:2844: RuntimeWarning: The shape parameter of the erlang distribution has been given a non-integer value 0.3142352592070504.\n",
      "  warnings.warn(\n",
      "/usr/local/anaconda3/envs/pybatsim/lib/python3.8/site-packages/scipy/stats/_continuous_distns.py:2844: RuntimeWarning: The shape parameter of the erlang distribution has been given a non-integer value 0.30798994377312117.\n",
      "  warnings.warn(\n",
      "/usr/local/anaconda3/envs/pybatsim/lib/python3.8/site-packages/scipy/stats/_continuous_distns.py:2844: RuntimeWarning: The shape parameter of the erlang distribution has been given a non-integer value 0.3049263329369063.\n",
      "  warnings.warn(\n",
      "/usr/local/anaconda3/envs/pybatsim/lib/python3.8/site-packages/scipy/stats/_continuous_distns.py:2844: RuntimeWarning: The shape parameter of the erlang distribution has been given a non-integer value 0.3061365609527167.\n",
      "  warnings.warn(\n",
      "/usr/local/anaconda3/envs/pybatsim/lib/python3.8/site-packages/scipy/stats/_continuous_distns.py:2844: RuntimeWarning: The shape parameter of the erlang distribution has been given a non-integer value 0.30342841036190715.\n",
      "  warnings.warn(\n",
      "/usr/local/anaconda3/envs/pybatsim/lib/python3.8/site-packages/scipy/stats/_continuous_distns.py:2844: RuntimeWarning: The shape parameter of the erlang distribution has been given a non-integer value 0.2962495979832398.\n",
      "  warnings.warn(\n",
      "/usr/local/anaconda3/envs/pybatsim/lib/python3.8/site-packages/scipy/stats/_continuous_distns.py:2844: RuntimeWarning: The shape parameter of the erlang distribution has been given a non-integer value 0.2956970183680804.\n",
      "  warnings.warn(\n",
      "/usr/local/anaconda3/envs/pybatsim/lib/python3.8/site-packages/scipy/stats/_continuous_distns.py:2844: RuntimeWarning: The shape parameter of the erlang distribution has been given a non-integer value 0.2898592563088096.\n",
      "  warnings.warn(\n",
      "/usr/local/anaconda3/envs/pybatsim/lib/python3.8/site-packages/scipy/stats/_continuous_distns.py:2844: RuntimeWarning: The shape parameter of the erlang distribution has been given a non-integer value 0.2880985101657314.\n",
      "  warnings.warn(\n",
      "/usr/local/anaconda3/envs/pybatsim/lib/python3.8/site-packages/scipy/stats/_continuous_distns.py:2844: RuntimeWarning: The shape parameter of the erlang distribution has been given a non-integer value 0.27968459878014396.\n",
      "  warnings.warn(\n",
      "/usr/local/anaconda3/envs/pybatsim/lib/python3.8/site-packages/scipy/stats/_continuous_distns.py:2844: RuntimeWarning: The shape parameter of the erlang distribution has been given a non-integer value 0.28573191231733397.\n",
      "  warnings.warn(\n",
      "/usr/local/anaconda3/envs/pybatsim/lib/python3.8/site-packages/scipy/stats/_continuous_distns.py:2844: RuntimeWarning: The shape parameter of the erlang distribution has been given a non-integer value 0.2804730694843811.\n",
      "  warnings.warn(\n",
      "/usr/local/anaconda3/envs/pybatsim/lib/python3.8/site-packages/scipy/stats/_continuous_distns.py:2844: RuntimeWarning: The shape parameter of the erlang distribution has been given a non-integer value 0.26324953935364925.\n",
      "  warnings.warn(\n",
      "/usr/local/anaconda3/envs/pybatsim/lib/python3.8/site-packages/scipy/stats/_continuous_distns.py:2844: RuntimeWarning: The shape parameter of the erlang distribution has been given a non-integer value 0.25907888210330665.\n",
      "  warnings.warn(\n",
      "/usr/local/anaconda3/envs/pybatsim/lib/python3.8/site-packages/scipy/stats/_continuous_distns.py:2844: RuntimeWarning: The shape parameter of the erlang distribution has been given a non-integer value 0.24368869500055523.\n",
      "  warnings.warn(\n",
      "/usr/local/anaconda3/envs/pybatsim/lib/python3.8/site-packages/scipy/stats/_continuous_distns.py:2844: RuntimeWarning: The shape parameter of the erlang distribution has been given a non-integer value 0.24525627044557974.\n",
      "  warnings.warn(\n",
      "/usr/local/anaconda3/envs/pybatsim/lib/python3.8/site-packages/scipy/stats/_continuous_distns.py:2844: RuntimeWarning: The shape parameter of the erlang distribution has been given a non-integer value 0.24969581726669476.\n",
      "  warnings.warn(\n",
      "/usr/local/anaconda3/envs/pybatsim/lib/python3.8/site-packages/scipy/stats/_continuous_distns.py:2844: RuntimeWarning: The shape parameter of the erlang distribution has been given a non-integer value 0.24291895622321746.\n",
      "  warnings.warn(\n",
      "/usr/local/anaconda3/envs/pybatsim/lib/python3.8/site-packages/scipy/stats/_continuous_distns.py:2844: RuntimeWarning: The shape parameter of the erlang distribution has been given a non-integer value 0.2074362116285205.\n",
      "  warnings.warn(\n",
      "/usr/local/anaconda3/envs/pybatsim/lib/python3.8/site-packages/scipy/stats/_continuous_distns.py:2844: RuntimeWarning: The shape parameter of the erlang distribution has been given a non-integer value 0.21743963812261569.\n",
      "  warnings.warn(\n",
      "/usr/local/anaconda3/envs/pybatsim/lib/python3.8/site-packages/scipy/stats/_continuous_distns.py:2844: RuntimeWarning: The shape parameter of the erlang distribution has been given a non-integer value 0.20353132196113366.\n",
      "  warnings.warn(\n",
      "/usr/local/anaconda3/envs/pybatsim/lib/python3.8/site-packages/scipy/stats/_continuous_distns.py:2844: RuntimeWarning: The shape parameter of the erlang distribution has been given a non-integer value 0.19223563154135914.\n",
      "  warnings.warn(\n",
      "/usr/local/anaconda3/envs/pybatsim/lib/python3.8/site-packages/scipy/stats/_continuous_distns.py:2844: RuntimeWarning: The shape parameter of the erlang distribution has been given a non-integer value 0.1665090998117611.\n",
      "  warnings.warn(\n",
      "/usr/local/anaconda3/envs/pybatsim/lib/python3.8/site-packages/scipy/stats/_continuous_distns.py:2844: RuntimeWarning: The shape parameter of the erlang distribution has been given a non-integer value 0.20120337370222097.\n",
      "  warnings.warn(\n",
      "/usr/local/anaconda3/envs/pybatsim/lib/python3.8/site-packages/scipy/stats/_continuous_distns.py:2844: RuntimeWarning: The shape parameter of the erlang distribution has been given a non-integer value 0.13791024076019304.\n",
      "  warnings.warn(\n",
      "/usr/local/anaconda3/envs/pybatsim/lib/python3.8/site-packages/scipy/stats/_continuous_distns.py:2844: RuntimeWarning: The shape parameter of the erlang distribution has been given a non-integer value 0.21666677735746137.\n",
      "  warnings.warn(\n",
      "/usr/local/anaconda3/envs/pybatsim/lib/python3.8/site-packages/scipy/stats/_continuous_distns.py:2844: RuntimeWarning: The shape parameter of the erlang distribution has been given a non-integer value 0.16416241962594913.\n",
      "  warnings.warn(\n",
      "/usr/local/anaconda3/envs/pybatsim/lib/python3.8/site-packages/scipy/stats/_continuous_distns.py:2844: RuntimeWarning: The shape parameter of the erlang distribution has been given a non-integer value 0.2035406879245833.\n",
      "  warnings.warn(\n",
      "/usr/local/anaconda3/envs/pybatsim/lib/python3.8/site-packages/scipy/stats/_continuous_distns.py:2844: RuntimeWarning: The shape parameter of the erlang distribution has been given a non-integer value 0.17730411899790993.\n",
      "  warnings.warn(\n",
      "/usr/local/anaconda3/envs/pybatsim/lib/python3.8/site-packages/scipy/stats/_continuous_distns.py:2844: RuntimeWarning: The shape parameter of the erlang distribution has been given a non-integer value 0.19697452122032771.\n",
      "  warnings.warn(\n",
      "/usr/local/anaconda3/envs/pybatsim/lib/python3.8/site-packages/scipy/stats/_continuous_distns.py:2844: RuntimeWarning: The shape parameter of the erlang distribution has been given a non-integer value 0.17291730856495657.\n",
      "  warnings.warn(\n",
      "/usr/local/anaconda3/envs/pybatsim/lib/python3.8/site-packages/scipy/stats/_continuous_distns.py:2844: RuntimeWarning: The shape parameter of the erlang distribution has been given a non-integer value 0.19588484308467663.\n",
      "  warnings.warn(\n",
      "/usr/local/anaconda3/envs/pybatsim/lib/python3.8/site-packages/scipy/stats/_continuous_distns.py:2844: RuntimeWarning: The shape parameter of the erlang distribution has been given a non-integer value 0.17875702317877812.\n",
      "  warnings.warn(\n",
      "/usr/local/anaconda3/envs/pybatsim/lib/python3.8/site-packages/scipy/stats/_continuous_distns.py:2844: RuntimeWarning: The shape parameter of the erlang distribution has been given a non-integer value 0.19242014670994032.\n",
      "  warnings.warn(\n",
      "/usr/local/anaconda3/envs/pybatsim/lib/python3.8/site-packages/scipy/stats/_continuous_distns.py:2844: RuntimeWarning: The shape parameter of the erlang distribution has been given a non-integer value 0.17753690373127162.\n",
      "  warnings.warn(\n",
      "/usr/local/anaconda3/envs/pybatsim/lib/python3.8/site-packages/scipy/stats/_continuous_distns.py:2844: RuntimeWarning: The shape parameter of the erlang distribution has been given a non-integer value 0.1912978582463254.\n",
      "  warnings.warn(\n",
      "/usr/local/anaconda3/envs/pybatsim/lib/python3.8/site-packages/scipy/stats/_continuous_distns.py:2844: RuntimeWarning: The shape parameter of the erlang distribution has been given a non-integer value 0.1802534077969313.\n",
      "  warnings.warn(\n",
      "/usr/local/anaconda3/envs/pybatsim/lib/python3.8/site-packages/scipy/stats/_continuous_distns.py:2844: RuntimeWarning: The shape parameter of the erlang distribution has been given a non-integer value 0.18937846198168806.\n",
      "  warnings.warn(\n",
      "/usr/local/anaconda3/envs/pybatsim/lib/python3.8/site-packages/scipy/stats/_continuous_distns.py:2844: RuntimeWarning: The shape parameter of the erlang distribution has been given a non-integer value 0.18009609875078803.\n",
      "  warnings.warn(\n",
      "/usr/local/anaconda3/envs/pybatsim/lib/python3.8/site-packages/scipy/stats/_continuous_distns.py:2844: RuntimeWarning: The shape parameter of the erlang distribution has been given a non-integer value 0.18849741837244105.\n",
      "  warnings.warn(\n",
      "/usr/local/anaconda3/envs/pybatsim/lib/python3.8/site-packages/scipy/stats/_continuous_distns.py:2844: RuntimeWarning: The shape parameter of the erlang distribution has been given a non-integer value 0.18142813260926066.\n",
      "  warnings.warn(\n",
      "/usr/local/anaconda3/envs/pybatsim/lib/python3.8/site-packages/scipy/stats/_continuous_distns.py:2844: RuntimeWarning: The shape parameter of the erlang distribution has been given a non-integer value 0.177452967923047.\n",
      "  warnings.warn(\n",
      "/usr/local/anaconda3/envs/pybatsim/lib/python3.8/site-packages/scipy/stats/_continuous_distns.py:2844: RuntimeWarning: The shape parameter of the erlang distribution has been given a non-integer value 0.17759631904305406.\n",
      "  warnings.warn(\n",
      "/usr/local/anaconda3/envs/pybatsim/lib/python3.8/site-packages/scipy/stats/_continuous_distns.py:2844: RuntimeWarning: The shape parameter of the erlang distribution has been given a non-integer value 0.1857721435400943.\n",
      "  warnings.warn(\n",
      "/usr/local/anaconda3/envs/pybatsim/lib/python3.8/site-packages/scipy/stats/_continuous_distns.py:2844: RuntimeWarning: The shape parameter of the erlang distribution has been given a non-integer value 0.1803215938754008.\n",
      "  warnings.warn(\n",
      "/usr/local/anaconda3/envs/pybatsim/lib/python3.8/site-packages/scipy/stats/_continuous_distns.py:2844: RuntimeWarning: The shape parameter of the erlang distribution has been given a non-integer value 0.18440950612392093.\n",
      "  warnings.warn(\n",
      "/usr/local/anaconda3/envs/pybatsim/lib/python3.8/site-packages/scipy/stats/_continuous_distns.py:2844: RuntimeWarning: The shape parameter of the erlang distribution has been given a non-integer value 0.1536944519944075.\n",
      "  warnings.warn(\n",
      "/usr/local/anaconda3/envs/pybatsim/lib/python3.8/site-packages/scipy/stats/_continuous_distns.py:2844: RuntimeWarning: The shape parameter of the erlang distribution has been given a non-integer value 0.1893261432752676.\n",
      "  warnings.warn(\n",
      "/usr/local/anaconda3/envs/pybatsim/lib/python3.8/site-packages/scipy/stats/_continuous_distns.py:2844: RuntimeWarning: The shape parameter of the erlang distribution has been given a non-integer value 0.1737660776736053.\n",
      "  warnings.warn(\n",
      "/usr/local/anaconda3/envs/pybatsim/lib/python3.8/site-packages/scipy/stats/_continuous_distns.py:2844: RuntimeWarning: The shape parameter of the erlang distribution has been given a non-integer value 0.1684443634484475.\n",
      "  warnings.warn(\n",
      "/usr/local/anaconda3/envs/pybatsim/lib/python3.8/site-packages/scipy/stats/_continuous_distns.py:2844: RuntimeWarning: The shape parameter of the erlang distribution has been given a non-integer value 0.15847606345448384.\n",
      "  warnings.warn(\n",
      "/usr/local/anaconda3/envs/pybatsim/lib/python3.8/site-packages/scipy/stats/_continuous_distns.py:2844: RuntimeWarning: The shape parameter of the erlang distribution has been given a non-integer value 0.18161362332007164.\n",
      "  warnings.warn(\n",
      "/usr/local/anaconda3/envs/pybatsim/lib/python3.8/site-packages/scipy/stats/_continuous_distns.py:2844: RuntimeWarning: The shape parameter of the erlang distribution has been given a non-integer value 0.1661885834096798.\n",
      "  warnings.warn(\n",
      "/usr/local/anaconda3/envs/pybatsim/lib/python3.8/site-packages/scipy/stats/_continuous_distns.py:2844: RuntimeWarning: The shape parameter of the erlang distribution has been given a non-integer value 0.17775736334247366.\n",
      "  warnings.warn(\n",
      "/usr/local/anaconda3/envs/pybatsim/lib/python3.8/site-packages/scipy/stats/_continuous_distns.py:2844: RuntimeWarning: The shape parameter of the erlang distribution has been given a non-integer value 0.18879194927179865.\n",
      "  warnings.warn(\n",
      "/usr/local/anaconda3/envs/pybatsim/lib/python3.8/site-packages/scipy/stats/_continuous_distns.py:2844: RuntimeWarning: The shape parameter of the erlang distribution has been given a non-integer value 0.17207981217677049.\n",
      "  warnings.warn(\n",
      "/usr/local/anaconda3/envs/pybatsim/lib/python3.8/site-packages/scipy/stats/_continuous_distns.py:2844: RuntimeWarning: The shape parameter of the erlang distribution has been given a non-integer value 0.17375865163061727.\n",
      "  warnings.warn(\n",
      "/usr/local/anaconda3/envs/pybatsim/lib/python3.8/site-packages/scipy/stats/_continuous_distns.py:2844: RuntimeWarning: The shape parameter of the erlang distribution has been given a non-integer value 0.17675768541450956.\n",
      "  warnings.warn(\n",
      "/usr/local/anaconda3/envs/pybatsim/lib/python3.8/site-packages/scipy/stats/_continuous_distns.py:2844: RuntimeWarning: The shape parameter of the erlang distribution has been given a non-integer value 0.1825547849548132.\n",
      "  warnings.warn(\n",
      "/usr/local/anaconda3/envs/pybatsim/lib/python3.8/site-packages/scipy/stats/_continuous_distns.py:2844: RuntimeWarning: The shape parameter of the erlang distribution has been given a non-integer value 0.17469855537128115.\n",
      "  warnings.warn(\n",
      "/usr/local/anaconda3/envs/pybatsim/lib/python3.8/site-packages/scipy/stats/_continuous_distns.py:2844: RuntimeWarning: The shape parameter of the erlang distribution has been given a non-integer value 0.17650415835492186.\n",
      "  warnings.warn(\n",
      "/usr/local/anaconda3/envs/pybatsim/lib/python3.8/site-packages/scipy/stats/_continuous_distns.py:2844: RuntimeWarning: The shape parameter of the erlang distribution has been given a non-integer value 0.17669430364961264.\n",
      "  warnings.warn(\n",
      "/usr/local/anaconda3/envs/pybatsim/lib/python3.8/site-packages/scipy/stats/_continuous_distns.py:2844: RuntimeWarning: The shape parameter of the erlang distribution has been given a non-integer value 0.17989378725037125.\n",
      "  warnings.warn(\n",
      "/usr/local/anaconda3/envs/pybatsim/lib/python3.8/site-packages/scipy/stats/_continuous_distns.py:2844: RuntimeWarning: The shape parameter of the erlang distribution has been given a non-integer value 0.17599736334105368.\n",
      "  warnings.warn(\n",
      "/usr/local/anaconda3/envs/pybatsim/lib/python3.8/site-packages/scipy/stats/_continuous_distns.py:2844: RuntimeWarning: The shape parameter of the erlang distribution has been given a non-integer value 0.17743341209966712.\n",
      "  warnings.warn(\n",
      "/usr/local/anaconda3/envs/pybatsim/lib/python3.8/site-packages/scipy/stats/_continuous_distns.py:2844: RuntimeWarning: The shape parameter of the erlang distribution has been given a non-integer value 0.1778029663246944.\n",
      "  warnings.warn(\n",
      "/usr/local/anaconda3/envs/pybatsim/lib/python3.8/site-packages/scipy/stats/_continuous_distns.py:2844: RuntimeWarning: The shape parameter of the erlang distribution has been given a non-integer value 0.17908771824730166.\n",
      "  warnings.warn(\n",
      "/usr/local/anaconda3/envs/pybatsim/lib/python3.8/site-packages/scipy/stats/_continuous_distns.py:2844: RuntimeWarning: The shape parameter of the erlang distribution has been given a non-integer value 0.17676995206761567.\n",
      "  warnings.warn(\n",
      "/usr/local/anaconda3/envs/pybatsim/lib/python3.8/site-packages/scipy/stats/_continuous_distns.py:2844: RuntimeWarning: The shape parameter of the erlang distribution has been given a non-integer value 0.17055149528466473.\n",
      "  warnings.warn(\n",
      "/usr/local/anaconda3/envs/pybatsim/lib/python3.8/site-packages/scipy/stats/_continuous_distns.py:2844: RuntimeWarning: The shape parameter of the erlang distribution has been given a non-integer value 0.1787089732781117.\n",
      "  warnings.warn(\n",
      "/usr/local/anaconda3/envs/pybatsim/lib/python3.8/site-packages/scipy/stats/_continuous_distns.py:2844: RuntimeWarning: The shape parameter of the erlang distribution has been given a non-integer value 0.17650235663330713.\n",
      "  warnings.warn(\n",
      "/usr/local/anaconda3/envs/pybatsim/lib/python3.8/site-packages/scipy/stats/_continuous_distns.py:2844: RuntimeWarning: The shape parameter of the erlang distribution has been given a non-integer value 0.17670305320903854.\n",
      "  warnings.warn(\n",
      "/usr/local/anaconda3/envs/pybatsim/lib/python3.8/site-packages/scipy/stats/_continuous_distns.py:2844: RuntimeWarning: The shape parameter of the erlang distribution has been given a non-integer value 0.17322605537676228.\n",
      "  warnings.warn(\n",
      "/usr/local/anaconda3/envs/pybatsim/lib/python3.8/site-packages/scipy/stats/_continuous_distns.py:2844: RuntimeWarning: The shape parameter of the erlang distribution has been given a non-integer value 0.17733824380277435.\n",
      "  warnings.warn(\n",
      "/usr/local/anaconda3/envs/pybatsim/lib/python3.8/site-packages/scipy/stats/_continuous_distns.py:2844: RuntimeWarning: The shape parameter of the erlang distribution has been given a non-integer value 0.17565543584165935.\n",
      "  warnings.warn(\n",
      "/usr/local/anaconda3/envs/pybatsim/lib/python3.8/site-packages/scipy/stats/_continuous_distns.py:2844: RuntimeWarning: The shape parameter of the erlang distribution has been given a non-integer value 0.17644114886719375.\n",
      "  warnings.warn(\n",
      "/usr/local/anaconda3/envs/pybatsim/lib/python3.8/site-packages/scipy/stats/_continuous_distns.py:2844: RuntimeWarning: The shape parameter of the erlang distribution has been given a non-integer value 0.17442218195753645.\n",
      "  warnings.warn(\n",
      "/usr/local/anaconda3/envs/pybatsim/lib/python3.8/site-packages/scipy/stats/_continuous_distns.py:2844: RuntimeWarning: The shape parameter of the erlang distribution has been given a non-integer value 0.17296415103491747.\n",
      "  warnings.warn(\n",
      "/usr/local/anaconda3/envs/pybatsim/lib/python3.8/site-packages/scipy/stats/_continuous_distns.py:2844: RuntimeWarning: The shape parameter of the erlang distribution has been given a non-integer value 0.1739732989533455.\n",
      "  warnings.warn(\n",
      "/usr/local/anaconda3/envs/pybatsim/lib/python3.8/site-packages/scipy/stats/_continuous_distns.py:2844: RuntimeWarning: The shape parameter of the erlang distribution has been given a non-integer value 0.1758241863887317.\n",
      "  warnings.warn(\n",
      "/usr/local/anaconda3/envs/pybatsim/lib/python3.8/site-packages/scipy/stats/_continuous_distns.py:2844: RuntimeWarning: The shape parameter of the erlang distribution has been given a non-integer value 0.17459026143180756.\n",
      "  warnings.warn(\n",
      "/usr/local/anaconda3/envs/pybatsim/lib/python3.8/site-packages/scipy/stats/_continuous_distns.py:2844: RuntimeWarning: The shape parameter of the erlang distribution has been given a non-integer value 0.17551570514950066.\n",
      "  warnings.warn(\n",
      "/usr/local/anaconda3/envs/pybatsim/lib/python3.8/site-packages/scipy/stats/_continuous_distns.py:2844: RuntimeWarning: The shape parameter of the erlang distribution has been given a non-integer value 0.1748987426710386.\n",
      "  warnings.warn(\n",
      "/usr/local/anaconda3/envs/pybatsim/lib/python3.8/site-packages/scipy/stats/_continuous_distns.py:2844: RuntimeWarning: The shape parameter of the erlang distribution has been given a non-integer value 0.17740348014522278.\n",
      "  warnings.warn(\n",
      "/usr/local/anaconda3/envs/pybatsim/lib/python3.8/site-packages/scipy/stats/_continuous_distns.py:2844: RuntimeWarning: The shape parameter of the erlang distribution has been given a non-integer value 0.17467542829150967.\n",
      "  warnings.warn(\n",
      "/usr/local/anaconda3/envs/pybatsim/lib/python3.8/site-packages/scipy/stats/_continuous_distns.py:2844: RuntimeWarning: The shape parameter of the erlang distribution has been given a non-integer value 0.17189748984705605.\n",
      "  warnings.warn(\n",
      "/usr/local/anaconda3/envs/pybatsim/lib/python3.8/site-packages/scipy/stats/_continuous_distns.py:2844: RuntimeWarning: The shape parameter of the erlang distribution has been given a non-integer value 0.17604943153651437.\n",
      "  warnings.warn(\n",
      "/usr/local/anaconda3/envs/pybatsim/lib/python3.8/site-packages/scipy/stats/_continuous_distns.py:2844: RuntimeWarning: The shape parameter of the erlang distribution has been given a non-integer value 0.17557147581854993.\n",
      "  warnings.warn(\n",
      "/usr/local/anaconda3/envs/pybatsim/lib/python3.8/site-packages/scipy/stats/_continuous_distns.py:2844: RuntimeWarning: The shape parameter of the erlang distribution has been given a non-integer value 0.17489944017326975.\n",
      "  warnings.warn(\n",
      "/usr/local/anaconda3/envs/pybatsim/lib/python3.8/site-packages/scipy/stats/_continuous_distns.py:2844: RuntimeWarning: The shape parameter of the erlang distribution has been given a non-integer value 0.17343081166471552.\n",
      "  warnings.warn(\n",
      "/usr/local/anaconda3/envs/pybatsim/lib/python3.8/site-packages/scipy/stats/_continuous_distns.py:2844: RuntimeWarning: The shape parameter of the erlang distribution has been given a non-integer value 0.17212150172881613.\n",
      "  warnings.warn(\n",
      "/usr/local/anaconda3/envs/pybatsim/lib/python3.8/site-packages/scipy/stats/_continuous_distns.py:2844: RuntimeWarning: The shape parameter of the erlang distribution has been given a non-integer value 0.1736017173555906.\n",
      "  warnings.warn(\n",
      "/usr/local/anaconda3/envs/pybatsim/lib/python3.8/site-packages/scipy/stats/_continuous_distns.py:2844: RuntimeWarning: The shape parameter of the erlang distribution has been given a non-integer value 0.17457500946884996.\n",
      "  warnings.warn(\n",
      "/usr/local/anaconda3/envs/pybatsim/lib/python3.8/site-packages/scipy/stats/_continuous_distns.py:2844: RuntimeWarning: The shape parameter of the erlang distribution has been given a non-integer value 0.1739261480600104.\n",
      "  warnings.warn(\n",
      "/usr/local/anaconda3/envs/pybatsim/lib/python3.8/site-packages/scipy/stats/_continuous_distns.py:2844: RuntimeWarning: The shape parameter of the erlang distribution has been given a non-integer value 0.17441279411664007.\n",
      "  warnings.warn(\n",
      "/usr/local/anaconda3/envs/pybatsim/lib/python3.8/site-packages/scipy/stats/_continuous_distns.py:2844: RuntimeWarning: The shape parameter of the erlang distribution has been given a non-integer value 0.17408836341222028.\n",
      "  warnings.warn(\n",
      "/usr/local/anaconda3/envs/pybatsim/lib/python3.8/site-packages/scipy/stats/_continuous_distns.py:2844: RuntimeWarning: The shape parameter of the erlang distribution has been given a non-integer value 0.17306216201860952.\n",
      "  warnings.warn(\n",
      "/usr/local/anaconda3/envs/pybatsim/lib/python3.8/site-packages/scipy/stats/_continuous_distns.py:2844: RuntimeWarning: The shape parameter of the erlang distribution has been given a non-integer value 0.17443959750793134.\n",
      "  warnings.warn(\n",
      "/usr/local/anaconda3/envs/pybatsim/lib/python3.8/site-packages/scipy/stats/_continuous_distns.py:2844: RuntimeWarning: The shape parameter of the erlang distribution has been given a non-integer value 0.1735503330990416.\n",
      "  warnings.warn(\n",
      "/usr/local/anaconda3/envs/pybatsim/lib/python3.8/site-packages/scipy/stats/_continuous_distns.py:2844: RuntimeWarning: The shape parameter of the erlang distribution has been given a non-integer value 0.17420421974291272.\n",
      "  warnings.warn(\n",
      "/usr/local/anaconda3/envs/pybatsim/lib/python3.8/site-packages/scipy/stats/_continuous_distns.py:2844: RuntimeWarning: The shape parameter of the erlang distribution has been given a non-integer value 0.17337599903863435.\n",
      "  warnings.warn(\n",
      "/usr/local/anaconda3/envs/pybatsim/lib/python3.8/site-packages/scipy/stats/_continuous_distns.py:2844: RuntimeWarning: The shape parameter of the erlang distribution has been given a non-integer value 0.1741736978906071.\n",
      "  warnings.warn(\n",
      "/usr/local/anaconda3/envs/pybatsim/lib/python3.8/site-packages/scipy/stats/_continuous_distns.py:2844: RuntimeWarning: The shape parameter of the erlang distribution has been given a non-integer value 0.17359102890211592.\n",
      "  warnings.warn(\n",
      "/usr/local/anaconda3/envs/pybatsim/lib/python3.8/site-packages/scipy/stats/_continuous_distns.py:2844: RuntimeWarning: The shape parameter of the erlang distribution has been given a non-integer value 0.17328443348171751.\n",
      "  warnings.warn(\n",
      "/usr/local/anaconda3/envs/pybatsim/lib/python3.8/site-packages/scipy/stats/_continuous_distns.py:2844: RuntimeWarning: The shape parameter of the erlang distribution has been given a non-integer value 0.17323310476209403.\n",
      "  warnings.warn(\n",
      "/usr/local/anaconda3/envs/pybatsim/lib/python3.8/site-packages/scipy/stats/_continuous_distns.py:2844: RuntimeWarning: The shape parameter of the erlang distribution has been given a non-integer value 0.17393854960847882.\n",
      "  warnings.warn(\n",
      "/usr/local/anaconda3/envs/pybatsim/lib/python3.8/site-packages/scipy/stats/_continuous_distns.py:2844: RuntimeWarning: The shape parameter of the erlang distribution has been given a non-integer value 0.1734682530442223.\n",
      "  warnings.warn(\n",
      "/usr/local/anaconda3/envs/pybatsim/lib/python3.8/site-packages/scipy/stats/_continuous_distns.py:2844: RuntimeWarning: The shape parameter of the erlang distribution has been given a non-integer value 0.1738209754674147.\n",
      "  warnings.warn(\n",
      "/usr/local/anaconda3/envs/pybatsim/lib/python3.8/site-packages/scipy/stats/_continuous_distns.py:2844: RuntimeWarning: The shape parameter of the erlang distribution has been given a non-integer value 0.17358582718528642.\n",
      "  warnings.warn(\n",
      "/usr/local/anaconda3/envs/pybatsim/lib/python3.8/site-packages/scipy/stats/_continuous_distns.py:2844: RuntimeWarning: The shape parameter of the erlang distribution has been given a non-integer value 0.17298341508919163.\n",
      "  warnings.warn(\n",
      "/usr/local/anaconda3/envs/pybatsim/lib/python3.8/site-packages/scipy/stats/_continuous_distns.py:2844: RuntimeWarning: The shape parameter of the erlang distribution has been given a non-integer value 0.17381212633146312.\n",
      "  warnings.warn(\n",
      "/usr/local/anaconda3/envs/pybatsim/lib/python3.8/site-packages/scipy/stats/_continuous_distns.py:2844: RuntimeWarning: The shape parameter of the erlang distribution has been given a non-integer value 0.1732596521699488.\n",
      "  warnings.warn(\n",
      "/usr/local/anaconda3/envs/pybatsim/lib/python3.8/site-packages/scipy/stats/_continuous_distns.py:2844: RuntimeWarning: The shape parameter of the erlang distribution has been given a non-integer value 0.17367400779108455.\n",
      "  warnings.warn(\n",
      "/usr/local/anaconda3/envs/pybatsim/lib/python3.8/site-packages/scipy/stats/_continuous_distns.py:2844: RuntimeWarning: The shape parameter of the erlang distribution has been given a non-integer value 0.1738030975876091.\n",
      "  warnings.warn(\n",
      "/usr/local/anaconda3/envs/pybatsim/lib/python3.8/site-packages/scipy/stats/_continuous_distns.py:2844: RuntimeWarning: The shape parameter of the erlang distribution has been given a non-integer value 0.17352388314543893.\n",
      "  warnings.warn(\n",
      "/usr/local/anaconda3/envs/pybatsim/lib/python3.8/site-packages/scipy/stats/_continuous_distns.py:2844: RuntimeWarning: The shape parameter of the erlang distribution has been given a non-integer value 0.17345981836414298.\n",
      "  warnings.warn(\n",
      "/usr/local/anaconda3/envs/pybatsim/lib/python3.8/site-packages/scipy/stats/_continuous_distns.py:2844: RuntimeWarning: The shape parameter of the erlang distribution has been given a non-integer value 0.17335272365067222.\n",
      "  warnings.warn(\n",
      "/usr/local/anaconda3/envs/pybatsim/lib/python3.8/site-packages/scipy/stats/_continuous_distns.py:2844: RuntimeWarning: The shape parameter of the erlang distribution has been given a non-integer value 0.1735672331555913.\n",
      "  warnings.warn(\n",
      "/usr/local/anaconda3/envs/pybatsim/lib/python3.8/site-packages/scipy/stats/_continuous_distns.py:2844: RuntimeWarning: The shape parameter of the erlang distribution has been given a non-integer value 0.17353472064797704.\n",
      "  warnings.warn(\n",
      "/usr/local/anaconda3/envs/pybatsim/lib/python3.8/site-packages/scipy/stats/_continuous_distns.py:2844: RuntimeWarning: The shape parameter of the erlang distribution has been given a non-integer value 0.1735563956530532.\n",
      "  warnings.warn(\n",
      "/usr/local/anaconda3/envs/pybatsim/lib/python3.8/site-packages/scipy/stats/_continuous_distns.py:2844: RuntimeWarning: The shape parameter of the erlang distribution has been given a non-integer value 0.17354013939924606.\n",
      "  warnings.warn(\n",
      "/usr/local/anaconda3/envs/pybatsim/lib/python3.8/site-packages/scipy/stats/_continuous_distns.py:2844: RuntimeWarning: The shape parameter of the erlang distribution has been given a non-integer value 0.17355097690178417.\n",
      "  warnings.warn(\n",
      "/usr/local/anaconda3/envs/pybatsim/lib/python3.8/site-packages/scipy/stats/_continuous_distns.py:2844: RuntimeWarning: The shape parameter of the erlang distribution has been given a non-integer value 0.1734820555934089.\n",
      "  warnings.warn(\n",
      "/usr/local/anaconda3/envs/pybatsim/lib/python3.8/site-packages/scipy/stats/_continuous_distns.py:2844: RuntimeWarning: The shape parameter of the erlang distribution has been given a non-integer value 0.17355988428731706.\n",
      "  warnings.warn(\n",
      "/usr/local/anaconda3/envs/pybatsim/lib/python3.8/site-packages/scipy/stats/_continuous_distns.py:2844: RuntimeWarning: The shape parameter of the erlang distribution has been given a non-integer value 0.17345609080004687.\n",
      "  warnings.warn(\n",
      "/usr/local/anaconda3/envs/pybatsim/lib/python3.8/site-packages/scipy/stats/_continuous_distns.py:2844: RuntimeWarning: The shape parameter of the erlang distribution has been given a non-integer value 0.17355729437659867.\n",
      "  warnings.warn(\n",
      "/usr/local/anaconda3/envs/pybatsim/lib/python3.8/site-packages/scipy/stats/_continuous_distns.py:2844: RuntimeWarning: The shape parameter of the erlang distribution has been given a non-integer value 0.17348550880770014.\n",
      "  warnings.warn(\n",
      "/usr/local/anaconda3/envs/pybatsim/lib/python3.8/site-packages/scipy/stats/_continuous_distns.py:2844: RuntimeWarning: The shape parameter of the erlang distribution has been given a non-integer value 0.17344832106789165.\n",
      "  warnings.warn(\n",
      "/usr/local/anaconda3/envs/pybatsim/lib/python3.8/site-packages/scipy/stats/_continuous_distns.py:2844: RuntimeWarning: The shape parameter of the erlang distribution has been given a non-integer value 0.17344024167248617.\n",
      "  warnings.warn(\n",
      "/usr/local/anaconda3/envs/pybatsim/lib/python3.8/site-packages/scipy/stats/_continuous_distns.py:2844: RuntimeWarning: The shape parameter of the erlang distribution has been given a non-integer value 0.17352803120057053.\n",
      "  warnings.warn(\n",
      "/usr/local/anaconda3/envs/pybatsim/lib/python3.8/site-packages/scipy/stats/_continuous_distns.py:2844: RuntimeWarning: The shape parameter of the erlang distribution has been given a non-integer value 0.1734695048485143.\n",
      "  warnings.warn(\n",
      "/usr/local/anaconda3/envs/pybatsim/lib/python3.8/site-packages/scipy/stats/_continuous_distns.py:2844: RuntimeWarning: The shape parameter of the erlang distribution has been given a non-integer value 0.17351339961255646.\n",
      "  warnings.warn(\n",
      "/usr/local/anaconda3/envs/pybatsim/lib/python3.8/site-packages/scipy/stats/_continuous_distns.py:2844: RuntimeWarning: The shape parameter of the erlang distribution has been given a non-integer value 0.17348413643652838.\n",
      "  warnings.warn(\n",
      "/usr/local/anaconda3/envs/pybatsim/lib/python3.8/site-packages/scipy/stats/_continuous_distns.py:2844: RuntimeWarning: The shape parameter of the erlang distribution has been given a non-integer value 0.17340199883713014.\n",
      "  warnings.warn(\n",
      "/usr/local/anaconda3/envs/pybatsim/lib/python3.8/site-packages/scipy/stats/_continuous_distns.py:2844: RuntimeWarning: The shape parameter of the erlang distribution has been given a non-integer value 0.17351373238562068.\n",
      "  warnings.warn(\n",
      "/usr/local/anaconda3/envs/pybatsim/lib/python3.8/site-packages/scipy/stats/_continuous_distns.py:2844: RuntimeWarning: The shape parameter of the erlang distribution has been given a non-integer value 0.1735291000557565.\n",
      "  warnings.warn(\n",
      "/usr/local/anaconda3/envs/pybatsim/lib/python3.8/site-packages/scipy/stats/_continuous_distns.py:2844: RuntimeWarning: The shape parameter of the erlang distribution has been given a non-integer value 0.17347713878704635.\n",
      "  warnings.warn(\n",
      "/usr/local/anaconda3/envs/pybatsim/lib/python3.8/site-packages/scipy/stats/_continuous_distns.py:2844: RuntimeWarning: The shape parameter of the erlang distribution has been given a non-integer value 0.17345079030189592.\n",
      "  warnings.warn(\n",
      "/usr/local/anaconda3/envs/pybatsim/lib/python3.8/site-packages/scipy/stats/_continuous_distns.py:2844: RuntimeWarning: The shape parameter of the erlang distribution has been given a non-integer value 0.1734193192600335.\n",
      "  warnings.warn(\n",
      "/usr/local/anaconda3/envs/pybatsim/lib/python3.8/site-packages/scipy/stats/_continuous_distns.py:2844: RuntimeWarning: The shape parameter of the erlang distribution has been given a non-integer value 0.17346981824370322.\n",
      "  warnings.warn(\n",
      "/usr/local/anaconda3/envs/pybatsim/lib/python3.8/site-packages/scipy/stats/_continuous_distns.py:2844: RuntimeWarning: The shape parameter of the erlang distribution has been given a non-integer value 0.17347530865121058.\n",
      "  warnings.warn(\n",
      "/usr/local/anaconda3/envs/pybatsim/lib/python3.8/site-packages/scipy/stats/_continuous_distns.py:2844: RuntimeWarning: The shape parameter of the erlang distribution has been given a non-integer value 0.173471648379539.\n",
      "  warnings.warn(\n",
      "/usr/local/anaconda3/envs/pybatsim/lib/python3.8/site-packages/scipy/stats/_continuous_distns.py:2844: RuntimeWarning: The shape parameter of the erlang distribution has been given a non-integer value 0.1734743935832927.\n",
      "  warnings.warn(\n",
      "/usr/local/anaconda3/envs/pybatsim/lib/python3.8/site-packages/scipy/stats/_continuous_distns.py:2844: RuntimeWarning: The shape parameter of the erlang distribution has been given a non-integer value 0.1734563253587308.\n",
      "  warnings.warn(\n",
      "/usr/local/anaconda3/envs/pybatsim/lib/python3.8/site-packages/scipy/stats/_continuous_distns.py:2844: RuntimeWarning: The shape parameter of the erlang distribution has been given a non-integer value 0.17345402272892518.\n",
      "  warnings.warn(\n",
      "/usr/local/anaconda3/envs/pybatsim/lib/python3.8/site-packages/scipy/stats/_continuous_distns.py:2844: RuntimeWarning: The shape parameter of the erlang distribution has been given a non-integer value 0.1734693008697008.\n",
      "  warnings.warn(\n",
      "/usr/local/anaconda3/envs/pybatsim/lib/python3.8/site-packages/scipy/stats/_continuous_distns.py:2844: RuntimeWarning: The shape parameter of the erlang distribution has been given a non-integer value 0.17345911544251708.\n",
      "  warnings.warn(\n",
      "/usr/local/anaconda3/envs/pybatsim/lib/python3.8/site-packages/scipy/stats/_continuous_distns.py:2844: RuntimeWarning: The shape parameter of the erlang distribution has been given a non-integer value 0.17346675451290489.\n",
      "  warnings.warn(\n",
      "/usr/local/anaconda3/envs/pybatsim/lib/python3.8/site-packages/scipy/stats/_continuous_distns.py:2844: RuntimeWarning: The shape parameter of the erlang distribution has been given a non-integer value 0.17343040464132098.\n",
      "  warnings.warn(\n",
      "/usr/local/anaconda3/envs/pybatsim/lib/python3.8/site-packages/scipy/stats/_continuous_distns.py:2844: RuntimeWarning: The shape parameter of the erlang distribution has been given a non-integer value 0.17347173276610534.\n",
      "  warnings.warn(\n",
      "/usr/local/anaconda3/envs/pybatsim/lib/python3.8/site-packages/scipy/stats/_continuous_distns.py:2844: RuntimeWarning: The shape parameter of the erlang distribution has been given a non-integer value array(0.17345079).\n",
      "  warnings.warn(\n"
     ]
    },
    {
     "name": "stdout",
     "output_type": "stream",
     "text": [
      "Fitted erlang distribution with error=7.817988159022954e-15)\n",
      "Fitted expon distribution with error=1.7063187431134527e-15)\n",
      "Fitted exponnorm distribution with error=1.7327693074086646e-15)\n",
      "Fitted exponpow distribution with error=4.206342324574536e-15)\n"
     ]
    },
    {
     "name": "stderr",
     "output_type": "stream",
     "text": [
      "/usr/local/anaconda3/envs/pybatsim/lib/python3.8/site-packages/scipy/stats/_continuous_distns.py:1607: RuntimeWarning: invalid value encountered in add\n",
      "  logp = (np.log(a) + np.log(c) + sc.xlogy(a - 1.0, exm1c) +\n"
     ]
    },
    {
     "name": "stdout",
     "output_type": "stream",
     "text": [
      "Fitted exponweib distribution with error=7.652584035112869e-15)\n",
      "Fitted f distribution with error=8.203443181458486e-15)\n",
      "Fitted fatiguelife distribution with error=4.6459497506716154e-15)\n",
      "Fitted fisk distribution with error=7.168290047481173e-15)\n",
      "Fitted foldcauchy distribution with error=8.204519176919832e-15)\n"
     ]
    },
    {
     "name": "stderr",
     "output_type": "stream",
     "text": [
      "/usr/local/anaconda3/envs/pybatsim/lib/python3.8/site-packages/scipy/stats/_distn_infrastructure.py:1702: RuntimeWarning: divide by zero encountered in log\n",
      "  return log(self._pdf(x, *args))\n"
     ]
    },
    {
     "name": "stdout",
     "output_type": "stream",
     "text": [
      "Fitted foldnorm distribution with error=2.944791565802072e-15)\n",
      "Fitted frechet_l distribution with error=8.209074926168048e-15)\n",
      "Fitted frechet_r distribution with error=4.441155618116051e-15)\n",
      "Fitted gamma distribution with error=8.204932365144624e-15)\n"
     ]
    },
    {
     "name": "stderr",
     "output_type": "stream",
     "text": [
      "/usr/local/anaconda3/envs/pybatsim/lib/python3.8/site-packages/scipy/stats/_distn_infrastructure.py:2664: RuntimeWarning: invalid value encountered in true_divide\n",
      "  pk = 1.0*pk / np.sum(pk, axis=axis, keepdims=True)\n",
      "/usr/local/anaconda3/envs/pybatsim/lib/python3.8/site-packages/scipy/stats/_continuous_distns.py:3373: RuntimeWarning: divide by zero encountered in power\n",
      "  return 1.0/Cinv * x**(a-1.0) * (1.0-x)**(b-1.0) / (1.0+z*x)**c\n"
     ]
    },
    {
     "name": "stdout",
     "output_type": "stream",
     "text": [
      "Fitted gausshyper distribution with error=5.919521919507197e-15)\n",
      "Fitted genexpon distribution with error=1.7063186687710308e-15)\n",
      "Fitted genextreme distribution with error=7.748594884750062e-15)\n",
      "Fitted gengamma distribution with error=6.564474519494806e-15)\n",
      "Fitted genhalflogistic distribution with error=5.190590122877682e-16)\n",
      "Fitted geninvgauss distribution with error=7.832950577808346e-15)\n",
      "Fitted genlogistic distribution with error=1.4212383355865975e-15)\n",
      "Fitted gennorm distribution with error=7.924725267927767e-15)\n"
     ]
    },
    {
     "name": "stderr",
     "output_type": "stream",
     "text": [
      "/usr/local/anaconda3/envs/pybatsim/lib/python3.8/site-packages/scipy/stats/_continuous_distns.py:2432: RuntimeWarning: divide by zero encountered in true_divide\n",
      "  val = val + cnk * (-1) ** ki / (1.0 - c * ki)\n"
     ]
    },
    {
     "name": "stdout",
     "output_type": "stream",
     "text": [
      "Fitted genpareto distribution with error=8.1654125433106e-15)\n",
      "Fitted gilbrat distribution with error=5.970298684684246e-15)\n",
      "Fitted gompertz distribution with error=1.7184881933463623e-15)\n",
      "Fitted gumbel_l distribution with error=7.786314457427436e-15)\n",
      "Fitted gumbel_r distribution with error=1.429522143595245e-15)\n",
      "Fitted halfcauchy distribution with error=8.200797392616957e-15)\n",
      "Fitted halfgennorm distribution with error=5.456885086580999e-15)\n",
      "Fitted halflogistic distribution with error=5.238569216514197e-16)\n",
      "Fitted halfnorm distribution with error=1.9872361449345473e-15)\n",
      "Fitted hypsecant distribution with error=2.0914121219688992e-15)\n"
     ]
    },
    {
     "name": "stderr",
     "output_type": "stream",
     "text": [
      "/usr/local/anaconda3/envs/pybatsim/lib/python3.8/site-packages/scipy/stats/_continuous_distns.py:3322: RuntimeWarning: overflow encountered in cosh\n",
      "  return 1.0/(np.pi*np.cosh(x))\n"
     ]
    },
    {
     "name": "stdout",
     "output_type": "stream",
     "text": [
      "Fitted invgamma distribution with error=8.201649040738759e-15)\n",
      "Fitted invgauss distribution with error=8.204003260453415e-15)\n",
      "Fitted invweibull distribution with error=7.649493677604697e-15)\n",
      "Fitted johnsonsb distribution with error=7.527862620887185e-15)\n",
      "Fitted johnsonsu distribution with error=8.2047280264482e-15)\n",
      "Fitted kappa3 distribution with error=7.66737490696742e-15)\n",
      "Fitted kappa4 distribution with error=8.037593268376015e-15)\n"
     ]
    },
    {
     "name": "stderr",
     "output_type": "stream",
     "text": [
      "/usr/local/anaconda3/envs/pybatsim/lib/python3.8/site-packages/scipy/stats/_continuous_distns.py:97: RuntimeWarning: floating point number truncated to an integer\n",
      "  return -scu._smirnovp(n, x)\n"
     ]
    },
    {
     "name": "stdout",
     "output_type": "stream",
     "text": [
      "Fitted ksone distribution with error=8.11828056513028e-15)\n",
      "Fitted kstwobign distribution with error=2.3731407995945657e-15)\n",
      "Fitted laplace distribution with error=4.344071261135436e-15)\n",
      "Fitted levy distribution with error=8.204932364893122e-15)\n",
      "Fitted levy_l distribution with error=8.173219018614584e-15)\n",
      "SKIPPED levy_stable distribution (taking more than 30 seconds)\n",
      "SKIPPED loggamma distribution (taking more than 30 seconds)\n",
      "Fitted logistic distribution with error=1.2519278717443535e-15)\n"
     ]
    },
    {
     "name": "stderr",
     "output_type": "stream",
     "text": [
      "/usr/local/anaconda3/envs/pybatsim/lib/python3.8/site-packages/scipy/stats/_continuous_distns.py:4798: RuntimeWarning: divide by zero encountered in true_divide\n",
      "  return c**2 / (c**2 - n**2)\n",
      "/usr/local/anaconda3/envs/pybatsim/lib/python3.8/site-packages/scipy/stats/_continuous_distns.py:4789: RuntimeWarning: divide by zero encountered in power\n",
      "  return cd2*x**(c-1)\n"
     ]
    },
    {
     "name": "stdout",
     "output_type": "stream",
     "text": [
      "Fitted loglaplace distribution with error=7.592092307982686e-15)\n",
      "SKIPPED lognorm distribution (taking more than 30 seconds)\n",
      "Fitted loguniform distribution with error=8.204932365144624e-15)\n",
      "Fitted lomax distribution with error=8.203893914485755e-15)\n",
      "Fitted maxwell distribution with error=3.601872549856013e-15)\n",
      "SKIPPED mielke distribution (taking more than 30 seconds)\n",
      "Fitted moyal distribution with error=1.9594734001457654e-15)\n",
      "SKIPPED nakagami distribution (taking more than 30 seconds)\n"
     ]
    },
    {
     "name": "stderr",
     "output_type": "stream",
     "text": [
      "/usr/local/anaconda3/envs/pybatsim/lib/python3.8/site-packages/scipy/stats/_distn_infrastructure.py:1702: RuntimeWarning: invalid value encountered in log\n",
      "  return log(self._pdf(x, *args))\n"
     ]
    },
    {
     "name": "stdout",
     "output_type": "stream",
     "text": [
      "SKIPPED ncf distribution (taking more than 30 seconds)\n",
      "SKIPPED nct distribution (taking more than 30 seconds)\n",
      "SKIPPED ncx2 distribution (taking more than 30 seconds)\n",
      "Fitted norm distribution with error=3.916893450314755e-15)\n"
     ]
    },
    {
     "name": "stderr",
     "output_type": "stream",
     "text": [
      "/usr/local/anaconda3/envs/pybatsim/lib/python3.8/site-packages/scipy/stats/_continuous_distns.py:5836: RuntimeWarning: invalid value encountered in multiply\n",
      "  Px *= trm1+trm2\n",
      "/usr/local/anaconda3/envs/pybatsim/lib/python3.8/site-packages/scipy/stats/_continuous_distns.py:5832: RuntimeWarning: overflow encountered in multiply\n",
      "  trm1 = np.sqrt(2)*nc*x*sc.hyp1f1(n/2+1, 1.5, valF)\n"
     ]
    },
    {
     "name": "stdout",
     "output_type": "stream",
     "text": [
      "Fitted norminvgauss distribution with error=8.199120636787857e-15)\n",
      "SKIPPED pareto distribution (taking more than 30 seconds)\n",
      "SKIPPED pearson3 distribution (taking more than 30 seconds)\n",
      "SKIPPED powerlaw distribution (taking more than 30 seconds)\n",
      "SKIPPED powerlognorm distribution (taking more than 30 seconds)\n",
      "SKIPPED powernorm distribution (taking more than 30 seconds)\n",
      "Fitted rayleigh distribution with error=2.6114820022856807e-15)\n",
      "SKIPPED rdist distribution (taking more than 30 seconds)\n",
      "SKIPPED recipinvgauss distribution (taking more than 30 seconds)\n",
      "Fitted reciprocal distribution with error=8.204932365144624e-15)\n",
      "SKIPPED rice distribution (taking more than 30 seconds)\n",
      "SKIPPED rv_continuous distribution (taking more than 30 seconds)\n",
      "SKIPPED rv_histogram distribution (taking more than 30 seconds)\n",
      "Fitted semicircular distribution with error=7.91152757045479e-15)\n",
      "SKIPPED skewnorm distribution (taking more than 30 seconds)\n",
      "Fitted t distribution with error=8.151227588661642e-15)\n",
      "Fitted trapz distribution with error=8.253405023201518e-15)\n",
      "SKIPPED triang distribution (taking more than 30 seconds)\n",
      "Fitted truncexpon distribution with error=8.022485839427184e-15)\n",
      "SKIPPED truncnorm distribution (taking more than 30 seconds)\n"
     ]
    },
    {
     "name": "stderr",
     "output_type": "stream",
     "text": [
      "/usr/local/anaconda3/envs/pybatsim/lib/python3.8/site-packages/scipy/stats/_continuous_distns.py:7248: RuntimeWarning: divide by zero encountered in power\n",
      "  Px = Fx**(lam-1.0) + (np.asarray(1-Fx))**(lam-1.0)\n"
     ]
    },
    {
     "name": "stdout",
     "output_type": "stream",
     "text": [
      "SKIPPED tukeylambda distribution (taking more than 30 seconds)\n",
      "Fitted uniform distribution with error=8.118196191184226e-15)\n",
      "SKIPPED vonmises distribution (taking more than 30 seconds)\n",
      "SKIPPED vonmises_line distribution (taking more than 30 seconds)\n",
      "Fitted wald distribution with error=4.239644431915397e-15)\n",
      "Fitted weibull_max distribution with error=8.209074926168048e-15)\n",
      "Fitted weibull_min distribution with error=4.441155618116051e-15)\n",
      "Fitted wrapcauchy distribution with error=nan)\n"
     ]
    },
    {
     "name": "stderr",
     "output_type": "stream",
     "text": [
      "/usr/local/anaconda3/envs/pybatsim/lib/python3.8/site-packages/scipy/optimize/optimize.py:597: RuntimeWarning: invalid value encountered in subtract\n",
      "  numpy.max(numpy.abs(fsim[0] - fsim[1:])) <= fatol):\n"
     ]
    }
   ],
   "source": [
    "fitter = Fitter(fit_sample)\n",
    "fitter.fit()"
   ]
  },
  {
   "cell_type": "code",
   "execution_count": 85,
   "metadata": {},
   "outputs": [
    {
     "data": {
      "text/html": [
       "<div>\n",
       "<style scoped>\n",
       "    .dataframe tbody tr th:only-of-type {\n",
       "        vertical-align: middle;\n",
       "    }\n",
       "\n",
       "    .dataframe tbody tr th {\n",
       "        vertical-align: top;\n",
       "    }\n",
       "\n",
       "    .dataframe thead th {\n",
       "        text-align: right;\n",
       "    }\n",
       "</style>\n",
       "<table border=\"1\" class=\"dataframe\">\n",
       "  <thead>\n",
       "    <tr style=\"text-align: right;\">\n",
       "      <th></th>\n",
       "      <th>sumsquare_error</th>\n",
       "      <th>aic</th>\n",
       "      <th>bic</th>\n",
       "      <th>kl_div</th>\n",
       "    </tr>\n",
       "  </thead>\n",
       "  <tbody>\n",
       "    <tr>\n",
       "      <th>genhalflogistic</th>\n",
       "      <td>5.190590e-16</td>\n",
       "      <td>5.143141e+04</td>\n",
       "      <td>-9.019303e+05</td>\n",
       "      <td>inf</td>\n",
       "    </tr>\n",
       "    <tr>\n",
       "      <th>halflogistic</th>\n",
       "      <td>5.238569e-16</td>\n",
       "      <td>5.112316e+04</td>\n",
       "      <td>-9.017562e+05</td>\n",
       "      <td>inf</td>\n",
       "    </tr>\n",
       "    <tr>\n",
       "      <th>logistic</th>\n",
       "      <td>1.251928e-15</td>\n",
       "      <td>5.623114e+04</td>\n",
       "      <td>-8.843318e+05</td>\n",
       "      <td>inf</td>\n",
       "    </tr>\n",
       "    <tr>\n",
       "      <th>genlogistic</th>\n",
       "      <td>1.421238e-15</td>\n",
       "      <td>5.078051e+04</td>\n",
       "      <td>-8.817850e+05</td>\n",
       "      <td>inf</td>\n",
       "    </tr>\n",
       "    <tr>\n",
       "      <th>gumbel_r</th>\n",
       "      <td>1.429522e-15</td>\n",
       "      <td>5.090287e+04</td>\n",
       "      <td>-8.816787e+05</td>\n",
       "      <td>inf</td>\n",
       "    </tr>\n",
       "    <tr>\n",
       "      <th>genexpon</th>\n",
       "      <td>1.706319e-15</td>\n",
       "      <td>4.387512e+04</td>\n",
       "      <td>-8.781090e+05</td>\n",
       "      <td>inf</td>\n",
       "    </tr>\n",
       "    <tr>\n",
       "      <th>expon</th>\n",
       "      <td>1.706319e-15</td>\n",
       "      <td>4.386912e+04</td>\n",
       "      <td>-8.781387e+05</td>\n",
       "      <td>inf</td>\n",
       "    </tr>\n",
       "    <tr>\n",
       "      <th>gompertz</th>\n",
       "      <td>1.718488e-15</td>\n",
       "      <td>4.398730e+04</td>\n",
       "      <td>-8.779867e+05</td>\n",
       "      <td>inf</td>\n",
       "    </tr>\n",
       "    <tr>\n",
       "      <th>exponnorm</th>\n",
       "      <td>1.732769e-15</td>\n",
       "      <td>4.406852e+04</td>\n",
       "      <td>-8.778212e+05</td>\n",
       "      <td>inf</td>\n",
       "    </tr>\n",
       "    <tr>\n",
       "      <th>moyal</th>\n",
       "      <td>1.959473e-15</td>\n",
       "      <td>4.659866e+04</td>\n",
       "      <td>-8.753720e+05</td>\n",
       "      <td>inf</td>\n",
       "    </tr>\n",
       "    <tr>\n",
       "      <th>halfnorm</th>\n",
       "      <td>1.987236e-15</td>\n",
       "      <td>2.282957e+05</td>\n",
       "      <td>-8.750906e+05</td>\n",
       "      <td>inf</td>\n",
       "    </tr>\n",
       "    <tr>\n",
       "      <th>hypsecant</th>\n",
       "      <td>2.091412e-15</td>\n",
       "      <td>4.948693e+04</td>\n",
       "      <td>-8.740687e+05</td>\n",
       "      <td>inf</td>\n",
       "    </tr>\n",
       "    <tr>\n",
       "      <th>kstwobign</th>\n",
       "      <td>2.373141e-15</td>\n",
       "      <td>inf</td>\n",
       "      <td>-8.715412e+05</td>\n",
       "      <td>inf</td>\n",
       "    </tr>\n",
       "    <tr>\n",
       "      <th>rayleigh</th>\n",
       "      <td>2.611482e-15</td>\n",
       "      <td>2.229824e+05</td>\n",
       "      <td>-8.696271e+05</td>\n",
       "      <td>inf</td>\n",
       "    </tr>\n",
       "    <tr>\n",
       "      <th>chi2</th>\n",
       "      <td>2.937126e-15</td>\n",
       "      <td>8.420685e+03</td>\n",
       "      <td>-8.672669e+05</td>\n",
       "      <td>inf</td>\n",
       "    </tr>\n",
       "    <tr>\n",
       "      <th>foldnorm</th>\n",
       "      <td>2.944792e-15</td>\n",
       "      <td>inf</td>\n",
       "      <td>-8.672148e+05</td>\n",
       "      <td>inf</td>\n",
       "    </tr>\n",
       "    <tr>\n",
       "      <th>chi</th>\n",
       "      <td>3.297733e-15</td>\n",
       "      <td>2.075850e+05</td>\n",
       "      <td>-8.649509e+05</td>\n",
       "      <td>inf</td>\n",
       "    </tr>\n",
       "    <tr>\n",
       "      <th>maxwell</th>\n",
       "      <td>3.601873e-15</td>\n",
       "      <td>inf</td>\n",
       "      <td>-8.631964e+05</td>\n",
       "      <td>inf</td>\n",
       "    </tr>\n",
       "    <tr>\n",
       "      <th>norm</th>\n",
       "      <td>3.916893e-15</td>\n",
       "      <td>2.361693e+05</td>\n",
       "      <td>-8.615195e+05</td>\n",
       "      <td>inf</td>\n",
       "    </tr>\n",
       "    <tr>\n",
       "      <th>crystalball</th>\n",
       "      <td>4.095989e-15</td>\n",
       "      <td>2.282925e+05</td>\n",
       "      <td>-8.606055e+05</td>\n",
       "      <td>inf</td>\n",
       "    </tr>\n",
       "    <tr>\n",
       "      <th>exponpow</th>\n",
       "      <td>4.206342e-15</td>\n",
       "      <td>1.916484e+04</td>\n",
       "      <td>-8.600837e+05</td>\n",
       "      <td>inf</td>\n",
       "    </tr>\n",
       "    <tr>\n",
       "      <th>wald</th>\n",
       "      <td>4.239644e-15</td>\n",
       "      <td>2.781886e+04</td>\n",
       "      <td>-8.599359e+05</td>\n",
       "      <td>inf</td>\n",
       "    </tr>\n",
       "    <tr>\n",
       "      <th>laplace</th>\n",
       "      <td>4.344071e-15</td>\n",
       "      <td>4.400750e+04</td>\n",
       "      <td>-8.594492e+05</td>\n",
       "      <td>inf</td>\n",
       "    </tr>\n",
       "    <tr>\n",
       "      <th>frechet_r</th>\n",
       "      <td>4.441156e-15</td>\n",
       "      <td>5.954859e+03</td>\n",
       "      <td>-8.589973e+05</td>\n",
       "      <td>inf</td>\n",
       "    </tr>\n",
       "    <tr>\n",
       "      <th>weibull_min</th>\n",
       "      <td>4.441156e-15</td>\n",
       "      <td>5.954859e+03</td>\n",
       "      <td>-8.589973e+05</td>\n",
       "      <td>inf</td>\n",
       "    </tr>\n",
       "    <tr>\n",
       "      <th>fatiguelife</th>\n",
       "      <td>4.645950e-15</td>\n",
       "      <td>1.333974e+04</td>\n",
       "      <td>-8.580957e+05</td>\n",
       "      <td>inf</td>\n",
       "    </tr>\n",
       "    <tr>\n",
       "      <th>halfgennorm</th>\n",
       "      <td>5.456885e-15</td>\n",
       "      <td>8.080696e+03</td>\n",
       "      <td>-8.548780e+05</td>\n",
       "      <td>inf</td>\n",
       "    </tr>\n",
       "    <tr>\n",
       "      <th>dweibull</th>\n",
       "      <td>5.662340e-15</td>\n",
       "      <td>6.718959e+03</td>\n",
       "      <td>-8.541388e+05</td>\n",
       "      <td>inf</td>\n",
       "    </tr>\n",
       "    <tr>\n",
       "      <th>gausshyper</th>\n",
       "      <td>5.919522e-15</td>\n",
       "      <td>4.368000e+03</td>\n",
       "      <td>-8.532207e+05</td>\n",
       "      <td>inf</td>\n",
       "    </tr>\n",
       "    <tr>\n",
       "      <th>gilbrat</th>\n",
       "      <td>5.970299e-15</td>\n",
       "      <td>7.940044e+03</td>\n",
       "      <td>-8.530895e+05</td>\n",
       "      <td>inf</td>\n",
       "    </tr>\n",
       "    <tr>\n",
       "      <th>gengamma</th>\n",
       "      <td>6.564475e-15</td>\n",
       "      <td>5.763655e+03</td>\n",
       "      <td>-8.511722e+05</td>\n",
       "      <td>inf</td>\n",
       "    </tr>\n",
       "    <tr>\n",
       "      <th>dgamma</th>\n",
       "      <td>6.886597e-15</td>\n",
       "      <td>3.141854e+04</td>\n",
       "      <td>-8.502240e+05</td>\n",
       "      <td>inf</td>\n",
       "    </tr>\n",
       "    <tr>\n",
       "      <th>bradford</th>\n",
       "      <td>7.015362e-15</td>\n",
       "      <td>4.274177e+03</td>\n",
       "      <td>-8.498535e+05</td>\n",
       "      <td>inf</td>\n",
       "    </tr>\n",
       "    <tr>\n",
       "      <th>fisk</th>\n",
       "      <td>7.168290e-15</td>\n",
       "      <td>4.754831e+03</td>\n",
       "      <td>-8.494222e+05</td>\n",
       "      <td>inf</td>\n",
       "    </tr>\n",
       "    <tr>\n",
       "      <th>burr</th>\n",
       "      <td>7.474815e-15</td>\n",
       "      <td>4.860999e+03</td>\n",
       "      <td>-8.485749e+05</td>\n",
       "      <td>inf</td>\n",
       "    </tr>\n",
       "    <tr>\n",
       "      <th>johnsonsb</th>\n",
       "      <td>7.527863e-15</td>\n",
       "      <td>4.869222e+03</td>\n",
       "      <td>-8.484334e+05</td>\n",
       "      <td>inf</td>\n",
       "    </tr>\n",
       "    <tr>\n",
       "      <th>arcsine</th>\n",
       "      <td>7.531569e-15</td>\n",
       "      <td>4.208853e+03</td>\n",
       "      <td>-8.484434e+05</td>\n",
       "      <td>inf</td>\n",
       "    </tr>\n",
       "    <tr>\n",
       "      <th>loglaplace</th>\n",
       "      <td>7.592092e-15</td>\n",
       "      <td>4.834609e+03</td>\n",
       "      <td>-8.482734e+05</td>\n",
       "      <td>inf</td>\n",
       "    </tr>\n",
       "    <tr>\n",
       "      <th>invweibull</th>\n",
       "      <td>7.649494e-15</td>\n",
       "      <td>4.802114e+03</td>\n",
       "      <td>-8.481228e+05</td>\n",
       "      <td>inf</td>\n",
       "    </tr>\n",
       "    <tr>\n",
       "      <th>beta</th>\n",
       "      <td>7.652038e-15</td>\n",
       "      <td>1.358675e+05</td>\n",
       "      <td>-8.481062e+05</td>\n",
       "      <td>inf</td>\n",
       "    </tr>\n",
       "    <tr>\n",
       "      <th>exponweib</th>\n",
       "      <td>7.652584e-15</td>\n",
       "      <td>7.439954e+03</td>\n",
       "      <td>-8.481048e+05</td>\n",
       "      <td>inf</td>\n",
       "    </tr>\n",
       "    <tr>\n",
       "      <th>kappa3</th>\n",
       "      <td>7.667375e-15</td>\n",
       "      <td>4.960676e+03</td>\n",
       "      <td>-8.480761e+05</td>\n",
       "      <td>inf</td>\n",
       "    </tr>\n",
       "    <tr>\n",
       "      <th>cosine</th>\n",
       "      <td>7.738912e-15</td>\n",
       "      <td>inf</td>\n",
       "      <td>-8.479003e+05</td>\n",
       "      <td>inf</td>\n",
       "    </tr>\n",
       "    <tr>\n",
       "      <th>genextreme</th>\n",
       "      <td>7.748595e-15</td>\n",
       "      <td>4.961371e+03</td>\n",
       "      <td>-8.478653e+05</td>\n",
       "      <td>inf</td>\n",
       "    </tr>\n",
       "    <tr>\n",
       "      <th>gumbel_l</th>\n",
       "      <td>7.786314e-15</td>\n",
       "      <td>6.370802e+04</td>\n",
       "      <td>-8.477781e+05</td>\n",
       "      <td>inf</td>\n",
       "    </tr>\n",
       "    <tr>\n",
       "      <th>erlang</th>\n",
       "      <td>7.817988e-15</td>\n",
       "      <td>6.352149e+04</td>\n",
       "      <td>-8.476870e+05</td>\n",
       "      <td>inf</td>\n",
       "    </tr>\n",
       "    <tr>\n",
       "      <th>geninvgauss</th>\n",
       "      <td>7.832951e-15</td>\n",
       "      <td>4.906366e+03</td>\n",
       "      <td>-8.476389e+05</td>\n",
       "      <td>inf</td>\n",
       "    </tr>\n",
       "    <tr>\n",
       "      <th>anglit</th>\n",
       "      <td>7.841653e-15</td>\n",
       "      <td>inf</td>\n",
       "      <td>-8.476365e+05</td>\n",
       "      <td>inf</td>\n",
       "    </tr>\n",
       "    <tr>\n",
       "      <th>semicircular</th>\n",
       "      <td>7.911528e-15</td>\n",
       "      <td>inf</td>\n",
       "      <td>-8.474591e+05</td>\n",
       "      <td>inf</td>\n",
       "    </tr>\n",
       "    <tr>\n",
       "      <th>gennorm</th>\n",
       "      <td>7.924725e-15</td>\n",
       "      <td>6.497917e+03</td>\n",
       "      <td>-8.474158e+05</td>\n",
       "      <td>inf</td>\n",
       "    </tr>\n",
       "    <tr>\n",
       "      <th>truncexpon</th>\n",
       "      <td>8.022486e-15</td>\n",
       "      <td>4.209574e+03</td>\n",
       "      <td>-8.471706e+05</td>\n",
       "      <td>inf</td>\n",
       "    </tr>\n",
       "    <tr>\n",
       "      <th>kappa4</th>\n",
       "      <td>8.037593e-15</td>\n",
       "      <td>4.176584e+03</td>\n",
       "      <td>-8.471231e+05</td>\n",
       "      <td>inf</td>\n",
       "    </tr>\n",
       "    <tr>\n",
       "      <th>betaprime</th>\n",
       "      <td>8.057743e-15</td>\n",
       "      <td>5.115694e+03</td>\n",
       "      <td>-8.470730e+05</td>\n",
       "      <td>inf</td>\n",
       "    </tr>\n",
       "    <tr>\n",
       "      <th>burr12</th>\n",
       "      <td>8.057862e-15</td>\n",
       "      <td>5.198719e+03</td>\n",
       "      <td>-8.470727e+05</td>\n",
       "      <td>inf</td>\n",
       "    </tr>\n",
       "    <tr>\n",
       "      <th>uniform</th>\n",
       "      <td>8.118196e-15</td>\n",
       "      <td>4.162883e+03</td>\n",
       "      <td>-8.469433e+05</td>\n",
       "      <td>inf</td>\n",
       "    </tr>\n",
       "    <tr>\n",
       "      <th>ksone</th>\n",
       "      <td>8.118281e-15</td>\n",
       "      <td>4.171220e+03</td>\n",
       "      <td>-8.469332e+05</td>\n",
       "      <td>inf</td>\n",
       "    </tr>\n",
       "    <tr>\n",
       "      <th>argus</th>\n",
       "      <td>8.137477e-15</td>\n",
       "      <td>4.233639e+03</td>\n",
       "      <td>-8.468860e+05</td>\n",
       "      <td>inf</td>\n",
       "    </tr>\n",
       "    <tr>\n",
       "      <th>t</th>\n",
       "      <td>8.151228e-15</td>\n",
       "      <td>5.301254e+03</td>\n",
       "      <td>-8.468522e+05</td>\n",
       "      <td>inf</td>\n",
       "    </tr>\n",
       "    <tr>\n",
       "      <th>genpareto</th>\n",
       "      <td>8.165413e-15</td>\n",
       "      <td>5.396204e+03</td>\n",
       "      <td>-8.468174e+05</td>\n",
       "      <td>inf</td>\n",
       "    </tr>\n",
       "    <tr>\n",
       "      <th>levy_l</th>\n",
       "      <td>8.173219e-15</td>\n",
       "      <td>4.572805e+03</td>\n",
       "      <td>-8.468082e+05</td>\n",
       "      <td>inf</td>\n",
       "    </tr>\n",
       "    <tr>\n",
       "      <th>norminvgauss</th>\n",
       "      <td>8.199121e-15</td>\n",
       "      <td>6.131700e+03</td>\n",
       "      <td>-8.467251e+05</td>\n",
       "      <td>inf</td>\n",
       "    </tr>\n",
       "    <tr>\n",
       "      <th>halfcauchy</th>\n",
       "      <td>8.200797e-15</td>\n",
       "      <td>6.625652e+03</td>\n",
       "      <td>-8.467408e+05</td>\n",
       "      <td>inf</td>\n",
       "    </tr>\n",
       "    <tr>\n",
       "      <th>invgamma</th>\n",
       "      <td>8.201649e-15</td>\n",
       "      <td>5.951414e+03</td>\n",
       "      <td>-8.467289e+05</td>\n",
       "      <td>inf</td>\n",
       "    </tr>\n",
       "    <tr>\n",
       "      <th>alpha</th>\n",
       "      <td>8.202827e-15</td>\n",
       "      <td>6.762635e+03</td>\n",
       "      <td>-8.467260e+05</td>\n",
       "      <td>inf</td>\n",
       "    </tr>\n",
       "    <tr>\n",
       "      <th>cauchy</th>\n",
       "      <td>8.202894e-15</td>\n",
       "      <td>6.767097e+03</td>\n",
       "      <td>-8.467357e+05</td>\n",
       "      <td>inf</td>\n",
       "    </tr>\n",
       "    <tr>\n",
       "      <th>f</th>\n",
       "      <td>8.203443e-15</td>\n",
       "      <td>6.127626e+03</td>\n",
       "      <td>-8.467146e+05</td>\n",
       "      <td>inf</td>\n",
       "    </tr>\n",
       "    <tr>\n",
       "      <th>lomax</th>\n",
       "      <td>8.203894e-15</td>\n",
       "      <td>6.204622e+03</td>\n",
       "      <td>-8.467234e+05</td>\n",
       "      <td>inf</td>\n",
       "    </tr>\n",
       "    <tr>\n",
       "      <th>invgauss</th>\n",
       "      <td>8.204003e-15</td>\n",
       "      <td>7.002559e+03</td>\n",
       "      <td>-8.467231e+05</td>\n",
       "      <td>inf</td>\n",
       "    </tr>\n",
       "    <tr>\n",
       "      <th>foldcauchy</th>\n",
       "      <td>8.204519e-15</td>\n",
       "      <td>7.088342e+03</td>\n",
       "      <td>-8.467219e+05</td>\n",
       "      <td>inf</td>\n",
       "    </tr>\n",
       "    <tr>\n",
       "      <th>johnsonsu</th>\n",
       "      <td>8.204728e-15</td>\n",
       "      <td>6.951423e+03</td>\n",
       "      <td>-8.467115e+05</td>\n",
       "      <td>inf</td>\n",
       "    </tr>\n",
       "    <tr>\n",
       "      <th>levy</th>\n",
       "      <td>8.204932e-15</td>\n",
       "      <td>9.518870e+03</td>\n",
       "      <td>-8.467308e+05</td>\n",
       "      <td>inf</td>\n",
       "    </tr>\n",
       "    <tr>\n",
       "      <th>loguniform</th>\n",
       "      <td>8.204932e-15</td>\n",
       "      <td>inf</td>\n",
       "      <td>-8.467110e+05</td>\n",
       "      <td>NaN</td>\n",
       "    </tr>\n",
       "    <tr>\n",
       "      <th>gamma</th>\n",
       "      <td>8.204932e-15</td>\n",
       "      <td>inf</td>\n",
       "      <td>-8.467209e+05</td>\n",
       "      <td>NaN</td>\n",
       "    </tr>\n",
       "    <tr>\n",
       "      <th>reciprocal</th>\n",
       "      <td>8.204932e-15</td>\n",
       "      <td>inf</td>\n",
       "      <td>-8.467110e+05</td>\n",
       "      <td>NaN</td>\n",
       "    </tr>\n",
       "    <tr>\n",
       "      <th>frechet_l</th>\n",
       "      <td>8.209075e-15</td>\n",
       "      <td>4.887414e+03</td>\n",
       "      <td>-8.467108e+05</td>\n",
       "      <td>inf</td>\n",
       "    </tr>\n",
       "    <tr>\n",
       "      <th>weibull_max</th>\n",
       "      <td>8.209075e-15</td>\n",
       "      <td>4.887414e+03</td>\n",
       "      <td>-8.467108e+05</td>\n",
       "      <td>inf</td>\n",
       "    </tr>\n",
       "    <tr>\n",
       "      <th>trapz</th>\n",
       "      <td>8.253405e-15</td>\n",
       "      <td>4.231780e+03</td>\n",
       "      <td>-8.465931e+05</td>\n",
       "      <td>inf</td>\n",
       "    </tr>\n",
       "    <tr>\n",
       "      <th>pearson3</th>\n",
       "      <td>inf</td>\n",
       "      <td>inf</td>\n",
       "      <td>inf</td>\n",
       "      <td>inf</td>\n",
       "    </tr>\n",
       "    <tr>\n",
       "      <th>levy_stable</th>\n",
       "      <td>inf</td>\n",
       "      <td>inf</td>\n",
       "      <td>inf</td>\n",
       "      <td>inf</td>\n",
       "    </tr>\n",
       "    <tr>\n",
       "      <th>vonmises_line</th>\n",
       "      <td>inf</td>\n",
       "      <td>inf</td>\n",
       "      <td>inf</td>\n",
       "      <td>inf</td>\n",
       "    </tr>\n",
       "    <tr>\n",
       "      <th>vonmises</th>\n",
       "      <td>inf</td>\n",
       "      <td>inf</td>\n",
       "      <td>inf</td>\n",
       "      <td>inf</td>\n",
       "    </tr>\n",
       "    <tr>\n",
       "      <th>loggamma</th>\n",
       "      <td>inf</td>\n",
       "      <td>inf</td>\n",
       "      <td>inf</td>\n",
       "      <td>inf</td>\n",
       "    </tr>\n",
       "    <tr>\n",
       "      <th>tukeylambda</th>\n",
       "      <td>inf</td>\n",
       "      <td>inf</td>\n",
       "      <td>inf</td>\n",
       "      <td>inf</td>\n",
       "    </tr>\n",
       "    <tr>\n",
       "      <th>truncnorm</th>\n",
       "      <td>inf</td>\n",
       "      <td>inf</td>\n",
       "      <td>inf</td>\n",
       "      <td>inf</td>\n",
       "    </tr>\n",
       "    <tr>\n",
       "      <th>lognorm</th>\n",
       "      <td>inf</td>\n",
       "      <td>inf</td>\n",
       "      <td>inf</td>\n",
       "      <td>inf</td>\n",
       "    </tr>\n",
       "    <tr>\n",
       "      <th>triang</th>\n",
       "      <td>inf</td>\n",
       "      <td>inf</td>\n",
       "      <td>inf</td>\n",
       "      <td>inf</td>\n",
       "    </tr>\n",
       "    <tr>\n",
       "      <th>mielke</th>\n",
       "      <td>inf</td>\n",
       "      <td>inf</td>\n",
       "      <td>inf</td>\n",
       "      <td>inf</td>\n",
       "    </tr>\n",
       "    <tr>\n",
       "      <th>ncx2</th>\n",
       "      <td>inf</td>\n",
       "      <td>inf</td>\n",
       "      <td>inf</td>\n",
       "      <td>inf</td>\n",
       "    </tr>\n",
       "    <tr>\n",
       "      <th>skewnorm</th>\n",
       "      <td>inf</td>\n",
       "      <td>inf</td>\n",
       "      <td>inf</td>\n",
       "      <td>inf</td>\n",
       "    </tr>\n",
       "    <tr>\n",
       "      <th>rv_histogram</th>\n",
       "      <td>inf</td>\n",
       "      <td>inf</td>\n",
       "      <td>inf</td>\n",
       "      <td>inf</td>\n",
       "    </tr>\n",
       "    <tr>\n",
       "      <th>rv_continuous</th>\n",
       "      <td>inf</td>\n",
       "      <td>inf</td>\n",
       "      <td>inf</td>\n",
       "      <td>inf</td>\n",
       "    </tr>\n",
       "    <tr>\n",
       "      <th>rice</th>\n",
       "      <td>inf</td>\n",
       "      <td>inf</td>\n",
       "      <td>inf</td>\n",
       "      <td>inf</td>\n",
       "    </tr>\n",
       "    <tr>\n",
       "      <th>ncf</th>\n",
       "      <td>inf</td>\n",
       "      <td>inf</td>\n",
       "      <td>inf</td>\n",
       "      <td>inf</td>\n",
       "    </tr>\n",
       "    <tr>\n",
       "      <th>recipinvgauss</th>\n",
       "      <td>inf</td>\n",
       "      <td>inf</td>\n",
       "      <td>inf</td>\n",
       "      <td>inf</td>\n",
       "    </tr>\n",
       "    <tr>\n",
       "      <th>rdist</th>\n",
       "      <td>inf</td>\n",
       "      <td>inf</td>\n",
       "      <td>inf</td>\n",
       "      <td>inf</td>\n",
       "    </tr>\n",
       "    <tr>\n",
       "      <th>nct</th>\n",
       "      <td>inf</td>\n",
       "      <td>inf</td>\n",
       "      <td>inf</td>\n",
       "      <td>inf</td>\n",
       "    </tr>\n",
       "    <tr>\n",
       "      <th>powernorm</th>\n",
       "      <td>inf</td>\n",
       "      <td>inf</td>\n",
       "      <td>inf</td>\n",
       "      <td>inf</td>\n",
       "    </tr>\n",
       "    <tr>\n",
       "      <th>powerlognorm</th>\n",
       "      <td>inf</td>\n",
       "      <td>inf</td>\n",
       "      <td>inf</td>\n",
       "      <td>inf</td>\n",
       "    </tr>\n",
       "    <tr>\n",
       "      <th>powerlaw</th>\n",
       "      <td>inf</td>\n",
       "      <td>inf</td>\n",
       "      <td>inf</td>\n",
       "      <td>inf</td>\n",
       "    </tr>\n",
       "    <tr>\n",
       "      <th>nakagami</th>\n",
       "      <td>inf</td>\n",
       "      <td>inf</td>\n",
       "      <td>inf</td>\n",
       "      <td>inf</td>\n",
       "    </tr>\n",
       "  </tbody>\n",
       "</table>\n",
       "</div>"
      ],
      "text/plain": [
       "                 sumsquare_error           aic           bic  kl_div\n",
       "genhalflogistic     5.190590e-16  5.143141e+04 -9.019303e+05     inf\n",
       "halflogistic        5.238569e-16  5.112316e+04 -9.017562e+05     inf\n",
       "logistic            1.251928e-15  5.623114e+04 -8.843318e+05     inf\n",
       "genlogistic         1.421238e-15  5.078051e+04 -8.817850e+05     inf\n",
       "gumbel_r            1.429522e-15  5.090287e+04 -8.816787e+05     inf\n",
       "genexpon            1.706319e-15  4.387512e+04 -8.781090e+05     inf\n",
       "expon               1.706319e-15  4.386912e+04 -8.781387e+05     inf\n",
       "gompertz            1.718488e-15  4.398730e+04 -8.779867e+05     inf\n",
       "exponnorm           1.732769e-15  4.406852e+04 -8.778212e+05     inf\n",
       "moyal               1.959473e-15  4.659866e+04 -8.753720e+05     inf\n",
       "halfnorm            1.987236e-15  2.282957e+05 -8.750906e+05     inf\n",
       "hypsecant           2.091412e-15  4.948693e+04 -8.740687e+05     inf\n",
       "kstwobign           2.373141e-15           inf -8.715412e+05     inf\n",
       "rayleigh            2.611482e-15  2.229824e+05 -8.696271e+05     inf\n",
       "chi2                2.937126e-15  8.420685e+03 -8.672669e+05     inf\n",
       "foldnorm            2.944792e-15           inf -8.672148e+05     inf\n",
       "chi                 3.297733e-15  2.075850e+05 -8.649509e+05     inf\n",
       "maxwell             3.601873e-15           inf -8.631964e+05     inf\n",
       "norm                3.916893e-15  2.361693e+05 -8.615195e+05     inf\n",
       "crystalball         4.095989e-15  2.282925e+05 -8.606055e+05     inf\n",
       "exponpow            4.206342e-15  1.916484e+04 -8.600837e+05     inf\n",
       "wald                4.239644e-15  2.781886e+04 -8.599359e+05     inf\n",
       "laplace             4.344071e-15  4.400750e+04 -8.594492e+05     inf\n",
       "frechet_r           4.441156e-15  5.954859e+03 -8.589973e+05     inf\n",
       "weibull_min         4.441156e-15  5.954859e+03 -8.589973e+05     inf\n",
       "fatiguelife         4.645950e-15  1.333974e+04 -8.580957e+05     inf\n",
       "halfgennorm         5.456885e-15  8.080696e+03 -8.548780e+05     inf\n",
       "dweibull            5.662340e-15  6.718959e+03 -8.541388e+05     inf\n",
       "gausshyper          5.919522e-15  4.368000e+03 -8.532207e+05     inf\n",
       "gilbrat             5.970299e-15  7.940044e+03 -8.530895e+05     inf\n",
       "gengamma            6.564475e-15  5.763655e+03 -8.511722e+05     inf\n",
       "dgamma              6.886597e-15  3.141854e+04 -8.502240e+05     inf\n",
       "bradford            7.015362e-15  4.274177e+03 -8.498535e+05     inf\n",
       "fisk                7.168290e-15  4.754831e+03 -8.494222e+05     inf\n",
       "burr                7.474815e-15  4.860999e+03 -8.485749e+05     inf\n",
       "johnsonsb           7.527863e-15  4.869222e+03 -8.484334e+05     inf\n",
       "arcsine             7.531569e-15  4.208853e+03 -8.484434e+05     inf\n",
       "loglaplace          7.592092e-15  4.834609e+03 -8.482734e+05     inf\n",
       "invweibull          7.649494e-15  4.802114e+03 -8.481228e+05     inf\n",
       "beta                7.652038e-15  1.358675e+05 -8.481062e+05     inf\n",
       "exponweib           7.652584e-15  7.439954e+03 -8.481048e+05     inf\n",
       "kappa3              7.667375e-15  4.960676e+03 -8.480761e+05     inf\n",
       "cosine              7.738912e-15           inf -8.479003e+05     inf\n",
       "genextreme          7.748595e-15  4.961371e+03 -8.478653e+05     inf\n",
       "gumbel_l            7.786314e-15  6.370802e+04 -8.477781e+05     inf\n",
       "erlang              7.817988e-15  6.352149e+04 -8.476870e+05     inf\n",
       "geninvgauss         7.832951e-15  4.906366e+03 -8.476389e+05     inf\n",
       "anglit              7.841653e-15           inf -8.476365e+05     inf\n",
       "semicircular        7.911528e-15           inf -8.474591e+05     inf\n",
       "gennorm             7.924725e-15  6.497917e+03 -8.474158e+05     inf\n",
       "truncexpon          8.022486e-15  4.209574e+03 -8.471706e+05     inf\n",
       "kappa4              8.037593e-15  4.176584e+03 -8.471231e+05     inf\n",
       "betaprime           8.057743e-15  5.115694e+03 -8.470730e+05     inf\n",
       "burr12              8.057862e-15  5.198719e+03 -8.470727e+05     inf\n",
       "uniform             8.118196e-15  4.162883e+03 -8.469433e+05     inf\n",
       "ksone               8.118281e-15  4.171220e+03 -8.469332e+05     inf\n",
       "argus               8.137477e-15  4.233639e+03 -8.468860e+05     inf\n",
       "t                   8.151228e-15  5.301254e+03 -8.468522e+05     inf\n",
       "genpareto           8.165413e-15  5.396204e+03 -8.468174e+05     inf\n",
       "levy_l              8.173219e-15  4.572805e+03 -8.468082e+05     inf\n",
       "norminvgauss        8.199121e-15  6.131700e+03 -8.467251e+05     inf\n",
       "halfcauchy          8.200797e-15  6.625652e+03 -8.467408e+05     inf\n",
       "invgamma            8.201649e-15  5.951414e+03 -8.467289e+05     inf\n",
       "alpha               8.202827e-15  6.762635e+03 -8.467260e+05     inf\n",
       "cauchy              8.202894e-15  6.767097e+03 -8.467357e+05     inf\n",
       "f                   8.203443e-15  6.127626e+03 -8.467146e+05     inf\n",
       "lomax               8.203894e-15  6.204622e+03 -8.467234e+05     inf\n",
       "invgauss            8.204003e-15  7.002559e+03 -8.467231e+05     inf\n",
       "foldcauchy          8.204519e-15  7.088342e+03 -8.467219e+05     inf\n",
       "johnsonsu           8.204728e-15  6.951423e+03 -8.467115e+05     inf\n",
       "levy                8.204932e-15  9.518870e+03 -8.467308e+05     inf\n",
       "loguniform          8.204932e-15           inf -8.467110e+05     NaN\n",
       "gamma               8.204932e-15           inf -8.467209e+05     NaN\n",
       "reciprocal          8.204932e-15           inf -8.467110e+05     NaN\n",
       "frechet_l           8.209075e-15  4.887414e+03 -8.467108e+05     inf\n",
       "weibull_max         8.209075e-15  4.887414e+03 -8.467108e+05     inf\n",
       "trapz               8.253405e-15  4.231780e+03 -8.465931e+05     inf\n",
       "pearson3                     inf           inf           inf     inf\n",
       "levy_stable                  inf           inf           inf     inf\n",
       "vonmises_line                inf           inf           inf     inf\n",
       "vonmises                     inf           inf           inf     inf\n",
       "loggamma                     inf           inf           inf     inf\n",
       "tukeylambda                  inf           inf           inf     inf\n",
       "truncnorm                    inf           inf           inf     inf\n",
       "lognorm                      inf           inf           inf     inf\n",
       "triang                       inf           inf           inf     inf\n",
       "mielke                       inf           inf           inf     inf\n",
       "ncx2                         inf           inf           inf     inf\n",
       "skewnorm                     inf           inf           inf     inf\n",
       "rv_histogram                 inf           inf           inf     inf\n",
       "rv_continuous                inf           inf           inf     inf\n",
       "rice                         inf           inf           inf     inf\n",
       "ncf                          inf           inf           inf     inf\n",
       "recipinvgauss                inf           inf           inf     inf\n",
       "rdist                        inf           inf           inf     inf\n",
       "nct                          inf           inf           inf     inf\n",
       "powernorm                    inf           inf           inf     inf\n",
       "powerlognorm                 inf           inf           inf     inf\n",
       "powerlaw                     inf           inf           inf     inf\n",
       "nakagami                     inf           inf           inf     inf"
      ]
     },
     "execution_count": 85,
     "metadata": {},
     "output_type": "execute_result"
    }
   ],
   "source": [
    "pd.options.display.max_rows = 100\n",
    "fitter.summary(Nbest=100, plot=False, method='sumsquare_error')"
   ]
  },
  {
   "cell_type": "code",
   "execution_count": 24,
   "metadata": {},
   "outputs": [
    {
     "data": {
      "text/plain": [
       "(0.9999957379964148, 3776381.9680622933)"
      ]
     },
     "execution_count": 24,
     "metadata": {},
     "output_type": "execute_result"
    }
   ],
   "source": [
    "loc_halflogistic, scale_halflogistic = ss.halflogistic.fit(mem_req)\n",
    "loc_halflogistic, scale_halflogistic"
   ]
  },
  {
   "cell_type": "code",
   "execution_count": 25,
   "metadata": {},
   "outputs": [],
   "source": [
    "x = np.linspace(mem_lim.min(), mem_limit, 10000)\n",
    "y_pdf_halflogistic = ss.halflogistic.pdf(x, loc=loc_halflogistic, scale=scale_halflogistic)\n",
    "y_cdf_halflogistic = ss.halflogistic.cdf(x, loc=loc_halflogistic, scale=scale_halflogistic)"
   ]
  },
  {
   "cell_type": "code",
   "execution_count": 26,
   "metadata": {},
   "outputs": [
    {
     "data": {
      "text/plain": [
       "[<matplotlib.lines.Line2D at 0x7fa106eb4550>]"
      ]
     },
     "execution_count": 26,
     "metadata": {},
     "output_type": "execute_result"
    },
    {
     "data": {
      "image/png": "[encoded data removed]",
      "text/plain": [
       "<Figure size 864x576 with 1 Axes>"
      ]
     },
     "metadata": {
      "needs_background": "light"
     },
     "output_type": "display_data"
    }
   ],
   "source": [
    "fig, ax = plt.subplots()\n",
    "ax.set_xlim(right=mem_limit)\n",
    "ax.hist(mem_lim, bins=100, density=True)\n",
    "ax.plot(x, y_pdf_halflogistic)"
   ]
  },
  {
   "cell_type": "code",
   "execution_count": 27,
   "metadata": {},
   "outputs": [
    {
     "data": {
      "text/plain": [
       "[<matplotlib.lines.Line2D at 0x7fa1075b07c0>]"
      ]
     },
     "execution_count": 27,
     "metadata": {},
     "output_type": "execute_result"
    },
    {
     "data": {
      "image/png": "[encoded data removed]",
      "text/plain": [
       "<Figure size 864x576 with 1 Axes>"
      ]
     },
     "metadata": {
      "needs_background": "light"
     },
     "output_type": "display_data"
    }
   ],
   "source": [
    "fig, ax = plt.subplots()\n",
    "ax.set_xlim(right=mem_limit)\n",
    "ax.hist(mem_lim, density=True, cumulative=True, bins=100000, histtype='step')\n",
    "ax.plot(x, y_cdf_halflogistic)"
   ]
  },
  {
   "cell_type": "code",
   "execution_count": 31,
   "metadata": {},
   "outputs": [
    {
     "data": {
      "text/plain": [
       "(3511178.443846162, 2769285.7608062048)"
      ]
     },
     "execution_count": 31,
     "metadata": {},
     "output_type": "execute_result"
    }
   ],
   "source": [
    "loc_logistic, scale_logistic = ss.logistic.fit(mem_req)\n",
    "loc_logistic, scale_logistic"
   ]
  },
  {
   "cell_type": "code",
   "execution_count": 34,
   "metadata": {},
   "outputs": [],
   "source": [
    "x = np.linspace(mem_lim.min(), mem_limit, 10000)\n",
    "y_pdf_logistic = ss.logistic.pdf(x, loc=loc_logistic, scale=scale_logistic)\n",
    "y_cdf_logistic = ss.logistic.cdf(x, loc=loc_logistic, scale=scale_logistic)"
   ]
  },
  {
   "cell_type": "code",
   "execution_count": 35,
   "metadata": {},
   "outputs": [
    {
     "data": {
      "text/plain": [
       "<matplotlib.legend.Legend at 0x7fa109386d90>"
      ]
     },
     "execution_count": 35,
     "metadata": {},
     "output_type": "execute_result"
    },
    {
     "data": {
      "image/png": "[encoded data removed]",
      "text/plain": [
       "<Figure size 864x576 with 1 Axes>"
      ]
     },
     "metadata": {
      "needs_background": "light"
     },
     "output_type": "display_data"
    }
   ],
   "source": [
    "fig, ax = plt.subplots()\n",
    "ax.set_xlim(right=mem_limit)\n",
    "ax.hist(mem_lim, bins=100, density=True)\n",
    "ax.plot(x, y_pdf_expon, label='expon')\n",
    "ax.plot(x, y_pdf_halflogistic, label='halflogistic')\n",
    "ax.plot(x, y_pdf_logistic, label='logistic')\n",
    "ax.legend()"
   ]
  },
  {
   "cell_type": "code",
   "execution_count": 36,
   "metadata": {},
   "outputs": [
    {
     "data": {
      "text/plain": [
       "<matplotlib.legend.Legend at 0x7fa1095e15b0>"
      ]
     },
     "execution_count": 36,
     "metadata": {},
     "output_type": "execute_result"
    },
    {
     "data": {
      "image/png": "[encoded data removed]",
      "text/plain": [
       "<Figure size 864x576 with 1 Axes>"
      ]
     },
     "metadata": {
      "needs_background": "light"
     },
     "output_type": "display_data"
    }
   ],
   "source": [
    "fig, ax = plt.subplots()\n",
    "ax.set_xlim(right=mem_limit)\n",
    "ax.hist(mem_lim, density=True, cumulative=True, bins=100000, histtype='step')\n",
    "ax.plot(x, y_cdf_expon, label='expon')\n",
    "ax.plot(x, y_cdf_halflogistic, label='halflogistic')\n",
    "ax.plot(x, y_cdf_logistic, label='logistic')\n",
    "ax.legend()"
   ]
  },
  {
   "cell_type": "code",
   "execution_count": 41,
   "metadata": {},
   "outputs": [
    {
     "data": {
      "text/plain": [
       "KstestResult(statistic=0.2562073778175842, pvalue=0.0)"
      ]
     },
     "execution_count": 41,
     "metadata": {},
     "output_type": "execute_result"
    }
   ],
   "source": [
    "ss.kstest(mem_req, ss.expon(loc=loc_expon, scale=scale_expon).cdf, N=1000)"
   ]
  },
  {
   "cell_type": "code",
   "execution_count": 42,
   "metadata": {},
   "outputs": [
    {
     "data": {
      "text/plain": [
       "KstestResult(statistic=0.2489968618711269, pvalue=0.0)"
      ]
     },
     "execution_count": 42,
     "metadata": {},
     "output_type": "execute_result"
    }
   ],
   "source": [
    "ss.kstest(mem_req, ss.logistic(loc=loc_logistic, scale=scale_logistic).cdf, N=1000)"
   ]
  },
  {
   "cell_type": "code",
   "execution_count": 43,
   "metadata": {},
   "outputs": [
    {
     "data": {
      "text/plain": [
       "KstestResult(statistic=0.30584896812753004, pvalue=0.0)"
      ]
     },
     "execution_count": 43,
     "metadata": {},
     "output_type": "execute_result"
    }
   ],
   "source": [
    "ss.kstest(mem_req, ss.halflogistic(loc=loc_halflogistic, scale=scale_halflogistic).cdf, N=1000)"
   ]
  },
  {
   "cell_type": "code",
   "execution_count": 45,
   "metadata": {},
   "outputs": [
    {
     "data": {
      "text/plain": [
       "AndersonResult(statistic=307208.03267262504, critical_values=array([0.922, 1.078, 1.341, 1.606, 1.957]), significance_level=array([15. , 10. ,  5. ,  2.5,  1. ]))"
      ]
     },
     "execution_count": 45,
     "metadata": {},
     "output_type": "execute_result"
    }
   ],
   "source": [
    "ss.anderson(mem_req, 'expon')"
   ]
  },
  {
   "cell_type": "code",
   "execution_count": 46,
   "metadata": {},
   "outputs": [
    {
     "name": "stderr",
     "output_type": "stream",
     "text": [
      "/usr/local/anaconda3/envs/pybatsim/lib/python3.8/site-packages/pandas/core/series.py:856: RuntimeWarning: overflow encountered in exp\n",
      "  result = getattr(ufunc, method)(*inputs, **kwargs)\n"
     ]
    },
    {
     "data": {
      "text/plain": [
       "AndersonResult(statistic=inf, critical_values=array([0.426, 0.563, 0.66 , 0.769, 0.906, 1.01 ]), significance_level=array([25. , 10. ,  5. ,  2.5,  1. ,  0.5]))"
      ]
     },
     "execution_count": 46,
     "metadata": {},
     "output_type": "execute_result"
    }
   ],
   "source": [
    "ss.anderson(mem_req, 'logistic')"
   ]
  },
  {
   "cell_type": "code",
   "execution_count": 52,
   "metadata": {},
   "outputs": [
    {
     "data": {
      "image/png": "[encoded data removed]",
      "text/plain": [
       "<Figure size 864x576 with 1 Axes>"
      ]
     },
     "execution_count": 52,
     "metadata": {},
     "output_type": "execute_result"
    },
    {
     "data": {
      "image/png": "[encoded data removed]",
      "text/plain": [
       "<Figure size 864x576 with 1 Axes>"
      ]
     },
     "metadata": {
      "needs_background": "light"
     },
     "output_type": "display_data"
    }
   ],
   "source": [
    "sm.ProbPlot(mem_req, dist=ss.expon, loc=loc_expon, scale=scale_expon).qqplot()"
   ]
  },
  {
   "cell_type": "code",
   "execution_count": 53,
   "metadata": {},
   "outputs": [
    {
     "data": {
      "image/png": "[encoded data removed]",
      "text/plain": [
       "<Figure size 864x576 with 1 Axes>"
      ]
     },
     "execution_count": 53,
     "metadata": {},
     "output_type": "execute_result"
    },
    {
     "data": {
      "image/png": "[encoded data removed]",
      "text/plain": [
       "<Figure size 864x576 with 1 Axes>"
      ]
     },
     "metadata": {
      "needs_background": "light"
     },
     "output_type": "display_data"
    }
   ],
   "source": [
    "sm.ProbPlot(mem_req, dist=ss.logistic, loc=loc_logistic, scale=scale_logistic).qqplot()"
   ]
  },
  {
   "cell_type": "code",
   "execution_count": 54,
   "metadata": {},
   "outputs": [
    {
     "data": {
      "image/png": "[encoded data removed]",
      "text/plain": [
       "<Figure size 864x576 with 1 Axes>"
      ]
     },
     "execution_count": 54,
     "metadata": {},
     "output_type": "execute_result"
    },
    {
     "data": {
      "image/png": "[encoded data removed]",
      "text/plain": [
       "<Figure size 864x576 with 1 Axes>"
      ]
     },
     "metadata": {
      "needs_background": "light"
     },
     "output_type": "display_data"
    }
   ],
   "source": [
    "sm.ProbPlot(mem_req, dist=ss.halflogistic, loc=loc_halflogistic, scale=scale_halflogistic).qqplot()"
   ]
  },
  {
   "cell_type": "code",
   "execution_count": null,
   "metadata": {},
   "outputs": [],
   "source": []
  }
 ],
 "metadata": {
  "kernelspec": {
   "display_name": "Python 3",
   "language": "python",
   "name": "python3"
  },
  "language_info": {
   "codemirror_mode": {
    "name": "ipython",
    "version": 3
   },
   "file_extension": ".py",
   "mimetype": "text/x-python",
   "name": "python",
   "nbconvert_exporter": "python",
   "pygments_lexer": "ipython3",
   "version": "3.8.1"
  }
 },
 "nbformat": 4,
 "nbformat_minor": 4
}
