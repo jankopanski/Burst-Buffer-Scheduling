{
 "cells": [
  {
   "cell_type": "code",
   "execution_count": 23,
   "metadata": {},
   "outputs": [
    {
     "data": {
      "text/html": [
       "<style>.container { width:100% !important; }</style>"
      ],
      "text/plain": [
       "<IPython.core.display.HTML object>"
      ]
     },
     "metadata": {},
     "output_type": "display_data"
    }
   ],
   "source": [
    "from IPython.core.display import display, HTML\n",
    "display(HTML(\"<style>.container { width:100% !important; }</style>\"))"
   ]
  },
  {
   "cell_type": "code",
   "execution_count": 24,
   "metadata": {},
   "outputs": [],
   "source": [
    "%matplotlib inline\n",
    "import os\n",
    "import numpy as np\n",
    "import pandas as pd\n",
    "import matplotlib\n",
    "import matplotlib.pyplot as plt\n",
    "import seaborn as sns\n",
    "from evalys import visu\n",
    "from evalys.jobset import JobSet"
   ]
  },
  {
   "cell_type": "code",
   "execution_count": 25,
   "metadata": {},
   "outputs": [],
   "source": [
    "input_location = 'KTH-io-aware'\n",
    "files_prefix = ''\n",
    "# schedule_names = ['balance-08-ratio-1', 'balance-09-ratio-1', 'balance-10-ratio-1', 'balance-11-ratio-1', 'balance-12-ratio-1', 'balance-14-ratio-1', 'balance-16-ratio-1', 'balance-18-ratio-1']\n",
    "schedule_names = ['balance-08-largest-1', 'balance-09-largest-1', 'balance-10-largest-1', 'balance-11-largest-1', 'balance-12-largest-1', 'balance-13-largest-1', 'balance-14-largest-1']"
   ]
  },
  {
   "cell_type": "code",
   "execution_count": 26,
   "metadata": {},
   "outputs": [
    {
     "name": "stdout",
     "output_type": "stream",
     "text": [
      "['../output/KTH-io-aware/backfill-1_schedule.csv', '../output/KTH-io-aware/balance-08-largest-1_schedule.csv', '../output/KTH-io-aware/balance-08-ratio-1_schedule.csv', '../output/KTH-io-aware/balance-09-largest-1_schedule.csv', '../output/KTH-io-aware/balance-09-ratio-1_schedule.csv', '../output/KTH-io-aware/balance-10-largest-1_schedule.csv', '../output/KTH-io-aware/balance-10-ratio-1_schedule.csv', '../output/KTH-io-aware/balance-11-largest-1_schedule.csv', '../output/KTH-io-aware/balance-11-ratio-1_schedule.csv', '../output/KTH-io-aware/balance-12-largest-1_schedule.csv', '../output/KTH-io-aware/balance-12-ratio-1_schedule.csv', '../output/KTH-io-aware/balance-13-largest-1_schedule.csv', '../output/KTH-io-aware/balance-14-largest-1_schedule.csv', '../output/KTH-io-aware/balance-14-ratio-1_schedule.csv', '../output/KTH-io-aware/balance-16-ratio-1_schedule.csv', '../output/KTH-io-aware/balance-18-ratio-1_schedule.csv', '../output/KTH-io-aware/fcfs_schedule.csv', '../output/KTH-io-aware/filler_schedule.csv', '../output/KTH-io-aware/no-reserve-1_schedule.csv']\n",
      "['../output/KTH-io-aware/backfill-1_jobs.csv', '../output/KTH-io-aware/balance-08-largest-1_jobs.csv', '../output/KTH-io-aware/balance-08-ratio-1_jobs.csv', '../output/KTH-io-aware/balance-09-largest-1_jobs.csv', '../output/KTH-io-aware/balance-09-ratio-1_jobs.csv', '../output/KTH-io-aware/balance-10-largest-1_jobs.csv', '../output/KTH-io-aware/balance-10-ratio-1_jobs.csv', '../output/KTH-io-aware/balance-11-largest-1_jobs.csv', '../output/KTH-io-aware/balance-11-ratio-1_jobs.csv', '../output/KTH-io-aware/balance-12-largest-1_jobs.csv', '../output/KTH-io-aware/balance-12-ratio-1_jobs.csv', '../output/KTH-io-aware/balance-13-largest-1_jobs.csv', '../output/KTH-io-aware/balance-13-ratio-1_jobs.csv', '../output/KTH-io-aware/balance-14-largest-1_jobs.csv', '../output/KTH-io-aware/balance-14-ratio-1_jobs.csv', '../output/KTH-io-aware/balance-16-ratio-1_jobs.csv', '../output/KTH-io-aware/balance-18-ratio-1_jobs.csv', '../output/KTH-io-aware/fcfs_jobs.csv', '../output/KTH-io-aware/filler_jobs.csv', '../output/KTH-io-aware/no-reserve-1_jobs.csv']\n"
     ]
    }
   ],
   "source": [
    "schedule_files = []\n",
    "jobs_files = []\n",
    "for file in os.listdir('../output/' + input_location):\n",
    "    if file.endswith('_schedule.csv'):\n",
    "        schedule_files.append(file)\n",
    "    elif file.endswith('_jobs.csv'):\n",
    "        jobs_files.append(file)\n",
    "\n",
    "schedule_files = [os.path.join('../output', input_location, str(file)) for file in sorted(schedule_files)]\n",
    "jobs_files = [os.path.join('../output', input_location, str(file)) for file in sorted(jobs_files)]\n",
    "print(schedule_files)\n",
    "print(jobs_files)"
   ]
  },
  {
   "cell_type": "code",
   "execution_count": 27,
   "metadata": {},
   "outputs": [],
   "source": [
    "def schedule_params(schedule_name):\n",
    "    _, balance_factor, priority_policy, _ = schedule_name.split('-')\n",
    "    balance_factor = float(balance_factor) / 10\n",
    "    return priority_policy, balance_factor"
   ]
  },
  {
   "cell_type": "code",
   "execution_count": 28,
   "metadata": {},
   "outputs": [
    {
     "name": "stdout",
     "output_type": "stream",
     "text": [
      " balance-08-largest-1\n",
      " balance-09-largest-1\n",
      " balance-10-largest-1\n",
      " balance-11-largest-1\n",
      " balance-12-largest-1\n",
      " balance-13-largest-1\n",
      " balance-14-largest-1\n"
     ]
    }
   ],
   "source": [
    "metrics = pd.DataFrame()\n",
    "for file in schedule_files:\n",
    "    if files_prefix:\n",
    "        workload_name, schedule_name, _ = os.path.basename(file).split('_')\n",
    "    else:\n",
    "        workload_name = ''\n",
    "        schedule_name, _ = os.path.basename(file).split('_')\n",
    "    if workload_name != files_prefix:\n",
    "        continue\n",
    "    if schedule_name in schedule_names:\n",
    "        print(workload_name, schedule_name)\n",
    "        priority_policy, balance_factor = schedule_params(schedule_name)\n",
    "        df = pd.read_csv(file)\n",
    "        df['schedule'] = schedule_name\n",
    "        df['priority_policy'] = priority_policy\n",
    "        df['balance_factor'] = balance_factor\n",
    "        metrics = metrics.append(df)\n",
    "metrics.set_index('schedule', inplace=True)"
   ]
  },
  {
   "cell_type": "code",
   "execution_count": 29,
   "metadata": {},
   "outputs": [
    {
     "name": "stdout",
     "output_type": "stream",
     "text": [
      " balance-08-largest-1\n",
      " balance-09-largest-1\n",
      " balance-10-largest-1\n",
      " balance-11-largest-1\n",
      " balance-12-largest-1\n",
      " balance-13-largest-1\n",
      " balance-14-largest-1\n"
     ]
    }
   ],
   "source": [
    "jobsets = {}\n",
    "for file in jobs_files:\n",
    "    if files_prefix:\n",
    "        workload_name, schedule_name, _ = os.path.basename(file).split('_')\n",
    "    else:\n",
    "        workload_name = ''\n",
    "        schedule_name, _ = os.path.basename(file).split('_')\n",
    "    if workload_name != files_prefix:\n",
    "        continue\n",
    "    if schedule_name in schedule_names:\n",
    "        print(workload_name, schedule_name)\n",
    "        priority_policy, balance_factor = schedule_params(schedule_name)\n",
    "        jobsets[schedule_name] = JobSet.from_csv(file)\n",
    "        jobsets[schedule_name].df['priority_policy'] = priority_policy\n",
    "        jobsets[schedule_name].df['balance_factor'] = balance_factor"
   ]
  },
  {
   "cell_type": "code",
   "execution_count": 30,
   "metadata": {},
   "outputs": [],
   "source": [
    "def transform_jobset(schedule):\n",
    "    df = jobsets[schedule].df\n",
    "    static_jobs = df[df.final_state == 'REJECTED'].set_index('jobID')\n",
    "    dynamic_jobs = df[df.final_state != 'REJECTED']\n",
    "    times = dynamic_jobs.groupby('workload_name').agg({'success': 'min', 'final_state': 'max', 'starting_time': 'min', 'finish_time':'max'}).reset_index()\n",
    "    times['jobID'] = times.workload_name.apply(lambda s: s.split('%')[1])\n",
    "    times.set_index('jobID', inplace=True)\n",
    "    times.drop('workload_name', axis=1, inplace=True)\n",
    "    static_jobs = static_jobs.loc[times.index].drop(['success', 'final_state', 'starting_time', 'finish_time'], axis=1).join(times)\n",
    "    # If job timeout in the stage-in phase then allocated_resources and proc_alloc will be NaN\n",
    "    resources = dynamic_jobs[dynamic_jobs.profile == 'parallel_homogeneous_profile_0'].groupby('workload_name').agg({'allocated_resources': 'first','proc_alloc': 'first'}).reset_index()\n",
    "    resources['jobID'] = resources.workload_name.apply(lambda s: s.split('%')[1])\n",
    "    resources.set_index('jobID', inplace=True)\n",
    "    resources.drop('workload_name', axis=1, inplace=True)\n",
    "    static_jobs = static_jobs.drop(['allocated_resources', 'proc_alloc'], axis=1).join(resources)\n",
    "    static_jobs['execution_time'] = static_jobs.finish_time - static_jobs.starting_time\n",
    "    static_jobs['waiting_time'] = static_jobs.starting_time - static_jobs.submission_time\n",
    "    static_jobs['turnaround_time'] = static_jobs.finish_time - static_jobs.submission_time\n",
    "    static_jobs['stretch'] = static_jobs.turnaround_time / static_jobs.execution_time\n",
    "    static_jobs.reset_index(inplace=True)\n",
    "    return static_jobs"
   ]
  },
  {
   "cell_type": "code",
   "execution_count": 31,
   "metadata": {},
   "outputs": [
    {
     "name": "stdout",
     "output_type": "stream",
     "text": [
      "balance-08-largest-1\n",
      "balance-09-largest-1\n",
      "balance-10-largest-1\n",
      "balance-11-largest-1\n",
      "balance-12-largest-1\n",
      "balance-13-largest-1\n",
      "balance-14-largest-1\n"
     ]
    }
   ],
   "source": [
    "for schedule in schedule_names:\n",
    "    print(schedule)\n",
    "    jobsets[schedule].df = transform_jobset(schedule)"
   ]
  },
  {
   "cell_type": "code",
   "execution_count": 32,
   "metadata": {},
   "outputs": [],
   "source": [
    "def calculate_compute_utilisation(schedule):\n",
    "    compute_time = jobsets[schedule].df[['execution_time', 'requested_number_of_resources']].apply(lambda row: row.execution_time * row.requested_number_of_resources, axis=1).sum()\n",
    "    return compute_time / (metrics.loc[schedule].makespan * 96)\n",
    "\n",
    "def calculate_storage_utilisation(schedule):\n",
    "    storage_time = jobsets[schedule].df[['execution_time', 'metadata']].apply(lambda row: row.execution_time * row.metadata, axis=1).sum()\n",
    "    burst_buffer_capacity = 5 * 10**9\n",
    "    num_burst_buffers = 12\n",
    "    total_storage_time = metrics.loc[schedule].makespan * num_burst_buffers * burst_buffer_capacity\n",
    "    return storage_time / total_storage_time\n",
    "\n",
    "def create_metric_df(metric):\n",
    "    return pd.concat([jobsets[schedule].df[metric].rename(schedule) for schedule in schedule_names], axis=1)\n",
    "\n",
    "def create_balance_metric_df():\n",
    "    dfs = []\n",
    "    for schedule in schedule_names:\n",
    "        priority_policy, balance_factor = schedule_params(schedule)\n",
    "        dfs.append(jobsets[schedule].df[['waiting_time', 'turnaround_time', 'stretch']].assign(priority_policy=priority_policy).assign(balance_factor=balance_factor))\n",
    "    return pd.concat(dfs)"
   ]
  },
  {
   "cell_type": "code",
   "execution_count": 33,
   "metadata": {},
   "outputs": [],
   "source": [
    "metrics['compute_utilisation'] = pd.Series({schedule: calculate_compute_utilisation(schedule) for schedule in schedule_names})\n",
    "metrics['storage_utilisation'] = pd.Series({schedule: calculate_storage_utilisation(schedule) for schedule in schedule_names})"
   ]
  },
  {
   "cell_type": "code",
   "execution_count": 34,
   "metadata": {},
   "outputs": [
    {
     "data": {
      "text/html": [
       "<div>\n",
       "<style scoped>\n",
       "    .dataframe tbody tr th:only-of-type {\n",
       "        vertical-align: middle;\n",
       "    }\n",
       "\n",
       "    .dataframe tbody tr th {\n",
       "        vertical-align: top;\n",
       "    }\n",
       "\n",
       "    .dataframe thead th {\n",
       "        text-align: right;\n",
       "    }\n",
       "</style>\n",
       "<table border=\"1\" class=\"dataframe\">\n",
       "  <thead>\n",
       "    <tr style=\"text-align: right;\">\n",
       "      <th>schedule</th>\n",
       "      <th>balance-08-largest-1</th>\n",
       "      <th>balance-09-largest-1</th>\n",
       "      <th>balance-10-largest-1</th>\n",
       "      <th>balance-11-largest-1</th>\n",
       "      <th>balance-12-largest-1</th>\n",
       "      <th>balance-13-largest-1</th>\n",
       "      <th>balance-14-largest-1</th>\n",
       "    </tr>\n",
       "  </thead>\n",
       "  <tbody>\n",
       "    <tr>\n",
       "      <th>batsim_version</th>\n",
       "      <td>4.0.0</td>\n",
       "      <td>4.0.0</td>\n",
       "      <td>4.0.0</td>\n",
       "      <td>4.0.0</td>\n",
       "      <td>4.0.0</td>\n",
       "      <td>4.0.0</td>\n",
       "      <td>4.0.0</td>\n",
       "    </tr>\n",
       "    <tr>\n",
       "      <th>consumed_joules</th>\n",
       "      <td>0</td>\n",
       "      <td>0</td>\n",
       "      <td>0</td>\n",
       "      <td>0</td>\n",
       "      <td>0</td>\n",
       "      <td>0</td>\n",
       "      <td>0</td>\n",
       "    </tr>\n",
       "    <tr>\n",
       "      <th>makespan</th>\n",
       "      <td>2.8804e+07</td>\n",
       "      <td>2.87921e+07</td>\n",
       "      <td>2.88204e+07</td>\n",
       "      <td>2.88037e+07</td>\n",
       "      <td>2.87907e+07</td>\n",
       "      <td>2.88271e+07</td>\n",
       "      <td>2.88046e+07</td>\n",
       "    </tr>\n",
       "    <tr>\n",
       "      <th>max_slowdown</th>\n",
       "      <td>1.00024</td>\n",
       "      <td>1.00024</td>\n",
       "      <td>1.00024</td>\n",
       "      <td>1.00024</td>\n",
       "      <td>1.00024</td>\n",
       "      <td>1.00023</td>\n",
       "      <td>1.00023</td>\n",
       "    </tr>\n",
       "    <tr>\n",
       "      <th>max_turnaround_time</th>\n",
       "      <td>22655.2</td>\n",
       "      <td>22655.2</td>\n",
       "      <td>22655.2</td>\n",
       "      <td>22655.2</td>\n",
       "      <td>22655.2</td>\n",
       "      <td>22655.2</td>\n",
       "      <td>22655.2</td>\n",
       "    </tr>\n",
       "    <tr>\n",
       "      <th>max_waiting_time</th>\n",
       "      <td>1e-06</td>\n",
       "      <td>1e-06</td>\n",
       "      <td>1e-06</td>\n",
       "      <td>0.0001</td>\n",
       "      <td>0.0001</td>\n",
       "      <td>1e-06</td>\n",
       "      <td>1e-06</td>\n",
       "    </tr>\n",
       "    <tr>\n",
       "      <th>mean_slowdown</th>\n",
       "      <td>0.975918</td>\n",
       "      <td>0.975918</td>\n",
       "      <td>0.975918</td>\n",
       "      <td>0.975916</td>\n",
       "      <td>0.975919</td>\n",
       "      <td>0.975918</td>\n",
       "      <td>0.975918</td>\n",
       "    </tr>\n",
       "    <tr>\n",
       "      <th>mean_turnaround_time</th>\n",
       "      <td>223.726</td>\n",
       "      <td>223.727</td>\n",
       "      <td>223.735</td>\n",
       "      <td>223.774</td>\n",
       "      <td>223.728</td>\n",
       "      <td>223.764</td>\n",
       "      <td>223.747</td>\n",
       "    </tr>\n",
       "    <tr>\n",
       "      <th>mean_waiting_time</th>\n",
       "      <td>0</td>\n",
       "      <td>0</td>\n",
       "      <td>0</td>\n",
       "      <td>0</td>\n",
       "      <td>0</td>\n",
       "      <td>0</td>\n",
       "      <td>0</td>\n",
       "    </tr>\n",
       "    <tr>\n",
       "      <th>nb_computing_machines</th>\n",
       "      <td>109</td>\n",
       "      <td>109</td>\n",
       "      <td>109</td>\n",
       "      <td>109</td>\n",
       "      <td>109</td>\n",
       "      <td>109</td>\n",
       "      <td>109</td>\n",
       "    </tr>\n",
       "    <tr>\n",
       "      <th>nb_grouped_switches</th>\n",
       "      <td>0</td>\n",
       "      <td>0</td>\n",
       "      <td>0</td>\n",
       "      <td>0</td>\n",
       "      <td>0</td>\n",
       "      <td>0</td>\n",
       "      <td>0</td>\n",
       "    </tr>\n",
       "    <tr>\n",
       "      <th>nb_jobs</th>\n",
       "      <td>1182083</td>\n",
       "      <td>1182059</td>\n",
       "      <td>1182072</td>\n",
       "      <td>1181990</td>\n",
       "      <td>1182132</td>\n",
       "      <td>1182068</td>\n",
       "      <td>1182058</td>\n",
       "    </tr>\n",
       "    <tr>\n",
       "      <th>nb_jobs_finished</th>\n",
       "      <td>1153616</td>\n",
       "      <td>1153592</td>\n",
       "      <td>1153605</td>\n",
       "      <td>1153523</td>\n",
       "      <td>1153665</td>\n",
       "      <td>1153601</td>\n",
       "      <td>1153591</td>\n",
       "    </tr>\n",
       "    <tr>\n",
       "      <th>nb_jobs_killed</th>\n",
       "      <td>537</td>\n",
       "      <td>660</td>\n",
       "      <td>588</td>\n",
       "      <td>517</td>\n",
       "      <td>666</td>\n",
       "      <td>704</td>\n",
       "      <td>480</td>\n",
       "    </tr>\n",
       "    <tr>\n",
       "      <th>nb_jobs_rejected</th>\n",
       "      <td>28467</td>\n",
       "      <td>28467</td>\n",
       "      <td>28467</td>\n",
       "      <td>28467</td>\n",
       "      <td>28467</td>\n",
       "      <td>28467</td>\n",
       "      <td>28467</td>\n",
       "    </tr>\n",
       "    <tr>\n",
       "      <th>nb_jobs_success</th>\n",
       "      <td>1153079</td>\n",
       "      <td>1152932</td>\n",
       "      <td>1153017</td>\n",
       "      <td>1153006</td>\n",
       "      <td>1152999</td>\n",
       "      <td>1152897</td>\n",
       "      <td>1153111</td>\n",
       "    </tr>\n",
       "    <tr>\n",
       "      <th>nb_machine_switches</th>\n",
       "      <td>0</td>\n",
       "      <td>0</td>\n",
       "      <td>0</td>\n",
       "      <td>0</td>\n",
       "      <td>0</td>\n",
       "      <td>0</td>\n",
       "      <td>0</td>\n",
       "    </tr>\n",
       "    <tr>\n",
       "      <th>scheduling_time</th>\n",
       "      <td>8231.4</td>\n",
       "      <td>9274.79</td>\n",
       "      <td>9460.45</td>\n",
       "      <td>8293.39</td>\n",
       "      <td>8540.54</td>\n",
       "      <td>8486.23</td>\n",
       "      <td>8918.63</td>\n",
       "    </tr>\n",
       "    <tr>\n",
       "      <th>simulation_time</th>\n",
       "      <td>8672.64</td>\n",
       "      <td>9930.92</td>\n",
       "      <td>10118.5</td>\n",
       "      <td>8779.04</td>\n",
       "      <td>8988.21</td>\n",
       "      <td>8936.72</td>\n",
       "      <td>9547.33</td>\n",
       "    </tr>\n",
       "    <tr>\n",
       "      <th>success_rate</th>\n",
       "      <td>0.975464</td>\n",
       "      <td>0.975359</td>\n",
       "      <td>0.97542</td>\n",
       "      <td>0.975479</td>\n",
       "      <td>0.975356</td>\n",
       "      <td>0.975322</td>\n",
       "      <td>0.975511</td>\n",
       "    </tr>\n",
       "    <tr>\n",
       "      <th>time_computing</th>\n",
       "      <td>1.98497e+09</td>\n",
       "      <td>1.985e+09</td>\n",
       "      <td>1.98501e+09</td>\n",
       "      <td>1.98504e+09</td>\n",
       "      <td>1.98503e+09</td>\n",
       "      <td>1.98504e+09</td>\n",
       "      <td>1.98498e+09</td>\n",
       "    </tr>\n",
       "    <tr>\n",
       "      <th>time_idle</th>\n",
       "      <td>1.15286e+09</td>\n",
       "      <td>1.15195e+09</td>\n",
       "      <td>1.15354e+09</td>\n",
       "      <td>1.1529e+09</td>\n",
       "      <td>1.15188e+09</td>\n",
       "      <td>1.155e+09</td>\n",
       "      <td>1.15261e+09</td>\n",
       "    </tr>\n",
       "    <tr>\n",
       "      <th>time_sleeping</th>\n",
       "      <td>0</td>\n",
       "      <td>0</td>\n",
       "      <td>0</td>\n",
       "      <td>0</td>\n",
       "      <td>0</td>\n",
       "      <td>0</td>\n",
       "      <td>0</td>\n",
       "    </tr>\n",
       "    <tr>\n",
       "      <th>time_switching_off</th>\n",
       "      <td>0</td>\n",
       "      <td>0</td>\n",
       "      <td>0</td>\n",
       "      <td>0</td>\n",
       "      <td>0</td>\n",
       "      <td>0</td>\n",
       "      <td>0</td>\n",
       "    </tr>\n",
       "    <tr>\n",
       "      <th>time_switching_on</th>\n",
       "      <td>0</td>\n",
       "      <td>0</td>\n",
       "      <td>0</td>\n",
       "      <td>0</td>\n",
       "      <td>0</td>\n",
       "      <td>0</td>\n",
       "      <td>0</td>\n",
       "    </tr>\n",
       "    <tr>\n",
       "      <th>time_unavailable</th>\n",
       "      <td>0</td>\n",
       "      <td>0</td>\n",
       "      <td>0</td>\n",
       "      <td>0</td>\n",
       "      <td>0</td>\n",
       "      <td>0</td>\n",
       "      <td>0</td>\n",
       "    </tr>\n",
       "    <tr>\n",
       "      <th>priority_policy</th>\n",
       "      <td>largest</td>\n",
       "      <td>largest</td>\n",
       "      <td>largest</td>\n",
       "      <td>largest</td>\n",
       "      <td>largest</td>\n",
       "      <td>largest</td>\n",
       "      <td>largest</td>\n",
       "    </tr>\n",
       "    <tr>\n",
       "      <th>balance_factor</th>\n",
       "      <td>0.8</td>\n",
       "      <td>0.9</td>\n",
       "      <td>1</td>\n",
       "      <td>1.1</td>\n",
       "      <td>1.2</td>\n",
       "      <td>1.3</td>\n",
       "      <td>1.4</td>\n",
       "    </tr>\n",
       "    <tr>\n",
       "      <th>compute_utilisation</th>\n",
       "      <td>0.720099</td>\n",
       "      <td>0.720404</td>\n",
       "      <td>0.719709</td>\n",
       "      <td>0.720147</td>\n",
       "      <td>0.720457</td>\n",
       "      <td>0.719566</td>\n",
       "      <td>0.720104</td>\n",
       "    </tr>\n",
       "    <tr>\n",
       "      <th>storage_utilisation</th>\n",
       "      <td>0.663331</td>\n",
       "      <td>0.663562</td>\n",
       "      <td>0.662909</td>\n",
       "      <td>0.663276</td>\n",
       "      <td>0.663567</td>\n",
       "      <td>0.662751</td>\n",
       "      <td>0.663243</td>\n",
       "    </tr>\n",
       "  </tbody>\n",
       "</table>\n",
       "</div>"
      ],
      "text/plain": [
       "schedule              balance-08-largest-1 balance-09-largest-1  \\\n",
       "batsim_version                       4.0.0                4.0.0   \n",
       "consumed_joules                          0                    0   \n",
       "makespan                        2.8804e+07          2.87921e+07   \n",
       "max_slowdown                       1.00024              1.00024   \n",
       "max_turnaround_time                22655.2              22655.2   \n",
       "max_waiting_time                     1e-06                1e-06   \n",
       "mean_slowdown                     0.975918             0.975918   \n",
       "mean_turnaround_time               223.726              223.727   \n",
       "mean_waiting_time                        0                    0   \n",
       "nb_computing_machines                  109                  109   \n",
       "nb_grouped_switches                      0                    0   \n",
       "nb_jobs                            1182083              1182059   \n",
       "nb_jobs_finished                   1153616              1153592   \n",
       "nb_jobs_killed                         537                  660   \n",
       "nb_jobs_rejected                     28467                28467   \n",
       "nb_jobs_success                    1153079              1152932   \n",
       "nb_machine_switches                      0                    0   \n",
       "scheduling_time                     8231.4              9274.79   \n",
       "simulation_time                    8672.64              9930.92   \n",
       "success_rate                      0.975464             0.975359   \n",
       "time_computing                 1.98497e+09            1.985e+09   \n",
       "time_idle                      1.15286e+09          1.15195e+09   \n",
       "time_sleeping                            0                    0   \n",
       "time_switching_off                       0                    0   \n",
       "time_switching_on                        0                    0   \n",
       "time_unavailable                         0                    0   \n",
       "priority_policy                    largest              largest   \n",
       "balance_factor                         0.8                  0.9   \n",
       "compute_utilisation               0.720099             0.720404   \n",
       "storage_utilisation               0.663331             0.663562   \n",
       "\n",
       "schedule              balance-10-largest-1 balance-11-largest-1  \\\n",
       "batsim_version                       4.0.0                4.0.0   \n",
       "consumed_joules                          0                    0   \n",
       "makespan                       2.88204e+07          2.88037e+07   \n",
       "max_slowdown                       1.00024              1.00024   \n",
       "max_turnaround_time                22655.2              22655.2   \n",
       "max_waiting_time                     1e-06               0.0001   \n",
       "mean_slowdown                     0.975918             0.975916   \n",
       "mean_turnaround_time               223.735              223.774   \n",
       "mean_waiting_time                        0                    0   \n",
       "nb_computing_machines                  109                  109   \n",
       "nb_grouped_switches                      0                    0   \n",
       "nb_jobs                            1182072              1181990   \n",
       "nb_jobs_finished                   1153605              1153523   \n",
       "nb_jobs_killed                         588                  517   \n",
       "nb_jobs_rejected                     28467                28467   \n",
       "nb_jobs_success                    1153017              1153006   \n",
       "nb_machine_switches                      0                    0   \n",
       "scheduling_time                    9460.45              8293.39   \n",
       "simulation_time                    10118.5              8779.04   \n",
       "success_rate                       0.97542             0.975479   \n",
       "time_computing                 1.98501e+09          1.98504e+09   \n",
       "time_idle                      1.15354e+09           1.1529e+09   \n",
       "time_sleeping                            0                    0   \n",
       "time_switching_off                       0                    0   \n",
       "time_switching_on                        0                    0   \n",
       "time_unavailable                         0                    0   \n",
       "priority_policy                    largest              largest   \n",
       "balance_factor                           1                  1.1   \n",
       "compute_utilisation               0.719709             0.720147   \n",
       "storage_utilisation               0.662909             0.663276   \n",
       "\n",
       "schedule              balance-12-largest-1 balance-13-largest-1  \\\n",
       "batsim_version                       4.0.0                4.0.0   \n",
       "consumed_joules                          0                    0   \n",
       "makespan                       2.87907e+07          2.88271e+07   \n",
       "max_slowdown                       1.00024              1.00023   \n",
       "max_turnaround_time                22655.2              22655.2   \n",
       "max_waiting_time                    0.0001                1e-06   \n",
       "mean_slowdown                     0.975919             0.975918   \n",
       "mean_turnaround_time               223.728              223.764   \n",
       "mean_waiting_time                        0                    0   \n",
       "nb_computing_machines                  109                  109   \n",
       "nb_grouped_switches                      0                    0   \n",
       "nb_jobs                            1182132              1182068   \n",
       "nb_jobs_finished                   1153665              1153601   \n",
       "nb_jobs_killed                         666                  704   \n",
       "nb_jobs_rejected                     28467                28467   \n",
       "nb_jobs_success                    1152999              1152897   \n",
       "nb_machine_switches                      0                    0   \n",
       "scheduling_time                    8540.54              8486.23   \n",
       "simulation_time                    8988.21              8936.72   \n",
       "success_rate                      0.975356             0.975322   \n",
       "time_computing                 1.98503e+09          1.98504e+09   \n",
       "time_idle                      1.15188e+09            1.155e+09   \n",
       "time_sleeping                            0                    0   \n",
       "time_switching_off                       0                    0   \n",
       "time_switching_on                        0                    0   \n",
       "time_unavailable                         0                    0   \n",
       "priority_policy                    largest              largest   \n",
       "balance_factor                         1.2                  1.3   \n",
       "compute_utilisation               0.720457             0.719566   \n",
       "storage_utilisation               0.663567             0.662751   \n",
       "\n",
       "schedule              balance-14-largest-1  \n",
       "batsim_version                       4.0.0  \n",
       "consumed_joules                          0  \n",
       "makespan                       2.88046e+07  \n",
       "max_slowdown                       1.00023  \n",
       "max_turnaround_time                22655.2  \n",
       "max_waiting_time                     1e-06  \n",
       "mean_slowdown                     0.975918  \n",
       "mean_turnaround_time               223.747  \n",
       "mean_waiting_time                        0  \n",
       "nb_computing_machines                  109  \n",
       "nb_grouped_switches                      0  \n",
       "nb_jobs                            1182058  \n",
       "nb_jobs_finished                   1153591  \n",
       "nb_jobs_killed                         480  \n",
       "nb_jobs_rejected                     28467  \n",
       "nb_jobs_success                    1153111  \n",
       "nb_machine_switches                      0  \n",
       "scheduling_time                    8918.63  \n",
       "simulation_time                    9547.33  \n",
       "success_rate                      0.975511  \n",
       "time_computing                 1.98498e+09  \n",
       "time_idle                      1.15261e+09  \n",
       "time_sleeping                            0  \n",
       "time_switching_off                       0  \n",
       "time_switching_on                        0  \n",
       "time_unavailable                         0  \n",
       "priority_policy                    largest  \n",
       "balance_factor                         1.4  \n",
       "compute_utilisation               0.720104  \n",
       "storage_utilisation               0.663243  "
      ]
     },
     "execution_count": 34,
     "metadata": {},
     "output_type": "execute_result"
    }
   ],
   "source": [
    "metrics.T"
   ]
  },
  {
   "cell_type": "code",
   "execution_count": 35,
   "metadata": {},
   "outputs": [
    {
     "data": {
      "text/plain": [
       "<AxesSubplot:xlabel='balance_factor'>"
      ]
     },
     "execution_count": 35,
     "metadata": {},
     "output_type": "execute_result"
    },
    {
     "data": {
      "image/png": "[encoded data removed]",
      "text/plain": [
       "<Figure size 432x288 with 1 Axes>"
      ]
     },
     "metadata": {
      "needs_background": "light"
     },
     "output_type": "display_data"
    }
   ],
   "source": [
    "metrics.plot(x='balance_factor', y='makespan', marker='o')"
   ]
  },
  {
   "cell_type": "code",
   "execution_count": 36,
   "metadata": {},
   "outputs": [
    {
     "data": {
      "text/plain": [
       "<AxesSubplot:xlabel='balance_factor'>"
      ]
     },
     "execution_count": 36,
     "metadata": {},
     "output_type": "execute_result"
    },
    {
     "data": {
      "image/png": "[encoded data removed]",
      "text/plain": [
       "<Figure size 432x288 with 1 Axes>"
      ]
     },
     "metadata": {
      "needs_background": "light"
     },
     "output_type": "display_data"
    }
   ],
   "source": [
    "metrics.plot(x='balance_factor', y=['compute_utilisation', 'storage_utilisation'], marker='o')"
   ]
  },
  {
   "cell_type": "code",
   "execution_count": 37,
   "metadata": {},
   "outputs": [
    {
     "data": {
      "text/plain": [
       "<AxesSubplot:xlabel='balance_factor'>"
      ]
     },
     "execution_count": 37,
     "metadata": {},
     "output_type": "execute_result"
    },
    {
     "data": {
      "image/png": "[encoded data removed]",
      "text/plain": [
       "<Figure size 432x288 with 1 Axes>"
      ]
     },
     "metadata": {
      "needs_background": "light"
     },
     "output_type": "display_data"
    }
   ],
   "source": [
    "metrics.plot(x='balance_factor', y='compute_utilisation', marker='o')"
   ]
  },
  {
   "cell_type": "code",
   "execution_count": 38,
   "metadata": {},
   "outputs": [
    {
     "data": {
      "text/plain": [
       "<AxesSubplot:xlabel='balance_factor'>"
      ]
     },
     "execution_count": 38,
     "metadata": {},
     "output_type": "execute_result"
    },
    {
     "data": {
      "image/png": "[encoded data removed]",
      "text/plain": [
       "<Figure size 432x288 with 1 Axes>"
      ]
     },
     "metadata": {
      "needs_background": "light"
     },
     "output_type": "display_data"
    }
   ],
   "source": [
    "metrics.plot(x='balance_factor', y='storage_utilisation', marker='o')"
   ]
  },
  {
   "cell_type": "code",
   "execution_count": 39,
   "metadata": {},
   "outputs": [
    {
     "data": {
      "text/plain": [
       "<AxesSubplot:xlabel='balance_factor', ylabel='compute_utilisation'>"
      ]
     },
     "execution_count": 39,
     "metadata": {},
     "output_type": "execute_result"
    },
    {
     "data": {
      "image/png": "[encoded data removed]",
      "text/plain": [
       "<Figure size 432x288 with 1 Axes>"
      ]
     },
     "metadata": {
      "needs_background": "light"
     },
     "output_type": "display_data"
    }
   ],
   "source": [
    "sns.lineplot(data=metrics[['balance_factor', 'compute_utilisation']], x='balance_factor', y='compute_utilisation', marker='o')\n",
    "sns.lineplot(data=metrics[['balance_factor', 'storage_utilisation']], x='balance_factor', y='storage_utilisation', marker='o')"
   ]
  },
  {
   "cell_type": "code",
   "execution_count": 40,
   "metadata": {},
   "outputs": [
    {
     "data": {
      "text/html": [
       "<div>\n",
       "<style scoped>\n",
       "    .dataframe tbody tr th:only-of-type {\n",
       "        vertical-align: middle;\n",
       "    }\n",
       "\n",
       "    .dataframe tbody tr th {\n",
       "        vertical-align: top;\n",
       "    }\n",
       "\n",
       "    .dataframe thead th {\n",
       "        text-align: right;\n",
       "    }\n",
       "</style>\n",
       "<table border=\"1\" class=\"dataframe\">\n",
       "  <thead>\n",
       "    <tr style=\"text-align: right;\">\n",
       "      <th></th>\n",
       "      <th>balance_factor</th>\n",
       "      <th>compute_utilisation</th>\n",
       "      <th>storage_utilisation</th>\n",
       "    </tr>\n",
       "    <tr>\n",
       "      <th>schedule</th>\n",
       "      <th></th>\n",
       "      <th></th>\n",
       "      <th></th>\n",
       "    </tr>\n",
       "  </thead>\n",
       "  <tbody>\n",
       "    <tr>\n",
       "      <th>balance-08-largest-1</th>\n",
       "      <td>0.8</td>\n",
       "      <td>0.720099</td>\n",
       "      <td>0.663331</td>\n",
       "    </tr>\n",
       "    <tr>\n",
       "      <th>balance-09-largest-1</th>\n",
       "      <td>0.9</td>\n",
       "      <td>0.720404</td>\n",
       "      <td>0.663562</td>\n",
       "    </tr>\n",
       "    <tr>\n",
       "      <th>balance-10-largest-1</th>\n",
       "      <td>1.0</td>\n",
       "      <td>0.719709</td>\n",
       "      <td>0.662909</td>\n",
       "    </tr>\n",
       "    <tr>\n",
       "      <th>balance-11-largest-1</th>\n",
       "      <td>1.1</td>\n",
       "      <td>0.720147</td>\n",
       "      <td>0.663276</td>\n",
       "    </tr>\n",
       "    <tr>\n",
       "      <th>balance-12-largest-1</th>\n",
       "      <td>1.2</td>\n",
       "      <td>0.720457</td>\n",
       "      <td>0.663567</td>\n",
       "    </tr>\n",
       "    <tr>\n",
       "      <th>balance-13-largest-1</th>\n",
       "      <td>1.3</td>\n",
       "      <td>0.719566</td>\n",
       "      <td>0.662751</td>\n",
       "    </tr>\n",
       "    <tr>\n",
       "      <th>balance-14-largest-1</th>\n",
       "      <td>1.4</td>\n",
       "      <td>0.720104</td>\n",
       "      <td>0.663243</td>\n",
       "    </tr>\n",
       "  </tbody>\n",
       "</table>\n",
       "</div>"
      ],
      "text/plain": [
       "                      balance_factor  compute_utilisation  storage_utilisation\n",
       "schedule                                                                      \n",
       "balance-08-largest-1             0.8             0.720099             0.663331\n",
       "balance-09-largest-1             0.9             0.720404             0.663562\n",
       "balance-10-largest-1             1.0             0.719709             0.662909\n",
       "balance-11-largest-1             1.1             0.720147             0.663276\n",
       "balance-12-largest-1             1.2             0.720457             0.663567\n",
       "balance-13-largest-1             1.3             0.719566             0.662751\n",
       "balance-14-largest-1             1.4             0.720104             0.663243"
      ]
     },
     "execution_count": 40,
     "metadata": {},
     "output_type": "execute_result"
    }
   ],
   "source": [
    "metrics[['balance_factor', 'compute_utilisation', 'storage_utilisation']]"
   ]
  },
  {
   "cell_type": "code",
   "execution_count": 41,
   "metadata": {},
   "outputs": [],
   "source": [
    "df = create_balance_metric_df()"
   ]
  },
  {
   "cell_type": "code",
   "execution_count": 42,
   "metadata": {},
   "outputs": [
    {
     "data": {
      "text/html": [
       "<div>\n",
       "<style scoped>\n",
       "    .dataframe tbody tr th:only-of-type {\n",
       "        vertical-align: middle;\n",
       "    }\n",
       "\n",
       "    .dataframe tbody tr th {\n",
       "        vertical-align: top;\n",
       "    }\n",
       "\n",
       "    .dataframe thead tr th {\n",
       "        text-align: left;\n",
       "    }\n",
       "\n",
       "    .dataframe thead tr:last-of-type th {\n",
       "        text-align: right;\n",
       "    }\n",
       "</style>\n",
       "<table border=\"1\" class=\"dataframe\">\n",
       "  <thead>\n",
       "    <tr>\n",
       "      <th></th>\n",
       "      <th colspan=\"8\" halign=\"left\">waiting_time</th>\n",
       "      <th colspan=\"8\" halign=\"left\">stretch</th>\n",
       "    </tr>\n",
       "    <tr>\n",
       "      <th></th>\n",
       "      <th>count</th>\n",
       "      <th>mean</th>\n",
       "      <th>std</th>\n",
       "      <th>min</th>\n",
       "      <th>25%</th>\n",
       "      <th>50%</th>\n",
       "      <th>75%</th>\n",
       "      <th>max</th>\n",
       "      <th>count</th>\n",
       "      <th>mean</th>\n",
       "      <th>std</th>\n",
       "      <th>min</th>\n",
       "      <th>25%</th>\n",
       "      <th>50%</th>\n",
       "      <th>75%</th>\n",
       "      <th>max</th>\n",
       "    </tr>\n",
       "    <tr>\n",
       "      <th>balance_factor</th>\n",
       "      <th></th>\n",
       "      <th></th>\n",
       "      <th></th>\n",
       "      <th></th>\n",
       "      <th></th>\n",
       "      <th></th>\n",
       "      <th></th>\n",
       "      <th></th>\n",
       "      <th></th>\n",
       "      <th></th>\n",
       "      <th></th>\n",
       "      <th></th>\n",
       "      <th></th>\n",
       "      <th></th>\n",
       "      <th></th>\n",
       "      <th></th>\n",
       "    </tr>\n",
       "  </thead>\n",
       "  <tbody>\n",
       "    <tr>\n",
       "      <th>0.8</th>\n",
       "      <td>28453.0</td>\n",
       "      <td>14424.011168</td>\n",
       "      <td>44452.089779</td>\n",
       "      <td>0.0</td>\n",
       "      <td>0.0</td>\n",
       "      <td>0.169746</td>\n",
       "      <td>7459.324741</td>\n",
       "      <td>683498.469694</td>\n",
       "      <td>28453.0</td>\n",
       "      <td>155.641284</td>\n",
       "      <td>1200.739359</td>\n",
       "      <td>1.0</td>\n",
       "      <td>1.0</td>\n",
       "      <td>1.000295</td>\n",
       "      <td>5.775488</td>\n",
       "      <td>104436.184122</td>\n",
       "    </tr>\n",
       "    <tr>\n",
       "      <th>0.9</th>\n",
       "      <td>28453.0</td>\n",
       "      <td>14122.990523</td>\n",
       "      <td>40763.924631</td>\n",
       "      <td>0.0</td>\n",
       "      <td>0.0</td>\n",
       "      <td>0.000000</td>\n",
       "      <td>7699.781083</td>\n",
       "      <td>587128.971333</td>\n",
       "      <td>28453.0</td>\n",
       "      <td>189.385800</td>\n",
       "      <td>1685.877827</td>\n",
       "      <td>1.0</td>\n",
       "      <td>1.0</td>\n",
       "      <td>1.000000</td>\n",
       "      <td>5.129212</td>\n",
       "      <td>130891.808851</td>\n",
       "    </tr>\n",
       "    <tr>\n",
       "      <th>1.0</th>\n",
       "      <td>28453.0</td>\n",
       "      <td>14554.519621</td>\n",
       "      <td>42866.157714</td>\n",
       "      <td>0.0</td>\n",
       "      <td>0.0</td>\n",
       "      <td>13.821833</td>\n",
       "      <td>7717.325888</td>\n",
       "      <td>567128.171541</td>\n",
       "      <td>28453.0</td>\n",
       "      <td>187.158905</td>\n",
       "      <td>1785.998219</td>\n",
       "      <td>1.0</td>\n",
       "      <td>1.0</td>\n",
       "      <td>1.008795</td>\n",
       "      <td>6.635415</td>\n",
       "      <td>143338.212148</td>\n",
       "    </tr>\n",
       "    <tr>\n",
       "      <th>1.1</th>\n",
       "      <td>28453.0</td>\n",
       "      <td>14028.049805</td>\n",
       "      <td>42085.263298</td>\n",
       "      <td>0.0</td>\n",
       "      <td>0.0</td>\n",
       "      <td>5.847458</td>\n",
       "      <td>7940.000000</td>\n",
       "      <td>678636.304014</td>\n",
       "      <td>28453.0</td>\n",
       "      <td>178.400861</td>\n",
       "      <td>1385.622668</td>\n",
       "      <td>1.0</td>\n",
       "      <td>1.0</td>\n",
       "      <td>1.005077</td>\n",
       "      <td>5.951358</td>\n",
       "      <td>126388.257814</td>\n",
       "    </tr>\n",
       "    <tr>\n",
       "      <th>1.2</th>\n",
       "      <td>28453.0</td>\n",
       "      <td>14624.677337</td>\n",
       "      <td>42373.829681</td>\n",
       "      <td>0.0</td>\n",
       "      <td>0.0</td>\n",
       "      <td>50.834948</td>\n",
       "      <td>8132.360182</td>\n",
       "      <td>595307.786804</td>\n",
       "      <td>28453.0</td>\n",
       "      <td>217.743814</td>\n",
       "      <td>1699.069270</td>\n",
       "      <td>1.0</td>\n",
       "      <td>1.0</td>\n",
       "      <td>1.024091</td>\n",
       "      <td>7.343495</td>\n",
       "      <td>121445.551673</td>\n",
       "    </tr>\n",
       "    <tr>\n",
       "      <th>1.3</th>\n",
       "      <td>28453.0</td>\n",
       "      <td>13687.871928</td>\n",
       "      <td>39548.352014</td>\n",
       "      <td>0.0</td>\n",
       "      <td>0.0</td>\n",
       "      <td>10.695741</td>\n",
       "      <td>7869.248020</td>\n",
       "      <td>665114.154877</td>\n",
       "      <td>28453.0</td>\n",
       "      <td>191.200542</td>\n",
       "      <td>1534.673255</td>\n",
       "      <td>1.0</td>\n",
       "      <td>1.0</td>\n",
       "      <td>1.007710</td>\n",
       "      <td>5.740966</td>\n",
       "      <td>83550.879862</td>\n",
       "    </tr>\n",
       "    <tr>\n",
       "      <th>1.4</th>\n",
       "      <td>28453.0</td>\n",
       "      <td>14651.478358</td>\n",
       "      <td>44375.301803</td>\n",
       "      <td>0.0</td>\n",
       "      <td>0.0</td>\n",
       "      <td>6.144295</td>\n",
       "      <td>8161.547032</td>\n",
       "      <td>734689.567015</td>\n",
       "      <td>28453.0</td>\n",
       "      <td>202.051985</td>\n",
       "      <td>1691.757956</td>\n",
       "      <td>1.0</td>\n",
       "      <td>1.0</td>\n",
       "      <td>1.004467</td>\n",
       "      <td>5.897934</td>\n",
       "      <td>105771.523655</td>\n",
       "    </tr>\n",
       "  </tbody>\n",
       "</table>\n",
       "</div>"
      ],
      "text/plain": [
       "               waiting_time                                                   \\\n",
       "                      count          mean           std  min  25%        50%   \n",
       "balance_factor                                                                 \n",
       "0.8                 28453.0  14424.011168  44452.089779  0.0  0.0   0.169746   \n",
       "0.9                 28453.0  14122.990523  40763.924631  0.0  0.0   0.000000   \n",
       "1.0                 28453.0  14554.519621  42866.157714  0.0  0.0  13.821833   \n",
       "1.1                 28453.0  14028.049805  42085.263298  0.0  0.0   5.847458   \n",
       "1.2                 28453.0  14624.677337  42373.829681  0.0  0.0  50.834948   \n",
       "1.3                 28453.0  13687.871928  39548.352014  0.0  0.0  10.695741   \n",
       "1.4                 28453.0  14651.478358  44375.301803  0.0  0.0   6.144295   \n",
       "\n",
       "                                            stretch                           \\\n",
       "                        75%            max    count        mean          std   \n",
       "balance_factor                                                                 \n",
       "0.8             7459.324741  683498.469694  28453.0  155.641284  1200.739359   \n",
       "0.9             7699.781083  587128.971333  28453.0  189.385800  1685.877827   \n",
       "1.0             7717.325888  567128.171541  28453.0  187.158905  1785.998219   \n",
       "1.1             7940.000000  678636.304014  28453.0  178.400861  1385.622668   \n",
       "1.2             8132.360182  595307.786804  28453.0  217.743814  1699.069270   \n",
       "1.3             7869.248020  665114.154877  28453.0  191.200542  1534.673255   \n",
       "1.4             8161.547032  734689.567015  28453.0  202.051985  1691.757956   \n",
       "\n",
       "                                                             \n",
       "                min  25%       50%       75%            max  \n",
       "balance_factor                                               \n",
       "0.8             1.0  1.0  1.000295  5.775488  104436.184122  \n",
       "0.9             1.0  1.0  1.000000  5.129212  130891.808851  \n",
       "1.0             1.0  1.0  1.008795  6.635415  143338.212148  \n",
       "1.1             1.0  1.0  1.005077  5.951358  126388.257814  \n",
       "1.2             1.0  1.0  1.024091  7.343495  121445.551673  \n",
       "1.3             1.0  1.0  1.007710  5.740966   83550.879862  \n",
       "1.4             1.0  1.0  1.004467  5.897934  105771.523655  "
      ]
     },
     "execution_count": 42,
     "metadata": {},
     "output_type": "execute_result"
    }
   ],
   "source": [
    "df[['balance_factor', 'waiting_time', 'stretch']].groupby('balance_factor').describe()"
   ]
  },
  {
   "cell_type": "code",
   "execution_count": 43,
   "metadata": {},
   "outputs": [
    {
     "data": {
      "text/plain": [
       "<AxesSubplot:xlabel='balance_factor', ylabel='waiting_time'>"
      ]
     },
     "execution_count": 43,
     "metadata": {},
     "output_type": "execute_result"
    },
    {
     "data": {
      "image/png": "[encoded data removed]",
      "text/plain": [
       "<Figure size 432x288 with 1 Axes>"
      ]
     },
     "metadata": {
      "needs_background": "light"
     },
     "output_type": "display_data"
    }
   ],
   "source": [
    "sns.lineplot(data=df, x='balance_factor', y='waiting_time', estimator=np.mean, marker='o')"
   ]
  },
  {
   "cell_type": "code",
   "execution_count": 44,
   "metadata": {},
   "outputs": [
    {
     "data": {
      "text/plain": [
       "<AxesSubplot:xlabel='balance_factor', ylabel='stretch'>"
      ]
     },
     "execution_count": 44,
     "metadata": {},
     "output_type": "execute_result"
    },
    {
     "data": {
      "image/png": "[encoded data removed]",
      "text/plain": [
       "<Figure size 432x288 with 1 Axes>"
      ]
     },
     "metadata": {
      "needs_background": "light"
     },
     "output_type": "display_data"
    }
   ],
   "source": [
    "sns.lineplot(data=df, x='balance_factor', y='stretch', estimator=np.mean, marker='o')"
   ]
  },
  {
   "cell_type": "code",
   "execution_count": null,
   "metadata": {},
   "outputs": [],
   "source": []
  }
 ],
 "metadata": {
  "kernelspec": {
   "display_name": "Python 3",
   "language": "python",
   "name": "python3"
  },
  "language_info": {
   "codemirror_mode": {
    "name": "ipython",
    "version": 3
   },
   "file_extension": ".py",
   "mimetype": "text/x-python",
   "name": "python",
   "nbconvert_exporter": "python",
   "pygments_lexer": "ipython3",
   "version": "3.8.5"
  }
 },
 "nbformat": 4,
 "nbformat_minor": 4
}
