{
 "cells": [
  {
   "cell_type": "code",
   "execution_count": 60,
   "metadata": {},
   "outputs": [],
   "source": [
    "import os\n",
    "import numpy as np\n",
    "import pandas as pd\n",
    "import matplotlib\n",
    "import matplotlib.pyplot as plt\n",
    "import seaborn as sns\n",
    "import evalys\n",
    "from evalys.jobset import JobSet"
   ]
  },
  {
   "cell_type": "code",
   "execution_count": 61,
   "metadata": {},
   "outputs": [],
   "source": [
    "input_location = 'KTH-split/alloc-only'\n",
    "num_parts = 16\n",
    "schedule_names = ['backfill-1', 'backfill-sjf-1', 'maxutil-opt-10-1']\n",
    "# schedule_names = ['backfill-1', 'backfill-sjf-1', 'maxutil-opt-10-1', 'window-10-10-1', 'plan-opt-square-0']"
   ]
  },
  {
   "cell_type": "code",
   "execution_count": 62,
   "metadata": {},
   "outputs": [],
   "source": [
    "schedule_files = []\n",
    "jobs_files = []\n",
    "for file in os.listdir('../output/' + input_location):\n",
    "    if file.endswith('_schedule.csv'):\n",
    "        schedule_files.append(file)\n",
    "    elif file.endswith('_jobs.csv'):\n",
    "        jobs_files.append(file)\n",
    "\n",
    "schedule_files = [os.path.join('../output', input_location, str(file)) for file in sorted(schedule_files)]\n",
    "jobs_files = [os.path.join('../output', input_location, str(file)) for file in sorted(jobs_files)]"
   ]
  },
  {
   "cell_type": "code",
   "execution_count": 63,
   "metadata": {},
   "outputs": [],
   "source": [
    "jobsets = {schedule: [None] * num_parts for schedule in schedule_names}\n",
    "for file in jobs_files:\n",
    "    schedule_name, part, _ = os.path.basename(file).split('_')\n",
    "    part_index = int(part.split('-')[1])\n",
    "    if schedule_name in schedule_names:\n",
    "        jobsets[schedule_name][part_index] = JobSet.from_csv(file)"
   ]
  },
  {
   "cell_type": "code",
   "execution_count": 8,
   "metadata": {},
   "outputs": [],
   "source": [
    "def transform_jobset_df(df):\n",
    "    static_jobs = df[df.final_state == 'REJECTED'].set_index('jobID')\n",
    "    dynamic_jobs = df[df.final_state != 'REJECTED']\n",
    "    times = dynamic_jobs.groupby('workload_name').agg({'success': 'min', 'final_state': 'max', 'starting_time': 'min', 'finish_time':'max'}).reset_index()\n",
    "    times['jobID'] = times.workload_name.apply(lambda s: s.split('%')[1])\n",
    "    times.set_index('jobID', inplace=True)\n",
    "    times.drop('workload_name', axis=1, inplace=True)\n",
    "    static_jobs = static_jobs.loc[times.index].drop(['success', 'final_state', 'starting_time', 'finish_time'], axis=1).join(times)\n",
    "    # If job timeout in the stage-in phase then allocated_resources and proc_alloc will be NaN\n",
    "    resources = dynamic_jobs[dynamic_jobs.profile == 'parallel_homogeneous_profile_0'].groupby('workload_name').agg({'allocated_resources': 'first','proc_alloc': 'first'}).reset_index()\n",
    "    resources['jobID'] = resources.workload_name.apply(lambda s: s.split('%')[1])\n",
    "    resources.set_index('jobID', inplace=True)\n",
    "    resources.drop('workload_name', axis=1, inplace=True)\n",
    "    static_jobs = static_jobs.drop(['allocated_resources', 'proc_alloc'], axis=1).join(resources)\n",
    "    static_jobs['execution_time'] = static_jobs.finish_time - static_jobs.starting_time\n",
    "    static_jobs['waiting_time'] = static_jobs.starting_time - static_jobs.submission_time\n",
    "    static_jobs['turnaround_time'] = static_jobs.finish_time - static_jobs.submission_time\n",
    "    static_jobs['stretch'] = static_jobs.turnaround_time / static_jobs.execution_time\n",
    "    static_jobs.reset_index(inplace=True)\n",
    "    return static_jobs"
   ]
  },
  {
   "cell_type": "code",
   "execution_count": 14,
   "metadata": {},
   "outputs": [],
   "source": [
    "def bounded_slowdown(df):\n",
    "    return (df.turnaround_time / df.execution_time.clip(lower=600)).clip(lower=1)\n",
    "\n",
    "def create_all_data_df():\n",
    "    dfs = []\n",
    "    for schedule in schedule_names:\n",
    "        for i in range(len(jobsets[schedule])):\n",
    "            df = jobsets[schedule][i].df\n",
    "            df = df.assign(schedule=schedule, part=i, bounded_slowdown=bounded_slowdown(df))[['schedule', 'part', 'waiting_time', 'turnaround_time', 'stretch', 'bounded_slowdown']]\n",
    "            df.rename({'stretch': 'slowdown'}, axis=1, inplace=True)\n",
    "            dfs.append(df)\n",
    "    return pd.concat(dfs, axis=0)"
   ]
  },
  {
   "cell_type": "code",
   "execution_count": 9,
   "metadata": {},
   "outputs": [
    {
     "ename": "AttributeError",
     "evalue": "'NoneType' object has no attribute 'df'",
     "output_type": "error",
     "traceback": [
      "\u001b[0;31m---------------------------------------------------------------------------\u001b[0m",
      "\u001b[0;31mAttributeError\u001b[0m                            Traceback (most recent call last)",
      "\u001b[0;32m<ipython-input-9-d8564eff4a9e>\u001b[0m in \u001b[0;36m<module>\u001b[0;34m\u001b[0m\n\u001b[1;32m      1\u001b[0m \u001b[0;32mfor\u001b[0m \u001b[0mschedule\u001b[0m \u001b[0;32min\u001b[0m \u001b[0mschedule_names\u001b[0m\u001b[0;34m:\u001b[0m\u001b[0;34m\u001b[0m\u001b[0;34m\u001b[0m\u001b[0m\n\u001b[1;32m      2\u001b[0m     \u001b[0;32mfor\u001b[0m \u001b[0mi\u001b[0m \u001b[0;32min\u001b[0m \u001b[0mrange\u001b[0m\u001b[0;34m(\u001b[0m\u001b[0mlen\u001b[0m\u001b[0;34m(\u001b[0m\u001b[0mjobsets\u001b[0m\u001b[0;34m[\u001b[0m\u001b[0mschedule\u001b[0m\u001b[0;34m]\u001b[0m\u001b[0;34m)\u001b[0m\u001b[0;34m)\u001b[0m\u001b[0;34m:\u001b[0m\u001b[0;34m\u001b[0m\u001b[0;34m\u001b[0m\u001b[0m\n\u001b[0;32m----> 3\u001b[0;31m         \u001b[0mjobsets\u001b[0m\u001b[0;34m[\u001b[0m\u001b[0mschedule\u001b[0m\u001b[0;34m]\u001b[0m\u001b[0;34m[\u001b[0m\u001b[0mi\u001b[0m\u001b[0;34m]\u001b[0m\u001b[0;34m.\u001b[0m\u001b[0mdf\u001b[0m \u001b[0;34m=\u001b[0m \u001b[0mtransform_jobset_df\u001b[0m\u001b[0;34m(\u001b[0m\u001b[0mjobsets\u001b[0m\u001b[0;34m[\u001b[0m\u001b[0mschedule\u001b[0m\u001b[0;34m]\u001b[0m\u001b[0;34m[\u001b[0m\u001b[0mi\u001b[0m\u001b[0;34m]\u001b[0m\u001b[0;34m.\u001b[0m\u001b[0mdf\u001b[0m\u001b[0;34m)\u001b[0m\u001b[0;34m\u001b[0m\u001b[0;34m\u001b[0m\u001b[0m\n\u001b[0m",
      "\u001b[0;31mAttributeError\u001b[0m: 'NoneType' object has no attribute 'df'"
     ]
    }
   ],
   "source": [
    "for schedule in schedule_names:\n",
    "    for i in range(len(jobsets[schedule])):\n",
    "        jobsets[schedule][i].df = transform_jobset_df(jobsets[schedule][i].df)"
   ]
  },
  {
   "cell_type": "code",
   "execution_count": 64,
   "metadata": {},
   "outputs": [],
   "source": [
    "all_data = create_all_data_df()"
   ]
  },
  {
   "cell_type": "code",
   "execution_count": 65,
   "metadata": {},
   "outputs": [],
   "source": [
    "aggregated = all_data.groupby(['schedule', 'part']).mean()\n",
    "mean_data = aggregated.reset_index(level=[0,1])"
   ]
  },
  {
   "cell_type": "code",
   "execution_count": 66,
   "metadata": {},
   "outputs": [
    {
     "data": {
      "text/plain": [
       "<AxesSubplot:xlabel='schedule', ylabel='waiting_time'>"
      ]
     },
     "execution_count": 66,
     "metadata": {},
     "output_type": "execute_result"
    },
    {
     "data": {
      "image/png": "[encoded data removed]",
      "text/plain": [
       "<Figure size 432x288 with 1 Axes>"
      ]
     },
     "metadata": {
      "needs_background": "light"
     },
     "output_type": "display_data"
    }
   ],
   "source": [
    "sns.boxplot(data=mean_data, x='schedule', y='waiting_time')"
   ]
  },
  {
   "cell_type": "code",
   "execution_count": 67,
   "metadata": {},
   "outputs": [],
   "source": [
    "normalised = aggregated.copy()\n",
    "for schedule in schedule_names:\n",
    "    for i in range(num_parts):\n",
    "        normalised.loc[schedule, i] = aggregated.loc[schedule, i] / aggregated.loc['backfill-sjf-1', i]\n",
    "mean_normalised = normalised.reset_index(level=[0,1])"
   ]
  },
  {
   "cell_type": "code",
   "execution_count": 73,
   "metadata": {},
   "outputs": [
    {
     "data": {
      "text/plain": [
       "<AxesSubplot:xlabel='schedule', ylabel='waiting_time'>"
      ]
     },
     "execution_count": 73,
     "metadata": {},
     "output_type": "execute_result"
    },
    {
     "data": {
      "image/png": "[encoded data removed]",
      "text/plain": [
       "<Figure size 864x576 with 1 Axes>"
      ]
     },
     "metadata": {
      "needs_background": "light"
     },
     "output_type": "display_data"
    }
   ],
   "source": [
    "fig, ax = plt.subplots(figsize=(12,8))\n",
    "\n",
    "sns.boxplot(data=mean_normalised, x='schedule', y='waiting_time', fliersize=False)\n",
    "sns.stripplot(data=mean_normalised, x='schedule', y='waiting_time', color=\".3\")\n",
    "\n",
    "# sns.boxplot(data=mean_normalised, x='schedule', y='waiting_time', fliersize=False, color=\".8\")\n",
    "# sns.swarmplot(data=mean_normalised, x='schedule', y='waiting_time')\n",
    "\n",
    "# sns.violinplot(data=mean_normalised, x='schedule', y='waiting_time', fliersize=False)\n",
    "\n",
    "# sns.violinplot(data=mean_normalised, x='schedule', y='waiting_time', inner=None, color=\".8\")\n",
    "# sns.swarmplot(data=mean_normalised, x='schedule', y='waiting_time')\n",
    "# sns.stripplot(data=mean_normalised, x='schedule', y='waiting_time')"
   ]
  },
  {
   "cell_type": "code",
   "execution_count": null,
   "metadata": {},
   "outputs": [],
   "source": []
  }
 ],
 "metadata": {
  "kernelspec": {
   "display_name": "Python 3",
   "language": "python",
   "name": "python3"
  },
  "language_info": {
   "codemirror_mode": {
    "name": "ipython",
    "version": 3
   },
   "file_extension": ".py",
   "mimetype": "text/x-python",
   "name": "python",
   "nbconvert_exporter": "python",
   "pygments_lexer": "ipython3",
   "version": "3.8.5"
  }
 },
 "nbformat": 4,
 "nbformat_minor": 4
}
