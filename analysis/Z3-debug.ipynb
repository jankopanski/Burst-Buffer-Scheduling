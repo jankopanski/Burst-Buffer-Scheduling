{
 "cells": [
  {
   "cell_type": "code",
   "execution_count": 1,
   "metadata": {},
   "outputs": [],
   "source": [
    "import z3"
   ]
  },
  {
   "cell_type": "code",
   "execution_count": 82,
   "metadata": {},
   "outputs": [],
   "source": [
    "window_size = 2\n",
    "nb_res = 1\n",
    "num_burst_buffers = 1\n",
    "\n",
    "# Number of requested compute nodes\n",
    "# N = [16, 1, 2, 3]\n",
    "N = [1, 1]\n",
    "# Size of requested burst buffer per compute node rounded up to kB\n",
    "# B = [20000000, 884041, 2446271, 609585]\n",
    "B = [1, 1]\n",
    "\n",
    "# i-th job in the window is selected to be scheduled\n",
    "a = [z3.Bool('a_{}'.format(i)) for i in range(window_size)]\n",
    "# j-th compute node is assigned to i-th job\n",
    "c = [[z3.Bool('c_{}_{}'.format(i, j)) for j in range(nb_res)]\n",
    "     for i in range(window_size)]\n",
    "# k-th storage node is assigned to j-th compute node\n",
    "b = [[z3.Bool('b_{}_{}'.format(j, k)) for k in range(num_burst_buffers)]\n",
    "     for j in range(nb_res)]\n",
    "\n",
    "# z3.set_param('parallel.enable', True)\n",
    "o = z3.Optimize()\n",
    "o.set(priority='lex')\n",
    "\n",
    "# First job from the queue must always be selected\n",
    "o.add(a[0] == True)\n",
    "# Each application must receive requested number of nodes if selected\n",
    "for i in range(window_size):\n",
    "    proc_count = [(c[i][j], 1) for j in range(nb_res)]\n",
    "    all_proc_not = [z3.Not(c[i][j]) for j in range(nb_res)]\n",
    "    o.add(z3.If(a[i], z3.PbEq(proc_count, N[i]), z3.And(all_proc_not)))\n",
    "# Each compute node can be assigned to only one application\n",
    "for j in range(nb_res):\n",
    "    o.add(z3.PbLe([(c[i][j], 1) for i in range(window_size)], 1))\n",
    "# Each selected compute node is assigned with exactly one storage node\n",
    "for j in range(nb_res):\n",
    "    any_proc = [c[i][j] for i in range(window_size)]\n",
    "    bb_count = [(b[j][k], 1) for k in range(num_burst_buffers)]\n",
    "    all_bb_not = [z3.Not(b[j][k]) for k in range(num_burst_buffers)]\n",
    "    o.add(z3.If(z3.Or(any_proc), z3.PbEq(storage_count, 1), z3.And(all_bb_not)))\n",
    "# Limit burst buffer assignments by the available space\n",
    "for k in range(num_burst_buffers):\n",
    "    storage_sum = [(z3.And(c[i][j], b[j][k]), B[i])\n",
    "                   for i in range(window_size) for j in range(nb_res)]\n",
    "    # Available burst buffer space rounded down to kB\n",
    "    BBAvail = 1\n",
    "    o.add(z3.PbLe(storage_sum, BBAvail))\n",
    "\n",
    "# Maximise compute utilisation\n",
    "compute = o.maximize(z3.Sum([z3.If(a[i], N[i], 0) for i in range(window_size)]))\n",
    "# Maximise burst buffer utilisation\n",
    "storage = o.maximize(z3.Sum([z3.If(a[i], N[i] * B[i], 0) for i in range(window_size)]))"
   ]
  },
  {
   "cell_type": "code",
   "execution_count": 83,
   "metadata": {},
   "outputs": [
    {
     "data": {
      "text/html": [
       "(set-option :opt.priority lex)\n",
       "(declare-fun a_0 () Bool)\n",
       "(declare-fun c_0_0 () Bool)\n",
       "(declare-fun c_1_0 () Bool)\n",
       "(declare-fun a_1 () Bool)\n",
       "(declare-fun b_0_0 () Bool)\n",
       "(assert (= a_0 true))\n",
       "(assert (ite a_0 ((_ pbeq 1 1) c_0_0) (and (not c_0_0))))\n",
       "(assert (ite a_1 ((_ pbeq 1 1) c_1_0) (and (not c_1_0))))\n",
       "(assert ((_ at-most 1) c_0_0 c_1_0))\n",
       "(assert (ite (or c_0_0 c_1_0) ((_ pbeq 1 1) b_0_0) (and (not b_0_0))))\n",
       "(assert ((_ at-most 1) (and c_0_0 b_0_0) (and c_1_0 b_0_0)))\n",
       "(maximize (+ (ite a_0 1 0) (ite a_1 1 0)))\n",
       "(maximize (+ (ite a_0 1 0) (ite a_1 1 0)))\n",
       "(check-sat)\n"
      ],
      "text/plain": [
       "(set-option :opt.priority lex)\n",
       "(declare-fun a_0 () Bool)\n",
       "(declare-fun c_0_0 () Bool)\n",
       "(declare-fun c_1_0 () Bool)\n",
       "(declare-fun a_1 () Bool)\n",
       "(declare-fun b_0_0 () Bool)\n",
       "(assert (= a_0 true))\n",
       "(assert (ite a_0 ((_ pbeq 1 1) c_0_0) (and (not c_0_0))))\n",
       "(assert (ite a_1 ((_ pbeq 1 1) c_1_0) (and (not c_1_0))))\n",
       "(assert ((_ at-most 1) c_0_0 c_1_0))\n",
       "(assert (ite (or c_0_0 c_1_0) ((_ pbeq 1 1) b_0_0) (and (not b_0_0))))\n",
       "(assert ((_ at-most 1) (and c_0_0 b_0_0) (and c_1_0 b_0_0)))\n",
       "(maximize (+ (ite a_0 1 0) (ite a_1 1 0)))\n",
       "(maximize (+ (ite a_0 1 0) (ite a_1 1 0)))\n",
       "(check-sat)"
      ]
     },
     "execution_count": 83,
     "metadata": {},
     "output_type": "execute_result"
    }
   ],
   "source": [
    "o"
   ]
  },
  {
   "cell_type": "code",
   "execution_count": 84,
   "metadata": {},
   "outputs": [
    {
     "data": {
      "text/html": [
       "<b>sat</b>"
      ],
      "text/plain": [
       "sat"
      ]
     },
     "execution_count": 84,
     "metadata": {},
     "output_type": "execute_result"
    }
   ],
   "source": [
    "o.check()"
   ]
  },
  {
   "cell_type": "code",
   "execution_count": 85,
   "metadata": {},
   "outputs": [
    {
     "data": {
      "text/html": [
       "[]"
      ],
      "text/plain": [
       "[]"
      ]
     },
     "execution_count": 85,
     "metadata": {},
     "output_type": "execute_result"
    }
   ],
   "source": [
    "o.unsat_core()"
   ]
  },
  {
   "cell_type": "code",
   "execution_count": 86,
   "metadata": {},
   "outputs": [
    {
     "data": {
      "text/html": [
       "[b_0_0 = True,\n",
       " c_1_0 = False,\n",
       " a_1 = False,\n",
       " c_0_0 = True,\n",
       " a_0 = True]"
      ],
      "text/plain": [
       "[b_0_0 = True,\n",
       " c_1_0 = False,\n",
       " a_1 = False,\n",
       " c_0_0 = True,\n",
       " a_0 = True]"
      ]
     },
     "execution_count": 86,
     "metadata": {},
     "output_type": "execute_result"
    }
   ],
   "source": [
    "o.model()"
   ]
  },
  {
   "cell_type": "code",
   "execution_count": 87,
   "metadata": {},
   "outputs": [
    {
     "data": {
      "text/html": [
       "1"
      ],
      "text/plain": [
       "1"
      ]
     },
     "execution_count": 87,
     "metadata": {},
     "output_type": "execute_result"
    }
   ],
   "source": [
    "compute.value()"
   ]
  },
  {
   "cell_type": "code",
   "execution_count": 88,
   "metadata": {},
   "outputs": [
    {
     "data": {
      "text/html": [
       "1"
      ],
      "text/plain": [
       "1"
      ]
     },
     "execution_count": 88,
     "metadata": {},
     "output_type": "execute_result"
    }
   ],
   "source": [
    "storage.value()"
   ]
  },
  {
   "cell_type": "code",
   "execution_count": 89,
   "metadata": {},
   "outputs": [
    {
     "data": {
      "text/plain": [
       "(:eliminated-vars 5\n",
       " :max-memory      10.01\n",
       " :memory          10.00\n",
       " :num-allocs      1996318\n",
       " :rlimit-count    2726311\n",
       " :sat-decisions   1\n",
       " :sat-mk-var      1)"
      ]
     },
     "execution_count": 89,
     "metadata": {},
     "output_type": "execute_result"
    }
   ],
   "source": [
    "o.statistics()"
   ]
  },
  {
   "cell_type": "code",
   "execution_count": 90,
   "metadata": {},
   "outputs": [
    {
     "name": "stdout",
     "output_type": "stream",
     "text": [
      "ctrl_c (bool) enable interrupts from ctrl-c (default: true)\n",
      "dump_benchmarks (bool) dump benchmarks for profiling (default: false)\n",
      "dump_models (bool) display intermediary models to stdout (default: false)\n",
      "elim_01 (bool) eliminate 01 variables (default: true)\n",
      "enable_sat (bool) enable the new SAT core for propositional constraints (default: true)\n",
      "enable_sls (bool) enable SLS tuning during weighted maxsast (default: false)\n",
      "maxlex.enable (bool) enable maxlex heuristic for lexicographic MaxSAT problems (default: true)\n",
      "maxres.add_upper_bound_block (bool) restict upper bound with constraint (default: false)\n",
      "maxres.hill_climb (bool) give preference for large weight cores (default: true)\n",
      "maxres.max_core_size (unsigned int) break batch of generated cores if size reaches this number (default: 3)\n",
      "maxres.max_correction_set_size (unsigned int) allow generating correction set constraints up to maximal size (default: 3)\n",
      "maxres.max_num_cores (unsigned int) maximal number of cores per round (default: 4294967295)\n",
      "maxres.maximize_assignment (bool) find an MSS/MCS to improve current assignment (default: false)\n",
      "maxres.pivot_on_correction_set (bool) reduce soft constraints if the current correction set is smaller than current core (default: true)\n",
      "maxres.wmax (bool) use weighted theory solver to constrain upper bounds (default: false)\n",
      "maxsat_engine (symbol) select engine for maxsat: 'core_maxsat', 'wmax', 'maxres', 'pd-maxres' (default: maxres)\n",
      "optsmt_engine (symbol) select optimization engine: 'basic', 'symba' (default: basic)\n",
      "pb.compile_equality (bool) compile arithmetical equalities into pseudo-Boolean equality (instead of two inequalites) (default: false)\n",
      "pp.neat (bool) use neat (as opposed to less readable, but faster) pretty printer when displaying context (default: true)\n",
      "priority (symbol) select how to priortize objectives: 'lex' (lexicographic), 'pareto', 'box' (default: lex)\n",
      "rlimit (unsigned int) resource limit (0 means no limit) (default: 0)\n",
      "solution_prefix (symbol) path prefix to dump intermediary, but non-optimal, solutions (default: )\n",
      "timeout (unsigned int) timeout (in milliseconds) (UINT_MAX and 0 mean no timeout) (default: 4294967295)\n",
      "\n"
     ]
    }
   ],
   "source": [
    "o.help()"
   ]
  },
  {
   "cell_type": "code",
   "execution_count": null,
   "metadata": {},
   "outputs": [],
   "source": []
  }
 ],
 "metadata": {
  "kernelspec": {
   "display_name": "Python 3",
   "language": "python",
   "name": "python3"
  },
  "language_info": {
   "codemirror_mode": {
    "name": "ipython",
    "version": 3
   },
   "file_extension": ".py",
   "mimetype": "text/x-python",
   "name": "python",
   "nbconvert_exporter": "python",
   "pygments_lexer": "ipython3",
   "version": "3.6.9"
  }
 },
 "nbformat": 4,
 "nbformat_minor": 4
}
